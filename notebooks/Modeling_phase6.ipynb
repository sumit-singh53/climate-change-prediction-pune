{
 "cells": [
  {
   "cell_type": "code",
   "id": "initial_id",
   "metadata": {
    "collapsed": true,
    "ExecuteTime": {
     "end_time": "2025-10-08T18:14:01.093282Z",
     "start_time": "2025-10-08T18:14:01.078482Z"
    }
   },
   "source": [
    "# Modeling_Phase6.ipynb — Temperature only (RF & LSTM)\n",
    "# Phase 6: Model Training & Evaluation\n",
    "\n",
    "PROJECT_TITLE = \"Climate Change Prediction — Pune (Phase 6: Temperature)\"\n",
    "SEED = 42\n",
    "TARGET_COL = \"temperature\"\n",
    "DATE_COL = \"date\"\n",
    "\n",
    "LOOKBACK = 12\n",
    "FORECAST_HORIZON = 1\n",
    "CV_FOLDS = 5\n",
    "\n",
    "import os\n",
    "DATA_PATH = \"../data/processed/pune_climate_with_co2.csv\"\n",
    "\n",
    "if not os.path.exists(DATA_PATH):\n",
    "    raise FileNotFoundError(\n",
    "        f\"{DATA_PATH} not found.\\n\"\n",
    "        \"➡ Move pune_climate_with_co2.csv to data/processed/ or adjust the path accordingly.\"\n",
    "    )\n",
    "\n",
    "print(\"✅ DATA_PATH ->\", os.path.abspath(DATA_PATH))"
   ],
   "outputs": [
    {
     "name": "stdout",
     "output_type": "stream",
     "text": [
      "✅ DATA_PATH -> /Users/bishun/climate_change_prediction_pune/data/processed/pune_climate_with_co2.csv\n"
     ]
    }
   ],
   "execution_count": 15
  },
  {
   "metadata": {
    "ExecuteTime": {
     "end_time": "2025-10-08T18:14:01.109443Z",
     "start_time": "2025-10-08T18:14:01.104102Z"
    }
   },
   "cell_type": "code",
   "source": [
    "# If running first time, uncomment:\n",
    "# %pip install numpy pandas scikit-learn==1.5.1 seaborn==0.13.2 plotly==5.24.1 shap==0.46.0 tensorflow==2.16.2\n",
    "\n",
    "import os, warnings\n",
    "warnings.filterwarnings(\"ignore\")\n",
    "\n",
    "import numpy as np\n",
    "import pandas as pd\n",
    "\n",
    "from sklearn.model_selection import TimeSeriesSplit\n",
    "from sklearn.metrics import mean_absolute_error, mean_squared_error, r2_score\n",
    "from sklearn.ensemble import RandomForestRegressor\n",
    "from sklearn.inspection import permutation_importance\n",
    "\n",
    "import shap\n",
    "\n",
    "import plotly.graph_objects as go\n",
    "import plotly.express as px\n",
    "import seaborn as sns\n",
    "import matplotlib.pyplot as plt\n",
    "\n",
    "import tensorflow as tf\n",
    "from tensorflow import keras\n",
    "from tensorflow.keras import layers\n",
    "print(\"TF:\", tf.__version__)"
   ],
   "id": "ac509f4aa7c2f4cc",
   "outputs": [
    {
     "name": "stdout",
     "output_type": "stream",
     "text": [
      "TF: 2.16.2\n"
     ]
    }
   ],
   "execution_count": 16
  },
  {
   "metadata": {
    "ExecuteTime": {
     "end_time": "2025-10-08T18:14:01.123826Z",
     "start_time": "2025-10-08T18:14:01.119879Z"
    }
   },
   "cell_type": "code",
   "source": [
    "# Enable MPS if available (Apple Silicon)\n",
    "mps = tf.config.list_physical_devices(\"GPU\")\n",
    "print(\"MPS devices:\", mps)\n",
    "\n",
    "# Mixed precision for speed on M1\n",
    "try:\n",
    "    from tensorflow.keras import mixed_precision\n",
    "    policy = mixed_precision.Policy('mixed_float16')\n",
    "    mixed_precision.set_global_policy(policy)\n",
    "    print(\"Mixed precision policy set:\", policy)\n",
    "except Exception as e:\n",
    "    print(\"Mixed precision not set:\", e)"
   ],
   "id": "7531008a14140d19",
   "outputs": [
    {
     "name": "stdout",
     "output_type": "stream",
     "text": [
      "MPS devices: [PhysicalDevice(name='/physical_device:GPU:0', device_type='GPU')]\n",
      "Mixed precision policy set: <DTypePolicy \"mixed_float16\">\n"
     ]
    }
   ],
   "execution_count": 17
  },
  {
   "metadata": {
    "ExecuteTime": {
     "end_time": "2025-10-08T18:14:01.226677Z",
     "start_time": "2025-10-08T18:14:01.143459Z"
    }
   },
   "cell_type": "code",
   "source": [
    "import pandas as pd\n",
    "import numpy as np\n",
    "import re\n",
    "\n",
    "# --- Load (CSV only) ---\n",
    "df_raw = pd.read_csv(DATA_PATH)\n",
    "\n",
    "# 1) Normalize column names\n",
    "df_raw.columns = [c.strip().lower() for c in df_raw.columns]\n",
    "\n",
    "# 2) Flexible aliasing (handles temp_c, humidity_pct, rainfall_mm, etc.)\n",
    "explicit = {\n",
    "    \"dt\":\"date\",\"time\":\"date\",\"timestamp\":\"date\",\n",
    "    \"tavg\":\"temperature\",\"avg_temp\":\"temperature\",\"mean_temp\":\"temperature\",\n",
    "    \"rh\":\"humidity\",\"relative_humidity\":\"humidity\",\n",
    "    \"precip\":\"rainfall\",\"precipitation\":\"rainfall\",\"prcp\":\"rainfall\",\n",
    "    \"carbon_dioxide\":\"co2\",\"co2_ppm\":\"co2\",\n",
    "    \"temp_c\":\"temperature\",\"humidity_pct\":\"humidity\",\"rainfall_mm\":\"rainfall\",\n",
    "}\n",
    "cols = df_raw.columns.tolist()\n",
    "mapped = {}\n",
    "\n",
    "def smart_guess(name):\n",
    "    n = name.lower()\n",
    "    if n in explicit:\n",
    "        return explicit[n]\n",
    "    if n == \"date\":\n",
    "        return \"date\"\n",
    "    if n == \"co2\" or \"co2\" in n:\n",
    "        return \"co2\"\n",
    "    # heuristics\n",
    "    if re.search(r\"\\btemp\\b|temperature|^t_\", n):\n",
    "        return \"temperature\"\n",
    "    if \"humid\" in n or n.endswith(\"_pct\") or n.endswith(\"_percent\"):\n",
    "        return \"humidity\"\n",
    "    if \"rain\" in n or \"precip\" in n or n.endswith(\"_mm\"):\n",
    "        return \"rainfall\"\n",
    "    return name  # leave others as-is\n",
    "\n",
    "for c in cols:\n",
    "    tgt = smart_guess(c)\n",
    "    # avoid accidental collisions: if two map to same target, keep the first\n",
    "    if tgt in mapped.values() and tgt in {\"temperature\",\"humidity\",\"rainfall\",\"date\",\"co2\"}:\n",
    "        # keep original name for duplicates\n",
    "        mapped[c] = c\n",
    "    else:\n",
    "        mapped[c] = tgt\n",
    "\n",
    "df_raw = df_raw.rename(columns=mapped)\n",
    "\n",
    "# 3) Hard requirements (after mapping)\n",
    "required = {\"date\",\"temperature\"}\n",
    "missing = [c for c in required if c not in df_raw.columns]\n",
    "if missing:\n",
    "    raise KeyError(\n",
    "        f\"Required columns missing after mapping: {missing}\\n\"\n",
    "        f\"Original columns: {cols}\\nMapped columns: {list(df_raw.columns)}\"\n",
    "    )\n",
    "\n",
    "# 4) Parse dates, sort, de-dup\n",
    "df = df_raw.copy()\n",
    "df[\"date\"] = pd.to_datetime(df[\"date\"], errors=\"coerce\")\n",
    "df = (df.dropna(subset=[\"date\"])\n",
    "        .sort_values(\"date\")\n",
    "        .drop_duplicates(subset=[\"date\"])\n",
    "        .reset_index(drop=True))\n",
    "\n",
    "# 5) Detect cadence → resample to monthly only if daily-like\n",
    "is_daily_like = False\n",
    "if len(df) > 5:\n",
    "    dgap = df[\"date\"].diff().dt.days.dropna()\n",
    "    is_daily_like = (not dgap.empty) and (dgap.median() <= 3)\n",
    "\n",
    "if is_daily_like:\n",
    "    agg_map = {}\n",
    "    if \"temperature\" in df.columns: agg_map[\"temperature\"] = \"mean\"\n",
    "    if \"humidity\"    in df.columns: agg_map[\"humidity\"]    = \"mean\"\n",
    "    if \"rainfall\"    in df.columns: agg_map[\"rainfall\"]    = \"sum\"\n",
    "    if \"co2\"         in df.columns: agg_map[\"co2\"]         = \"mean\"\n",
    "    for c in df.select_dtypes(include=[np.number]).columns:\n",
    "        if c not in agg_map:\n",
    "            agg_map[c] = \"mean\"\n",
    "\n",
    "    df = (df.set_index(\"date\")\n",
    "            .resample(\"MS\")\n",
    "            .agg(agg_map)\n",
    "            .reset_index())\n",
    "else:\n",
    "    # align to month start without aggregating if already monthly-ish\n",
    "    df[\"date\"] = df[\"date\"].dt.to_period(\"M\").dt.to_timestamp(\"MS\")\n",
    "    group_map = {}\n",
    "    if \"temperature\" in df.columns: group_map[\"temperature\"] = \"mean\"\n",
    "    if \"humidity\"    in df.columns: group_map[\"humidity\"]    = \"mean\"\n",
    "    if \"rainfall\"    in df.columns: group_map[\"rainfall\"]    = \"sum\"\n",
    "    if \"co2\"         in df.columns: group_map[\"co2\"]         = \"mean\"\n",
    "    df = df.groupby(\"date\", as_index=False).agg(group_map)\n",
    "\n",
    "# 6) Enforce continuous monthly index (keeps NaNs for missing months)\n",
    "full_months = pd.date_range(df[\"date\"].min(), df[\"date\"].max(), freq=\"MS\")\n",
    "df = df.set_index(\"date\").reindex(full_months).rename_axis(\"date\").reset_index()\n",
    "\n",
    "# 7) Downcast numerics\n",
    "for c in df.select_dtypes(include=[np.number]).columns:\n",
    "    df[c] = pd.to_numeric(df[c], errors=\"coerce\").astype(\"float32\")\n",
    "\n",
    "# 8) Quick sanity\n",
    "print(\"✅ Data loaded and normalized\")\n",
    "print(df.head(3))\n",
    "print(df.tail(3))\n",
    "print(\"Shape:\", df.shape)\n",
    "print(\"Columns:\", list(df.columns))\n",
    "print(\"Missing (any):\", {k:int(v) for k,v in df.isna().sum().items()})"
   ],
   "id": "bf3468af3e5d5006",
   "outputs": [
    {
     "name": "stdout",
     "output_type": "stream",
     "text": [
      "✅ Data loaded and normalized\n",
      "        date  temperature  humidity  rainfall  co2  solar_mj\n",
      "0 1951-01-01          NaN       NaN  0.478959  NaN       NaN\n",
      "1 1951-02-01          NaN       NaN  0.000000  NaN       NaN\n",
      "2 1951-03-01          NaN       NaN  0.000000  NaN       NaN\n",
      "          date  temperature   humidity   rainfall         co2   solar_mj\n",
      "885 2024-10-01    23.871290  85.861610  54.016285  422.380005  17.139677\n",
      "886 2024-11-01    19.811001  77.268669   0.000000  423.850006  16.416666\n",
      "887 2024-12-01    20.016775  74.492256   6.223917  425.399994  15.373871\n",
      "Shape: (888, 6)\n",
      "Columns: ['date', 'temperature', 'humidity', 'rainfall', 'co2', 'solar_mj']\n",
      "Missing (any): {'date': 0, 'temperature': 360, 'humidity': 360, 'rainfall': 0, 'co2': 86, 'solar_mj': 396}\n"
     ]
    }
   ],
   "execution_count": 18
  },
  {
   "metadata": {
    "ExecuteTime": {
     "end_time": "2025-10-08T18:14:01.252592Z",
     "start_time": "2025-10-08T18:14:01.239234Z"
    }
   },
   "cell_type": "code",
   "source": [
    "# Create safe feature set: lag(1,3,12) and rolling mean(3,12) for key drivers\n",
    "work = df.copy()\n",
    "\n",
    "def add_lags_rolls(frame, base_cols, lags=(1,3,12), rolls=(3,12)):\n",
    "    f = frame.copy()\n",
    "    for col in base_cols:\n",
    "        for L in lags:\n",
    "            f[f\"{col}_lag{L}\"] = f[col].shift(L)\n",
    "        for W in rolls:\n",
    "            f[f\"{col}_roll{W}\"] = f[col].rolling(W, min_periods=1).mean()\n",
    "    return f\n",
    "\n",
    "base_cols = [\"temperature\",\"rainfall\",\"humidity\"]\n",
    "# include external drivers if present\n",
    "if \"co2\" in work.columns:\n",
    "    base_cols.append(\"co2\")\n",
    "\n",
    "feat = add_lags_rolls(work, base_cols)\n",
    "\n",
    "# Drop initial rows with NaN due to lags\n",
    "feat = feat.dropna().reset_index(drop=True)\n",
    "\n",
    "feat.head(3), feat.shape"
   ],
   "id": "9cdfdb49ef07ab45",
   "outputs": [
    {
     "data": {
      "text/plain": [
       "(        date  temperature   humidity  rainfall         co2   solar_mj  \\\n",
       " 0 1984-01-01    19.133549  53.152905   0.00000  344.209991  17.789032   \n",
       " 1 1984-02-01    21.581724  46.357586  33.89468  344.920013  19.963448   \n",
       " 2 1984-03-01    26.988386  32.670647   0.00000  345.679993  23.425806   \n",
       " \n",
       "    temperature_lag1  temperature_lag3  temperature_lag12  temperature_roll3  \\\n",
       " 0         19.552580         21.650644          19.338709          19.218487   \n",
       " 1         19.133549         18.969334          19.526428          20.089284   \n",
       " 2         21.581724         19.552580          23.983549          22.567886   \n",
       " \n",
       "    ...  humidity_lag1  humidity_lag3  humidity_lag12  humidity_roll3  \\\n",
       " 0  ...      67.819351      85.344513       50.767742       64.301863   \n",
       " 1  ...      53.152905      71.933334       49.241428       55.776614   \n",
       " 2  ...      46.357586      67.819351       44.738064       44.060379   \n",
       " \n",
       "    humidity_roll12    co2_lag1    co2_lag3   co2_lag12   co2_roll3  co2_roll12  \n",
       " 0        68.120282  343.200012  340.529999  341.570007  343.066671  343.372503  \n",
       " 1        67.879962  344.209991  341.790009  342.779999  344.110006  343.550837  \n",
       " 2        66.874344  344.920013  343.200012  343.369995  344.936666  343.743337  \n",
       " \n",
       " [3 rows x 26 columns],\n",
       " (492, 26))"
      ]
     },
     "execution_count": 19,
     "metadata": {},
     "output_type": "execute_result"
    }
   ],
   "execution_count": 19
  },
  {
   "metadata": {
    "ExecuteTime": {
     "end_time": "2025-10-08T18:14:01.269670Z",
     "start_time": "2025-10-08T18:14:01.264368Z"
    }
   },
   "cell_type": "code",
   "source": [
    "N = len(feat)\n",
    "train_end = int(0.70 * N)\n",
    "val_end   = int(0.85 * N)\n",
    "\n",
    "train = feat.iloc[:train_end].copy()\n",
    "val   = feat.iloc[train_end:val_end].copy()\n",
    "test  = feat.iloc[val_end:].copy()\n",
    "\n",
    "feature_cols = [c for c in feat.columns if c not in [DATE_COL, TARGET_COL]]\n",
    "\n",
    "X_train, y_train = train[feature_cols], train[TARGET_COL]\n",
    "X_val,   y_val   = val[feature_cols],   val[TARGET_COL]\n",
    "X_test,  y_test  = test[feature_cols],  test[TARGET_COL]\n",
    "\n",
    "print(\"Splits:\", len(train), len(val), len(test))"
   ],
   "id": "5733494a8295f965",
   "outputs": [
    {
     "name": "stdout",
     "output_type": "stream",
     "text": [
      "Splits: 344 74 74\n"
     ]
    }
   ],
   "execution_count": 20
  },
  {
   "metadata": {
    "ExecuteTime": {
     "end_time": "2025-10-08T18:14:01.279775Z",
     "start_time": "2025-10-08T18:14:01.276438Z"
    }
   },
   "cell_type": "code",
   "source": [
    "def metrics(y_true, y_pred, prefix=\"\"):\n",
    "    mae = mean_absolute_error(y_true, y_pred)\n",
    "    rmse = mean_squared_error(y_true, y_pred, squared=False)\n",
    "    r2 = r2_score(y_true, y_pred)\n",
    "    mape = (np.abs((y_true - y_pred) / np.clip(np.abs(y_true), 1e-6, None))).mean() * 100.0\n",
    "    return {\n",
    "        f\"{prefix}MAE\": mae, f\"{prefix}RMSE\": rmse,\n",
    "        f\"{prefix}R2\": r2,   f\"{prefix}MAPE\": mape\n",
    "    }\n",
    "\n",
    "def plotly_actual_vs_pred(df_time, y_true, y_pred, title, date_index):\n",
    "    fig = go.Figure()\n",
    "    fig.add_trace(go.Scatter(x=date_index, y=y_true, mode='lines', name='Actual'))\n",
    "    fig.add_trace(go.Scatter(x=date_index, y=y_pred, mode='lines', name='Predicted'))\n",
    "    fig.update_layout(title=title, xaxis_title=\"Date\", yaxis_title=\"Temperature (°C)\", hovermode=\"x unified\")\n",
    "    fig.show()\n",
    "\n",
    "def seaborn_residuals(y_true, y_pred, title=\"Residuals\"):\n",
    "    residuals = y_true - y_pred\n",
    "    fig, ax = plt.subplots(figsize=(6,4))\n",
    "    sns.kdeplot(residuals, fill=True, ax=ax)\n",
    "    ax.axvline(0, ls=\"--\", lw=1, color=\"black\")\n",
    "    ax.set_title(title)\n",
    "    ax.set_xlabel(\"Residual (°C)\")\n",
    "    plt.tight_layout()\n",
    "    plt.show()"
   ],
   "id": "215013999b040d4",
   "outputs": [],
   "execution_count": 21
  },
  {
   "metadata": {
    "ExecuteTime": {
     "end_time": "2025-10-08T18:14:15.720090Z",
     "start_time": "2025-10-08T18:14:01.289942Z"
    }
   },
   "cell_type": "code",
   "source": [
    "# ---- Metrics helper (version-safe + baseline support) ----\n",
    "def metrics(y_true, y_pred, prefix=\"\"):\n",
    "    y_true = np.asarray(y_true, dtype=float).ravel()\n",
    "    y_pred = np.asarray(y_pred, dtype=float).ravel()\n",
    "\n",
    "    mae = mean_absolute_error(y_true, y_pred)\n",
    "    mse = mean_squared_error(y_true, y_pred)   # version-safe\n",
    "    rmse = np.sqrt(mse)\n",
    "    r2 = r2_score(y_true, y_pred)\n",
    "    mape = (np.abs((y_true - y_pred) / np.clip(np.abs(y_true), 1e-6, None))).mean() * 100.0\n",
    "    return {f\"{prefix}MAE\": mae, f\"{prefix}RMSE\": rmse, f\"{prefix}R2\": r2, f\"{prefix}MAPE\": mape}\n",
    "\n",
    "# ---- Naïve baseline (persistence: predict previous month's temperature) ----\n",
    "naive_pred = y_test.shift(1).fillna(method=\"bfill\")   # 1-step lag baseline\n",
    "naive_rmse = np.sqrt(mean_squared_error(y_test, naive_pred))\n",
    "print(f\"Naïve baseline RMSE: {naive_rmse:.3f}\")\n",
    "\n",
    "def skill_score_rmse(rmse_model, rmse_naive):\n",
    "    \"\"\"Skill score: 1 − (model_RMSE / naive_RMSE)\"\"\"\n",
    "    return 1.0 - (rmse_model / rmse_naive)\n",
    "\n",
    "# ---- Random Forest Walk-Forward CV ----\n",
    "X_trval = pd.concat([X_train, X_val], axis=0)\n",
    "y_trval = pd.concat([y_train, y_val], axis=0)\n",
    "\n",
    "tscv = TimeSeriesSplit(n_splits=CV_FOLDS)\n",
    "cv_rows, best_params, best_rmse = [], None, float(\"inf\")\n",
    "\n",
    "param_grid = {\n",
    "    \"n_estimators\": [300, 600],\n",
    "    \"max_depth\": [None, 12, 18],\n",
    "    \"min_samples_leaf\": [1, 2],\n",
    "    \"max_features\": [\"sqrt\"]\n",
    "}\n",
    "\n",
    "for n in param_grid[\"n_estimators\"]:\n",
    "    for d in param_grid[\"max_depth\"]:\n",
    "        for msl in param_grid[\"min_samples_leaf\"]:\n",
    "            for mf in param_grid[\"max_features\"]:\n",
    "                fold_metrics = []\n",
    "                for fold, (train_idx, val_idx) in enumerate(tscv.split(X_trval)):\n",
    "                    X_tr_, X_val_ = X_trval.iloc[train_idx], X_trval.iloc[val_idx]\n",
    "                    y_tr_, y_val_ = y_trval.iloc[train_idx], y_trval.iloc[val_idx]\n",
    "\n",
    "                    rf = RandomForestRegressor(\n",
    "                        n_estimators=n, max_depth=d, min_samples_leaf=msl,\n",
    "                        max_features=mf, random_state=SEED, n_jobs=-1\n",
    "                    )\n",
    "                    rf.fit(X_tr_, y_tr_)\n",
    "                    pred = rf.predict(X_val_)\n",
    "                    ms = metrics(y_val_, pred, prefix=\"\")\n",
    "                    ms.update({\n",
    "                        \"fold\": fold,\n",
    "                        \"n_estimators\": n,\n",
    "                        \"max_depth\": d,\n",
    "                        \"min_samples_leaf\": msl,\n",
    "                        \"max_features\": mf\n",
    "                    })\n",
    "                    fold_metrics.append(ms)\n",
    "\n",
    "                rmse_mean = np.mean([m[\"RMSE\"] for m in fold_metrics])\n",
    "                if rmse_mean < best_rmse:\n",
    "                    best_rmse, best_params = rmse_mean, (n, d, msl, mf)\n",
    "                cv_rows.extend(fold_metrics)\n",
    "                print(f\"Grid ({n},{d},{msl},{mf}) → CV RMSE ≈ {rmse_mean:.3f}\")\n",
    "\n",
    "cv_df = pd.DataFrame(cv_rows)\n",
    "display(cv_df.groupby([\"n_estimators\",\"max_depth\",\"min_samples_leaf\",\"max_features\"])\n",
    "        [[\"MAE\",\"RMSE\",\"R2\",\"MAPE\"]].mean().sort_values(\"RMSE\").head(10))\n",
    "\n",
    "print(f\"\\n✅ Best RF params = {best_params}, CV RMSE = {best_rmse:.3f}\")\n",
    "\n",
    "# ---- Train final RF on TRAIN+VAL with best params ----\n",
    "n, d, msl, mf = best_params\n",
    "rf_final = RandomForestRegressor(\n",
    "    n_estimators=n, max_depth=d, min_samples_leaf=msl,\n",
    "    max_features=mf, random_state=SEED, n_jobs=-1\n",
    ")\n",
    "rf_final.fit(X_trval, y_trval)\n",
    "\n",
    "# ---- Evaluate ----\n",
    "rf_test_pred = rf_final.predict(X_test)\n",
    "rf_val_pred  = rf_final.predict(X_val)\n",
    "\n",
    "rf_test_metrics = metrics(y_test, rf_test_pred, prefix=\"RF Test \")\n",
    "rf_val_metrics  = metrics(y_val,  rf_val_pred,  prefix=\"RF Val \")\n",
    "\n",
    "# ---- Add skill score vs naïve ----\n",
    "rf_test_metrics[\"RF Test Skill Score\"] = skill_score_rmse(rf_test_metrics[\"RF Test RMSE\"], naive_rmse)\n",
    "rf_val_metrics[\"RF Val Skill Score\"]  = skill_score_rmse(rf_val_metrics[\"RF Val RMSE\"],  naive_rmse)\n",
    "\n",
    "print(\"\\nRF Validation metrics:\\n\", rf_val_metrics)\n",
    "print(\"\\nRF Test metrics:\\n\", rf_test_metrics)"
   ],
   "id": "f7c842a3957c865d",
   "outputs": [
    {
     "name": "stdout",
     "output_type": "stream",
     "text": [
      "Naïve baseline RMSE: 2.261\n",
      "Grid (300,None,1,sqrt) → CV RMSE ≈ 0.777\n",
      "Grid (300,None,2,sqrt) → CV RMSE ≈ 0.777\n",
      "Grid (300,12,1,sqrt) → CV RMSE ≈ 0.775\n",
      "Grid (300,12,2,sqrt) → CV RMSE ≈ 0.778\n",
      "Grid (300,18,1,sqrt) → CV RMSE ≈ 0.777\n",
      "Grid (300,18,2,sqrt) → CV RMSE ≈ 0.777\n",
      "Grid (600,None,1,sqrt) → CV RMSE ≈ 0.768\n",
      "Grid (600,None,2,sqrt) → CV RMSE ≈ 0.775\n",
      "Grid (600,12,1,sqrt) → CV RMSE ≈ 0.766\n",
      "Grid (600,12,2,sqrt) → CV RMSE ≈ 0.776\n",
      "Grid (600,18,1,sqrt) → CV RMSE ≈ 0.769\n",
      "Grid (600,18,2,sqrt) → CV RMSE ≈ 0.775\n"
     ]
    },
    {
     "data": {
      "text/plain": [
       "                                                           MAE      RMSE  \\\n",
       "n_estimators max_depth min_samples_leaf max_features                       \n",
       "600          12.0      1                sqrt          0.586568  0.766133   \n",
       "             18.0      1                sqrt          0.588837  0.768674   \n",
       "300          12.0      1                sqrt          0.592248  0.774779   \n",
       "600          18.0      2                sqrt          0.595522  0.775023   \n",
       "             12.0      2                sqrt          0.596176  0.775664   \n",
       "300          18.0      1                sqrt          0.594459  0.776570   \n",
       "                       2                sqrt          0.596412  0.777230   \n",
       "             12.0      2                sqrt          0.596880  0.778040   \n",
       "\n",
       "                                                            R2      MAPE  \n",
       "n_estimators max_depth min_samples_leaf max_features                      \n",
       "600          12.0      1                sqrt          0.932497  2.558172  \n",
       "             18.0      1                sqrt          0.932062  2.569937  \n",
       "300          12.0      1                sqrt          0.930832  2.577925  \n",
       "600          18.0      2                sqrt          0.930701  2.593434  \n",
       "             12.0      2                sqrt          0.930609  2.597587  \n",
       "300          18.0      1                sqrt          0.930579  2.590493  \n",
       "                       2                sqrt          0.930172  2.593482  \n",
       "             12.0      2                sqrt          0.930055  2.596735  "
      ],
      "text/html": [
       "<div>\n",
       "<style scoped>\n",
       "    .dataframe tbody tr th:only-of-type {\n",
       "        vertical-align: middle;\n",
       "    }\n",
       "\n",
       "    .dataframe tbody tr th {\n",
       "        vertical-align: top;\n",
       "    }\n",
       "\n",
       "    .dataframe thead th {\n",
       "        text-align: right;\n",
       "    }\n",
       "</style>\n",
       "<table border=\"1\" class=\"dataframe\">\n",
       "  <thead>\n",
       "    <tr style=\"text-align: right;\">\n",
       "      <th></th>\n",
       "      <th></th>\n",
       "      <th></th>\n",
       "      <th></th>\n",
       "      <th>MAE</th>\n",
       "      <th>RMSE</th>\n",
       "      <th>R2</th>\n",
       "      <th>MAPE</th>\n",
       "    </tr>\n",
       "    <tr>\n",
       "      <th>n_estimators</th>\n",
       "      <th>max_depth</th>\n",
       "      <th>min_samples_leaf</th>\n",
       "      <th>max_features</th>\n",
       "      <th></th>\n",
       "      <th></th>\n",
       "      <th></th>\n",
       "      <th></th>\n",
       "    </tr>\n",
       "  </thead>\n",
       "  <tbody>\n",
       "    <tr>\n",
       "      <th rowspan=\"2\" valign=\"top\">600</th>\n",
       "      <th>12.0</th>\n",
       "      <th>1</th>\n",
       "      <th>sqrt</th>\n",
       "      <td>0.586568</td>\n",
       "      <td>0.766133</td>\n",
       "      <td>0.932497</td>\n",
       "      <td>2.558172</td>\n",
       "    </tr>\n",
       "    <tr>\n",
       "      <th>18.0</th>\n",
       "      <th>1</th>\n",
       "      <th>sqrt</th>\n",
       "      <td>0.588837</td>\n",
       "      <td>0.768674</td>\n",
       "      <td>0.932062</td>\n",
       "      <td>2.569937</td>\n",
       "    </tr>\n",
       "    <tr>\n",
       "      <th>300</th>\n",
       "      <th>12.0</th>\n",
       "      <th>1</th>\n",
       "      <th>sqrt</th>\n",
       "      <td>0.592248</td>\n",
       "      <td>0.774779</td>\n",
       "      <td>0.930832</td>\n",
       "      <td>2.577925</td>\n",
       "    </tr>\n",
       "    <tr>\n",
       "      <th rowspan=\"2\" valign=\"top\">600</th>\n",
       "      <th>18.0</th>\n",
       "      <th>2</th>\n",
       "      <th>sqrt</th>\n",
       "      <td>0.595522</td>\n",
       "      <td>0.775023</td>\n",
       "      <td>0.930701</td>\n",
       "      <td>2.593434</td>\n",
       "    </tr>\n",
       "    <tr>\n",
       "      <th>12.0</th>\n",
       "      <th>2</th>\n",
       "      <th>sqrt</th>\n",
       "      <td>0.596176</td>\n",
       "      <td>0.775664</td>\n",
       "      <td>0.930609</td>\n",
       "      <td>2.597587</td>\n",
       "    </tr>\n",
       "    <tr>\n",
       "      <th rowspan=\"3\" valign=\"top\">300</th>\n",
       "      <th rowspan=\"2\" valign=\"top\">18.0</th>\n",
       "      <th>1</th>\n",
       "      <th>sqrt</th>\n",
       "      <td>0.594459</td>\n",
       "      <td>0.776570</td>\n",
       "      <td>0.930579</td>\n",
       "      <td>2.590493</td>\n",
       "    </tr>\n",
       "    <tr>\n",
       "      <th>2</th>\n",
       "      <th>sqrt</th>\n",
       "      <td>0.596412</td>\n",
       "      <td>0.777230</td>\n",
       "      <td>0.930172</td>\n",
       "      <td>2.593482</td>\n",
       "    </tr>\n",
       "    <tr>\n",
       "      <th>12.0</th>\n",
       "      <th>2</th>\n",
       "      <th>sqrt</th>\n",
       "      <td>0.596880</td>\n",
       "      <td>0.778040</td>\n",
       "      <td>0.930055</td>\n",
       "      <td>2.596735</td>\n",
       "    </tr>\n",
       "  </tbody>\n",
       "</table>\n",
       "</div>"
      ]
     },
     "metadata": {},
     "output_type": "display_data",
     "jetTransient": {
      "display_id": null
     }
    },
    {
     "name": "stdout",
     "output_type": "stream",
     "text": [
      "\n",
      "✅ Best RF params = (600, 12, 1, 'sqrt'), CV RMSE = 0.766\n",
      "\n",
      "RF Validation metrics:\n",
      " {'RF Val MAE': 0.16603390368033644, 'RF Val RMSE': 0.21054209222881715, 'RF Val R2': 0.9952235865242104, 'RF Val MAPE': 0.7188326678951971, 'RF Val Skill Score': 0.9068906737037546}\n",
      "\n",
      "RF Test metrics:\n",
      " {'RF Test MAE': 0.6049953164898622, 'RF Test RMSE': 0.874395427343344, 'RF Test R2': 0.9198975746274892, 'RF Test MAPE': 2.5699479692742417, 'RF Test Skill Score': 0.613310724261374}\n"
     ]
    }
   ],
   "execution_count": 22
  },
  {
   "metadata": {
    "ExecuteTime": {
     "end_time": "2025-10-08T18:14:24.954361Z",
     "start_time": "2025-10-08T18:14:15.784089Z"
    }
   },
   "cell_type": "code",
   "source": [
    "# Permutation Importance (on validation slice)\n",
    "perm = permutation_importance(rf_final, X_val, y_val, n_repeats=10, random_state=SEED, n_jobs=-1)\n",
    "perm_df = pd.DataFrame({\"feature\": X_val.columns, \"importance\": perm.importances_mean}) \\\n",
    "            .sort_values(\"importance\", ascending=False)\n",
    "\n",
    "fig = px.bar(perm_df.head(20), x=\"importance\", y=\"feature\", orientation=\"h\",\n",
    "             title=\"RF — Permutation Importance (Validation)\")\n",
    "fig.update_layout(yaxis={'categoryorder':'total ascending'})\n",
    "fig.show()\n",
    "\n",
    "# SHAP (TreeExplainer)\n",
    "explainer = shap.TreeExplainer(rf_final)\n",
    "# Use a small background sample for speed\n",
    "bg = shap.sample(X_trval, 100, random_state=SEED)\n",
    "shap_values = explainer(bg)\n",
    "\n",
    "shap.plots.beeswarm(shap_values, max_display=20)  # static matplotlib output"
   ],
   "id": "e8bba64abf3f8b08",
   "outputs": [
    {
     "data": {
      "application/vnd.plotly.v1+json": {
       "data": [
        {
         "hovertemplate": "importance=%{x}<br>feature=%{y}<extra></extra>",
         "legendgroup": "",
         "marker": {
          "color": "#636efa",
          "pattern": {
           "shape": ""
          }
         },
         "name": "",
         "orientation": "h",
         "showlegend": false,
         "textposition": "auto",
         "x": {
          "dtype": "f8",
          "bdata": "HQvrRCjWvT8YQiTzuo23P3Og44mjxLQ/Un6WrlnLpT8uuc+w6HKkP7aR5v90a50/OlAKKtMplT/62/+WMC6EPyD643oxroE/Zl1tIhwJgD9mZJ8vUhl0P8D/euHv9nI/zXiJENEeZT9mi3AgUIVgP82Oi3cTT1c/mv2nROfETD/NhMp4UyZKPzOBqlsodkI/zXCNpVuVMj8zV2m/8IkxPw=="
         },
         "xaxis": "x",
         "y": [
          "temperature_lag12",
          "temperature_roll3",
          "solar_mj",
          "humidity_lag3",
          "temperature_lag1",
          "humidity_roll3",
          "humidity_lag1",
          "humidity",
          "rainfall_lag3",
          "temperature_lag3",
          "humidity_lag12",
          "rainfall",
          "rainfall_lag12",
          "rainfall_roll3",
          "rainfall_lag1",
          "humidity_roll12",
          "temperature_roll12",
          "rainfall_roll12",
          "co2_lag1",
          "co2_lag3"
         ],
         "yaxis": "y",
         "type": "bar"
        }
       ],
       "layout": {
        "template": {
         "data": {
          "histogram2dcontour": [
           {
            "type": "histogram2dcontour",
            "colorbar": {
             "outlinewidth": 0,
             "ticks": ""
            },
            "colorscale": [
             [
              0.0,
              "#0d0887"
             ],
             [
              0.1111111111111111,
              "#46039f"
             ],
             [
              0.2222222222222222,
              "#7201a8"
             ],
             [
              0.3333333333333333,
              "#9c179e"
             ],
             [
              0.4444444444444444,
              "#bd3786"
             ],
             [
              0.5555555555555556,
              "#d8576b"
             ],
             [
              0.6666666666666666,
              "#ed7953"
             ],
             [
              0.7777777777777778,
              "#fb9f3a"
             ],
             [
              0.8888888888888888,
              "#fdca26"
             ],
             [
              1.0,
              "#f0f921"
             ]
            ]
           }
          ],
          "choropleth": [
           {
            "type": "choropleth",
            "colorbar": {
             "outlinewidth": 0,
             "ticks": ""
            }
           }
          ],
          "histogram2d": [
           {
            "type": "histogram2d",
            "colorbar": {
             "outlinewidth": 0,
             "ticks": ""
            },
            "colorscale": [
             [
              0.0,
              "#0d0887"
             ],
             [
              0.1111111111111111,
              "#46039f"
             ],
             [
              0.2222222222222222,
              "#7201a8"
             ],
             [
              0.3333333333333333,
              "#9c179e"
             ],
             [
              0.4444444444444444,
              "#bd3786"
             ],
             [
              0.5555555555555556,
              "#d8576b"
             ],
             [
              0.6666666666666666,
              "#ed7953"
             ],
             [
              0.7777777777777778,
              "#fb9f3a"
             ],
             [
              0.8888888888888888,
              "#fdca26"
             ],
             [
              1.0,
              "#f0f921"
             ]
            ]
           }
          ],
          "heatmap": [
           {
            "type": "heatmap",
            "colorbar": {
             "outlinewidth": 0,
             "ticks": ""
            },
            "colorscale": [
             [
              0.0,
              "#0d0887"
             ],
             [
              0.1111111111111111,
              "#46039f"
             ],
             [
              0.2222222222222222,
              "#7201a8"
             ],
             [
              0.3333333333333333,
              "#9c179e"
             ],
             [
              0.4444444444444444,
              "#bd3786"
             ],
             [
              0.5555555555555556,
              "#d8576b"
             ],
             [
              0.6666666666666666,
              "#ed7953"
             ],
             [
              0.7777777777777778,
              "#fb9f3a"
             ],
             [
              0.8888888888888888,
              "#fdca26"
             ],
             [
              1.0,
              "#f0f921"
             ]
            ]
           }
          ],
          "contourcarpet": [
           {
            "type": "contourcarpet",
            "colorbar": {
             "outlinewidth": 0,
             "ticks": ""
            }
           }
          ],
          "contour": [
           {
            "type": "contour",
            "colorbar": {
             "outlinewidth": 0,
             "ticks": ""
            },
            "colorscale": [
             [
              0.0,
              "#0d0887"
             ],
             [
              0.1111111111111111,
              "#46039f"
             ],
             [
              0.2222222222222222,
              "#7201a8"
             ],
             [
              0.3333333333333333,
              "#9c179e"
             ],
             [
              0.4444444444444444,
              "#bd3786"
             ],
             [
              0.5555555555555556,
              "#d8576b"
             ],
             [
              0.6666666666666666,
              "#ed7953"
             ],
             [
              0.7777777777777778,
              "#fb9f3a"
             ],
             [
              0.8888888888888888,
              "#fdca26"
             ],
             [
              1.0,
              "#f0f921"
             ]
            ]
           }
          ],
          "surface": [
           {
            "type": "surface",
            "colorbar": {
             "outlinewidth": 0,
             "ticks": ""
            },
            "colorscale": [
             [
              0.0,
              "#0d0887"
             ],
             [
              0.1111111111111111,
              "#46039f"
             ],
             [
              0.2222222222222222,
              "#7201a8"
             ],
             [
              0.3333333333333333,
              "#9c179e"
             ],
             [
              0.4444444444444444,
              "#bd3786"
             ],
             [
              0.5555555555555556,
              "#d8576b"
             ],
             [
              0.6666666666666666,
              "#ed7953"
             ],
             [
              0.7777777777777778,
              "#fb9f3a"
             ],
             [
              0.8888888888888888,
              "#fdca26"
             ],
             [
              1.0,
              "#f0f921"
             ]
            ]
           }
          ],
          "mesh3d": [
           {
            "type": "mesh3d",
            "colorbar": {
             "outlinewidth": 0,
             "ticks": ""
            }
           }
          ],
          "scatter": [
           {
            "fillpattern": {
             "fillmode": "overlay",
             "size": 10,
             "solidity": 0.2
            },
            "type": "scatter"
           }
          ],
          "parcoords": [
           {
            "type": "parcoords",
            "line": {
             "colorbar": {
              "outlinewidth": 0,
              "ticks": ""
             }
            }
           }
          ],
          "scatterpolargl": [
           {
            "type": "scatterpolargl",
            "marker": {
             "colorbar": {
              "outlinewidth": 0,
              "ticks": ""
             }
            }
           }
          ],
          "bar": [
           {
            "error_x": {
             "color": "#2a3f5f"
            },
            "error_y": {
             "color": "#2a3f5f"
            },
            "marker": {
             "line": {
              "color": "#E5ECF6",
              "width": 0.5
             },
             "pattern": {
              "fillmode": "overlay",
              "size": 10,
              "solidity": 0.2
             }
            },
            "type": "bar"
           }
          ],
          "scattergeo": [
           {
            "type": "scattergeo",
            "marker": {
             "colorbar": {
              "outlinewidth": 0,
              "ticks": ""
             }
            }
           }
          ],
          "scatterpolar": [
           {
            "type": "scatterpolar",
            "marker": {
             "colorbar": {
              "outlinewidth": 0,
              "ticks": ""
             }
            }
           }
          ],
          "histogram": [
           {
            "marker": {
             "pattern": {
              "fillmode": "overlay",
              "size": 10,
              "solidity": 0.2
             }
            },
            "type": "histogram"
           }
          ],
          "scattergl": [
           {
            "type": "scattergl",
            "marker": {
             "colorbar": {
              "outlinewidth": 0,
              "ticks": ""
             }
            }
           }
          ],
          "scatter3d": [
           {
            "type": "scatter3d",
            "line": {
             "colorbar": {
              "outlinewidth": 0,
              "ticks": ""
             }
            },
            "marker": {
             "colorbar": {
              "outlinewidth": 0,
              "ticks": ""
             }
            }
           }
          ],
          "scattermap": [
           {
            "type": "scattermap",
            "marker": {
             "colorbar": {
              "outlinewidth": 0,
              "ticks": ""
             }
            }
           }
          ],
          "scattermapbox": [
           {
            "type": "scattermapbox",
            "marker": {
             "colorbar": {
              "outlinewidth": 0,
              "ticks": ""
             }
            }
           }
          ],
          "scatterternary": [
           {
            "type": "scatterternary",
            "marker": {
             "colorbar": {
              "outlinewidth": 0,
              "ticks": ""
             }
            }
           }
          ],
          "scattercarpet": [
           {
            "type": "scattercarpet",
            "marker": {
             "colorbar": {
              "outlinewidth": 0,
              "ticks": ""
             }
            }
           }
          ],
          "carpet": [
           {
            "aaxis": {
             "endlinecolor": "#2a3f5f",
             "gridcolor": "white",
             "linecolor": "white",
             "minorgridcolor": "white",
             "startlinecolor": "#2a3f5f"
            },
            "baxis": {
             "endlinecolor": "#2a3f5f",
             "gridcolor": "white",
             "linecolor": "white",
             "minorgridcolor": "white",
             "startlinecolor": "#2a3f5f"
            },
            "type": "carpet"
           }
          ],
          "table": [
           {
            "cells": {
             "fill": {
              "color": "#EBF0F8"
             },
             "line": {
              "color": "white"
             }
            },
            "header": {
             "fill": {
              "color": "#C8D4E3"
             },
             "line": {
              "color": "white"
             }
            },
            "type": "table"
           }
          ],
          "barpolar": [
           {
            "marker": {
             "line": {
              "color": "#E5ECF6",
              "width": 0.5
             },
             "pattern": {
              "fillmode": "overlay",
              "size": 10,
              "solidity": 0.2
             }
            },
            "type": "barpolar"
           }
          ],
          "pie": [
           {
            "automargin": true,
            "type": "pie"
           }
          ]
         },
         "layout": {
          "autotypenumbers": "strict",
          "colorway": [
           "#636efa",
           "#EF553B",
           "#00cc96",
           "#ab63fa",
           "#FFA15A",
           "#19d3f3",
           "#FF6692",
           "#B6E880",
           "#FF97FF",
           "#FECB52"
          ],
          "font": {
           "color": "#2a3f5f"
          },
          "hovermode": "closest",
          "hoverlabel": {
           "align": "left"
          },
          "paper_bgcolor": "white",
          "plot_bgcolor": "#E5ECF6",
          "polar": {
           "bgcolor": "#E5ECF6",
           "angularaxis": {
            "gridcolor": "white",
            "linecolor": "white",
            "ticks": ""
           },
           "radialaxis": {
            "gridcolor": "white",
            "linecolor": "white",
            "ticks": ""
           }
          },
          "ternary": {
           "bgcolor": "#E5ECF6",
           "aaxis": {
            "gridcolor": "white",
            "linecolor": "white",
            "ticks": ""
           },
           "baxis": {
            "gridcolor": "white",
            "linecolor": "white",
            "ticks": ""
           },
           "caxis": {
            "gridcolor": "white",
            "linecolor": "white",
            "ticks": ""
           }
          },
          "coloraxis": {
           "colorbar": {
            "outlinewidth": 0,
            "ticks": ""
           }
          },
          "colorscale": {
           "sequential": [
            [
             0.0,
             "#0d0887"
            ],
            [
             0.1111111111111111,
             "#46039f"
            ],
            [
             0.2222222222222222,
             "#7201a8"
            ],
            [
             0.3333333333333333,
             "#9c179e"
            ],
            [
             0.4444444444444444,
             "#bd3786"
            ],
            [
             0.5555555555555556,
             "#d8576b"
            ],
            [
             0.6666666666666666,
             "#ed7953"
            ],
            [
             0.7777777777777778,
             "#fb9f3a"
            ],
            [
             0.8888888888888888,
             "#fdca26"
            ],
            [
             1.0,
             "#f0f921"
            ]
           ],
           "sequentialminus": [
            [
             0.0,
             "#0d0887"
            ],
            [
             0.1111111111111111,
             "#46039f"
            ],
            [
             0.2222222222222222,
             "#7201a8"
            ],
            [
             0.3333333333333333,
             "#9c179e"
            ],
            [
             0.4444444444444444,
             "#bd3786"
            ],
            [
             0.5555555555555556,
             "#d8576b"
            ],
            [
             0.6666666666666666,
             "#ed7953"
            ],
            [
             0.7777777777777778,
             "#fb9f3a"
            ],
            [
             0.8888888888888888,
             "#fdca26"
            ],
            [
             1.0,
             "#f0f921"
            ]
           ],
           "diverging": [
            [
             0,
             "#8e0152"
            ],
            [
             0.1,
             "#c51b7d"
            ],
            [
             0.2,
             "#de77ae"
            ],
            [
             0.3,
             "#f1b6da"
            ],
            [
             0.4,
             "#fde0ef"
            ],
            [
             0.5,
             "#f7f7f7"
            ],
            [
             0.6,
             "#e6f5d0"
            ],
            [
             0.7,
             "#b8e186"
            ],
            [
             0.8,
             "#7fbc41"
            ],
            [
             0.9,
             "#4d9221"
            ],
            [
             1,
             "#276419"
            ]
           ]
          },
          "xaxis": {
           "gridcolor": "white",
           "linecolor": "white",
           "ticks": "",
           "title": {
            "standoff": 15
           },
           "zerolinecolor": "white",
           "automargin": true,
           "zerolinewidth": 2
          },
          "yaxis": {
           "gridcolor": "white",
           "linecolor": "white",
           "ticks": "",
           "title": {
            "standoff": 15
           },
           "zerolinecolor": "white",
           "automargin": true,
           "zerolinewidth": 2
          },
          "scene": {
           "xaxis": {
            "backgroundcolor": "#E5ECF6",
            "gridcolor": "white",
            "linecolor": "white",
            "showbackground": true,
            "ticks": "",
            "zerolinecolor": "white",
            "gridwidth": 2
           },
           "yaxis": {
            "backgroundcolor": "#E5ECF6",
            "gridcolor": "white",
            "linecolor": "white",
            "showbackground": true,
            "ticks": "",
            "zerolinecolor": "white",
            "gridwidth": 2
           },
           "zaxis": {
            "backgroundcolor": "#E5ECF6",
            "gridcolor": "white",
            "linecolor": "white",
            "showbackground": true,
            "ticks": "",
            "zerolinecolor": "white",
            "gridwidth": 2
           }
          },
          "shapedefaults": {
           "line": {
            "color": "#2a3f5f"
           }
          },
          "annotationdefaults": {
           "arrowcolor": "#2a3f5f",
           "arrowhead": 0,
           "arrowwidth": 1
          },
          "geo": {
           "bgcolor": "white",
           "landcolor": "#E5ECF6",
           "subunitcolor": "white",
           "showland": true,
           "showlakes": true,
           "lakecolor": "white"
          },
          "title": {
           "x": 0.05
          },
          "mapbox": {
           "style": "light"
          }
         }
        },
        "xaxis": {
         "anchor": "y",
         "domain": [
          0.0,
          1.0
         ],
         "title": {
          "text": "importance"
         }
        },
        "yaxis": {
         "anchor": "x",
         "domain": [
          0.0,
          1.0
         ],
         "title": {
          "text": "feature"
         },
         "categoryorder": "total ascending"
        },
        "legend": {
         "tracegroupgap": 0
        },
        "title": {
         "text": "RF — Permutation Importance (Validation)"
        },
        "barmode": "relative"
       },
       "config": {
        "plotlyServerURL": "https://plot.ly"
       }
      }
     },
     "metadata": {},
     "output_type": "display_data",
     "jetTransient": {
      "display_id": null
     }
    },
    {
     "data": {
      "text/plain": [
       "<Figure size 800x950 with 2 Axes>"
      ],
      "image/png": "[encoded data removed]"
     },
     "metadata": {},
     "output_type": "display_data",
     "jetTransient": {
      "display_id": null
     }
    }
   ],
   "execution_count": 23
  },
  {
   "metadata": {
    "ExecuteTime": {
     "end_time": "2025-10-08T18:14:25.100102Z",
     "start_time": "2025-10-08T18:14:25.091359Z"
    }
   },
   "cell_type": "code",
   "source": [
    "# Build supervised sequences for LSTM from the same 'feat' dataframe using feature_cols\n",
    "all_X = feat[feature_cols].values.astype(np.float32)\n",
    "all_y = feat[TARGET_COL].values.astype(np.float32)\n",
    "all_dates = feat[DATE_COL].values\n",
    "\n",
    "def make_sequences(X, y, dates, lookback=12, horizon=1):\n",
    "    Xs, ys, ds = [], [], []\n",
    "    for i in range(lookback, len(X) - horizon + 1):\n",
    "        Xs.append(X[i - lookback:i, :])\n",
    "        ys.append(y[i + horizon - 1])\n",
    "        ds.append(dates[i + horizon - 1])\n",
    "    return np.array(Xs), np.array(ys), np.array(ds)\n",
    "\n",
    "X_seq, y_seq, d_seq = make_sequences(all_X, all_y, all_dates, LOOKBACK, FORECAST_HORIZON)\n",
    "\n",
    "# Re-map split indices to sequence indices\n",
    "# We dropped early rows for lags earlier; now sequences drop another LOOKBACK\n",
    "seq_offset = len(all_X) - len(X_seq)\n",
    "train_end_seq = max(0, train_end - seq_offset)\n",
    "val_end_seq   = max(0, val_end   - seq_offset)\n",
    "\n",
    "Xtr_seq, ytr_seq = X_seq[:train_end_seq], y_seq[:train_end_seq]\n",
    "Xv_seq,  yv_seq  = X_seq[train_end_seq:val_end_seq], y_seq[train_end_seq:val_end_seq]\n",
    "Xte_seq, yte_seq = X_seq[val_end_seq:], y_seq[val_end_seq:]\n",
    "dtr_seq, dv_seq, dte_seq = d_seq[:train_end_seq], d_seq[train_end_seq:val_end_seq], d_seq[val_end_seq:]\n",
    "\n",
    "Xtr_seq.shape, Xv_seq.shape, Xte_seq.shape"
   ],
   "id": "b642344ae0c494f2",
   "outputs": [
    {
     "data": {
      "text/plain": [
       "((332, 12, 24), (74, 12, 24), (74, 12, 24))"
      ]
     },
     "execution_count": 24,
     "metadata": {},
     "output_type": "execute_result"
    }
   ],
   "execution_count": 24
  },
  {
   "metadata": {
    "ExecuteTime": {
     "end_time": "2025-10-08T18:14:35.715929Z",
     "start_time": "2025-10-08T18:14:25.116061Z"
    }
   },
   "cell_type": "code",
   "source": [
    "tf.keras.backend.clear_session()\n",
    "\n",
    "def build_lstm(input_shape, units=64, dropout=0.2):\n",
    "    i = keras.Input(shape=input_shape)\n",
    "    x = layers.LSTM(units, return_sequences=False)(i)\n",
    "    x = layers.Dropout(dropout)(x)\n",
    "    x = layers.Dense(64, activation=\"relu\")(x)\n",
    "    # With mixed precision, final Dense should output float32 for stability\n",
    "    out = layers.Dense(1, dtype=\"float32\")(x)\n",
    "    model = keras.Model(i, out)\n",
    "    opt = keras.optimizers.Adam(learning_rate=1e-3)\n",
    "    model.compile(optimizer=opt, loss=\"mse\", metrics=[keras.metrics.MeanSquaredError(name=\"mse\")])\n",
    "    return model\n",
    "\n",
    "lstm = build_lstm(Xtr_seq.shape[1:])\n",
    "lstm.summary()\n",
    "\n",
    "callbacks = [\n",
    "    keras.callbacks.EarlyStopping(monitor=\"val_mse\", patience=8, restore_best_weights=True),\n",
    "    keras.callbacks.ReduceLROnPlateau(monitor=\"val_mse\", factor=0.5, patience=4, min_lr=1e-5, verbose=1)\n",
    "]\n",
    "\n",
    "history = lstm.fit(\n",
    "    Xtr_seq, ytr_seq,\n",
    "    validation_data=(Xv_seq, yv_seq),\n",
    "    epochs=100,\n",
    "    batch_size=64,     # usually good for MPS; try 64–128\n",
    "    verbose=1,\n",
    "    callbacks=callbacks\n",
    ")"
   ],
   "id": "293b3358b59d55c4",
   "outputs": [
    {
     "data": {
      "text/plain": [
       "\u001B[1mModel: \"functional\"\u001B[0m\n"
      ],
      "text/html": [
       "<pre style=\"white-space:pre;overflow-x:auto;line-height:normal;font-family:Menlo,'DejaVu Sans Mono',consolas,'Courier New',monospace\"><span style=\"font-weight: bold\">Model: \"functional\"</span>\n",
       "</pre>\n"
      ]
     },
     "metadata": {},
     "output_type": "display_data",
     "jetTransient": {
      "display_id": null
     }
    },
    {
     "data": {
      "text/plain": [
       "┏━━━━━━━━━━━━━━━━━━━━━━━━━━━━━━━━━┳━━━━━━━━━━━━━━━━━━━━━━━━┳━━━━━━━━━━━━━━━┓\n",
       "┃\u001B[1m \u001B[0m\u001B[1mLayer (type)                   \u001B[0m\u001B[1m \u001B[0m┃\u001B[1m \u001B[0m\u001B[1mOutput Shape          \u001B[0m\u001B[1m \u001B[0m┃\u001B[1m \u001B[0m\u001B[1m      Param #\u001B[0m\u001B[1m \u001B[0m┃\n",
       "┡━━━━━━━━━━━━━━━━━━━━━━━━━━━━━━━━━╇━━━━━━━━━━━━━━━━━━━━━━━━╇━━━━━━━━━━━━━━━┩\n",
       "│ input_layer (\u001B[38;5;33mInputLayer\u001B[0m)        │ (\u001B[38;5;45mNone\u001B[0m, \u001B[38;5;34m12\u001B[0m, \u001B[38;5;34m24\u001B[0m)         │             \u001B[38;5;34m0\u001B[0m │\n",
       "├─────────────────────────────────┼────────────────────────┼───────────────┤\n",
       "│ lstm (\u001B[38;5;33mLSTM\u001B[0m)                     │ (\u001B[38;5;45mNone\u001B[0m, \u001B[38;5;34m64\u001B[0m)             │        \u001B[38;5;34m22,784\u001B[0m │\n",
       "├─────────────────────────────────┼────────────────────────┼───────────────┤\n",
       "│ dropout (\u001B[38;5;33mDropout\u001B[0m)               │ (\u001B[38;5;45mNone\u001B[0m, \u001B[38;5;34m64\u001B[0m)             │             \u001B[38;5;34m0\u001B[0m │\n",
       "├─────────────────────────────────┼────────────────────────┼───────────────┤\n",
       "│ dense (\u001B[38;5;33mDense\u001B[0m)                   │ (\u001B[38;5;45mNone\u001B[0m, \u001B[38;5;34m64\u001B[0m)             │         \u001B[38;5;34m4,160\u001B[0m │\n",
       "├─────────────────────────────────┼────────────────────────┼───────────────┤\n",
       "│ dense_1 (\u001B[38;5;33mDense\u001B[0m)                 │ (\u001B[38;5;45mNone\u001B[0m, \u001B[38;5;34m1\u001B[0m)              │            \u001B[38;5;34m65\u001B[0m │\n",
       "└─────────────────────────────────┴────────────────────────┴───────────────┘\n"
      ],
      "text/html": [
       "<pre style=\"white-space:pre;overflow-x:auto;line-height:normal;font-family:Menlo,'DejaVu Sans Mono',consolas,'Courier New',monospace\">┏━━━━━━━━━━━━━━━━━━━━━━━━━━━━━━━━━┳━━━━━━━━━━━━━━━━━━━━━━━━┳━━━━━━━━━━━━━━━┓\n",
       "┃<span style=\"font-weight: bold\"> Layer (type)                    </span>┃<span style=\"font-weight: bold\"> Output Shape           </span>┃<span style=\"font-weight: bold\">       Param # </span>┃\n",
       "┡━━━━━━━━━━━━━━━━━━━━━━━━━━━━━━━━━╇━━━━━━━━━━━━━━━━━━━━━━━━╇━━━━━━━━━━━━━━━┩\n",
       "│ input_layer (<span style=\"color: #0087ff; text-decoration-color: #0087ff\">InputLayer</span>)        │ (<span style=\"color: #00d7ff; text-decoration-color: #00d7ff\">None</span>, <span style=\"color: #00af00; text-decoration-color: #00af00\">12</span>, <span style=\"color: #00af00; text-decoration-color: #00af00\">24</span>)         │             <span style=\"color: #00af00; text-decoration-color: #00af00\">0</span> │\n",
       "├─────────────────────────────────┼────────────────────────┼───────────────┤\n",
       "│ lstm (<span style=\"color: #0087ff; text-decoration-color: #0087ff\">LSTM</span>)                     │ (<span style=\"color: #00d7ff; text-decoration-color: #00d7ff\">None</span>, <span style=\"color: #00af00; text-decoration-color: #00af00\">64</span>)             │        <span style=\"color: #00af00; text-decoration-color: #00af00\">22,784</span> │\n",
       "├─────────────────────────────────┼────────────────────────┼───────────────┤\n",
       "│ dropout (<span style=\"color: #0087ff; text-decoration-color: #0087ff\">Dropout</span>)               │ (<span style=\"color: #00d7ff; text-decoration-color: #00d7ff\">None</span>, <span style=\"color: #00af00; text-decoration-color: #00af00\">64</span>)             │             <span style=\"color: #00af00; text-decoration-color: #00af00\">0</span> │\n",
       "├─────────────────────────────────┼────────────────────────┼───────────────┤\n",
       "│ dense (<span style=\"color: #0087ff; text-decoration-color: #0087ff\">Dense</span>)                   │ (<span style=\"color: #00d7ff; text-decoration-color: #00d7ff\">None</span>, <span style=\"color: #00af00; text-decoration-color: #00af00\">64</span>)             │         <span style=\"color: #00af00; text-decoration-color: #00af00\">4,160</span> │\n",
       "├─────────────────────────────────┼────────────────────────┼───────────────┤\n",
       "│ dense_1 (<span style=\"color: #0087ff; text-decoration-color: #0087ff\">Dense</span>)                 │ (<span style=\"color: #00d7ff; text-decoration-color: #00d7ff\">None</span>, <span style=\"color: #00af00; text-decoration-color: #00af00\">1</span>)              │            <span style=\"color: #00af00; text-decoration-color: #00af00\">65</span> │\n",
       "└─────────────────────────────────┴────────────────────────┴───────────────┘\n",
       "</pre>\n"
      ]
     },
     "metadata": {},
     "output_type": "display_data",
     "jetTransient": {
      "display_id": null
     }
    },
    {
     "data": {
      "text/plain": [
       "\u001B[1m Total params: \u001B[0m\u001B[38;5;34m27,009\u001B[0m (105.50 KB)\n"
      ],
      "text/html": [
       "<pre style=\"white-space:pre;overflow-x:auto;line-height:normal;font-family:Menlo,'DejaVu Sans Mono',consolas,'Courier New',monospace\"><span style=\"font-weight: bold\"> Total params: </span><span style=\"color: #00af00; text-decoration-color: #00af00\">27,009</span> (105.50 KB)\n",
       "</pre>\n"
      ]
     },
     "metadata": {},
     "output_type": "display_data",
     "jetTransient": {
      "display_id": null
     }
    },
    {
     "data": {
      "text/plain": [
       "\u001B[1m Trainable params: \u001B[0m\u001B[38;5;34m27,009\u001B[0m (105.50 KB)\n"
      ],
      "text/html": [
       "<pre style=\"white-space:pre;overflow-x:auto;line-height:normal;font-family:Menlo,'DejaVu Sans Mono',consolas,'Courier New',monospace\"><span style=\"font-weight: bold\"> Trainable params: </span><span style=\"color: #00af00; text-decoration-color: #00af00\">27,009</span> (105.50 KB)\n",
       "</pre>\n"
      ]
     },
     "metadata": {},
     "output_type": "display_data",
     "jetTransient": {
      "display_id": null
     }
    },
    {
     "data": {
      "text/plain": [
       "\u001B[1m Non-trainable params: \u001B[0m\u001B[38;5;34m0\u001B[0m (0.00 B)\n"
      ],
      "text/html": [
       "<pre style=\"white-space:pre;overflow-x:auto;line-height:normal;font-family:Menlo,'DejaVu Sans Mono',consolas,'Courier New',monospace\"><span style=\"font-weight: bold\"> Non-trainable params: </span><span style=\"color: #00af00; text-decoration-color: #00af00\">0</span> (0.00 B)\n",
       "</pre>\n"
      ]
     },
     "metadata": {},
     "output_type": "display_data",
     "jetTransient": {
      "display_id": null
     }
    },
    {
     "name": "stdout",
     "output_type": "stream",
     "text": [
      "Epoch 1/100\n",
      "\u001B[1m6/6\u001B[0m \u001B[32m━━━━━━━━━━━━━━━━━━━━\u001B[0m\u001B[37m\u001B[0m \u001B[1m2s\u001B[0m 86ms/step - loss: 487.6728 - mse: 487.6728 - val_loss: 434.6374 - val_mse: 434.6374 - learning_rate: 0.0010\n",
      "Epoch 2/100\n",
      "\u001B[1m6/6\u001B[0m \u001B[32m━━━━━━━━━━━━━━━━━━━━\u001B[0m\u001B[37m\u001B[0m \u001B[1m0s\u001B[0m 40ms/step - loss: 412.3558 - mse: 412.3558 - val_loss: 360.3111 - val_mse: 360.3111 - learning_rate: 0.0010\n",
      "Epoch 3/100\n",
      "\u001B[1m6/6\u001B[0m \u001B[32m━━━━━━━━━━━━━━━━━━━━\u001B[0m\u001B[37m\u001B[0m \u001B[1m0s\u001B[0m 25ms/step - loss: 339.3231 - mse: 339.3231 - val_loss: 289.3253 - val_mse: 289.3253 - learning_rate: 0.0010\n",
      "Epoch 4/100\n",
      "\u001B[1m6/6\u001B[0m \u001B[32m━━━━━━━━━━━━━━━━━━━━\u001B[0m\u001B[37m\u001B[0m \u001B[1m0s\u001B[0m 27ms/step - loss: 272.0355 - mse: 272.0355 - val_loss: 224.1122 - val_mse: 224.1122 - learning_rate: 0.0010\n",
      "Epoch 5/100\n",
      "\u001B[1m6/6\u001B[0m \u001B[32m━━━━━━━━━━━━━━━━━━━━\u001B[0m\u001B[37m\u001B[0m \u001B[1m0s\u001B[0m 27ms/step - loss: 209.9176 - mse: 209.9176 - val_loss: 170.3596 - val_mse: 170.3596 - learning_rate: 0.0010\n",
      "Epoch 6/100\n",
      "\u001B[1m6/6\u001B[0m \u001B[32m━━━━━━━━━━━━━━━━━━━━\u001B[0m\u001B[37m\u001B[0m \u001B[1m0s\u001B[0m 25ms/step - loss: 156.1929 - mse: 156.1929 - val_loss: 120.0339 - val_mse: 120.0339 - learning_rate: 0.0010\n",
      "Epoch 7/100\n",
      "\u001B[1m6/6\u001B[0m \u001B[32m━━━━━━━━━━━━━━━━━━━━\u001B[0m\u001B[37m\u001B[0m \u001B[1m0s\u001B[0m 27ms/step - loss: 112.8023 - mse: 112.8023 - val_loss: 82.7879 - val_mse: 82.7879 - learning_rate: 0.0010\n",
      "Epoch 8/100\n",
      "\u001B[1m6/6\u001B[0m \u001B[32m━━━━━━━━━━━━━━━━━━━━\u001B[0m\u001B[37m\u001B[0m \u001B[1m0s\u001B[0m 25ms/step - loss: 78.4047 - mse: 78.4047 - val_loss: 54.5754 - val_mse: 54.5754 - learning_rate: 0.0010\n",
      "Epoch 9/100\n",
      "\u001B[1m6/6\u001B[0m \u001B[32m━━━━━━━━━━━━━━━━━━━━\u001B[0m\u001B[37m\u001B[0m \u001B[1m0s\u001B[0m 30ms/step - loss: 52.9991 - mse: 52.9991 - val_loss: 34.6911 - val_mse: 34.6911 - learning_rate: 0.0010\n",
      "Epoch 10/100\n",
      "\u001B[1m6/6\u001B[0m \u001B[32m━━━━━━━━━━━━━━━━━━━━\u001B[0m\u001B[37m\u001B[0m \u001B[1m0s\u001B[0m 25ms/step - loss: 34.1232 - mse: 34.1232 - val_loss: 20.7434 - val_mse: 20.7434 - learning_rate: 0.0010\n",
      "Epoch 11/100\n",
      "\u001B[1m6/6\u001B[0m \u001B[32m━━━━━━━━━━━━━━━━━━━━\u001B[0m\u001B[37m\u001B[0m \u001B[1m0s\u001B[0m 21ms/step - loss: 22.3196 - mse: 22.3196 - val_loss: 13.3480 - val_mse: 13.3480 - learning_rate: 0.0010\n",
      "Epoch 12/100\n",
      "\u001B[1m6/6\u001B[0m \u001B[32m━━━━━━━━━━━━━━━━━━━━\u001B[0m\u001B[37m\u001B[0m \u001B[1m0s\u001B[0m 22ms/step - loss: 17.1951 - mse: 17.1951 - val_loss: 9.9448 - val_mse: 9.9448 - learning_rate: 0.0010\n",
      "Epoch 13/100\n",
      "\u001B[1m6/6\u001B[0m \u001B[32m━━━━━━━━━━━━━━━━━━━━\u001B[0m\u001B[37m\u001B[0m \u001B[1m0s\u001B[0m 22ms/step - loss: 14.7558 - mse: 14.7558 - val_loss: 9.1745 - val_mse: 9.1745 - learning_rate: 0.0010\n",
      "Epoch 14/100\n",
      "\u001B[1m6/6\u001B[0m \u001B[32m━━━━━━━━━━━━━━━━━━━━\u001B[0m\u001B[37m\u001B[0m \u001B[1m0s\u001B[0m 22ms/step - loss: 13.5425 - mse: 13.5425 - val_loss: 9.2784 - val_mse: 9.2784 - learning_rate: 0.0010\n",
      "Epoch 15/100\n",
      "\u001B[1m6/6\u001B[0m \u001B[32m━━━━━━━━━━━━━━━━━━━━\u001B[0m\u001B[37m\u001B[0m \u001B[1m0s\u001B[0m 21ms/step - loss: 14.3652 - mse: 14.3652 - val_loss: 9.3560 - val_mse: 9.3560 - learning_rate: 0.0010\n",
      "Epoch 16/100\n",
      "\u001B[1m6/6\u001B[0m \u001B[32m━━━━━━━━━━━━━━━━━━━━\u001B[0m\u001B[37m\u001B[0m \u001B[1m0s\u001B[0m 23ms/step - loss: 12.1801 - mse: 12.1801 - val_loss: 8.7586 - val_mse: 8.7586 - learning_rate: 0.0010\n",
      "Epoch 17/100\n",
      "\u001B[1m6/6\u001B[0m \u001B[32m━━━━━━━━━━━━━━━━━━━━\u001B[0m\u001B[37m\u001B[0m \u001B[1m0s\u001B[0m 23ms/step - loss: 12.7477 - mse: 12.7477 - val_loss: 8.4162 - val_mse: 8.4162 - learning_rate: 0.0010\n",
      "Epoch 18/100\n",
      "\u001B[1m6/6\u001B[0m \u001B[32m━━━━━━━━━━━━━━━━━━━━\u001B[0m\u001B[37m\u001B[0m \u001B[1m0s\u001B[0m 21ms/step - loss: 12.2024 - mse: 12.2024 - val_loss: 8.2706 - val_mse: 8.2706 - learning_rate: 0.0010\n",
      "Epoch 19/100\n",
      "\u001B[1m6/6\u001B[0m \u001B[32m━━━━━━━━━━━━━━━━━━━━\u001B[0m\u001B[37m\u001B[0m \u001B[1m0s\u001B[0m 22ms/step - loss: 11.6257 - mse: 11.6257 - val_loss: 8.0259 - val_mse: 8.0259 - learning_rate: 0.0010\n",
      "Epoch 20/100\n",
      "\u001B[1m6/6\u001B[0m \u001B[32m━━━━━━━━━━━━━━━━━━━━\u001B[0m\u001B[37m\u001B[0m \u001B[1m0s\u001B[0m 21ms/step - loss: 12.4055 - mse: 12.4055 - val_loss: 7.9906 - val_mse: 7.9906 - learning_rate: 0.0010\n",
      "Epoch 21/100\n",
      "\u001B[1m6/6\u001B[0m \u001B[32m━━━━━━━━━━━━━━━━━━━━\u001B[0m\u001B[37m\u001B[0m \u001B[1m0s\u001B[0m 22ms/step - loss: 11.7827 - mse: 11.7827 - val_loss: 7.7575 - val_mse: 7.7575 - learning_rate: 0.0010\n",
      "Epoch 22/100\n",
      "\u001B[1m6/6\u001B[0m \u001B[32m━━━━━━━━━━━━━━━━━━━━\u001B[0m\u001B[37m\u001B[0m \u001B[1m0s\u001B[0m 20ms/step - loss: 11.8337 - mse: 11.8337 - val_loss: 8.0052 - val_mse: 8.0052 - learning_rate: 0.0010\n",
      "Epoch 23/100\n",
      "\u001B[1m6/6\u001B[0m \u001B[32m━━━━━━━━━━━━━━━━━━━━\u001B[0m\u001B[37m\u001B[0m \u001B[1m0s\u001B[0m 20ms/step - loss: 10.5933 - mse: 10.5933 - val_loss: 7.9663 - val_mse: 7.9663 - learning_rate: 0.0010\n",
      "Epoch 24/100\n",
      "\u001B[1m6/6\u001B[0m \u001B[32m━━━━━━━━━━━━━━━━━━━━\u001B[0m\u001B[37m\u001B[0m \u001B[1m0s\u001B[0m 21ms/step - loss: 11.6274 - mse: 11.6274 - val_loss: 7.5188 - val_mse: 7.5188 - learning_rate: 0.0010\n",
      "Epoch 25/100\n",
      "\u001B[1m6/6\u001B[0m \u001B[32m━━━━━━━━━━━━━━━━━━━━\u001B[0m\u001B[37m\u001B[0m \u001B[1m0s\u001B[0m 20ms/step - loss: 11.4973 - mse: 11.4973 - val_loss: 7.1718 - val_mse: 7.1718 - learning_rate: 0.0010\n",
      "Epoch 26/100\n",
      "\u001B[1m6/6\u001B[0m \u001B[32m━━━━━━━━━━━━━━━━━━━━\u001B[0m\u001B[37m\u001B[0m \u001B[1m0s\u001B[0m 20ms/step - loss: 11.2025 - mse: 11.2025 - val_loss: 7.3054 - val_mse: 7.3054 - learning_rate: 0.0010\n",
      "Epoch 27/100\n",
      "\u001B[1m6/6\u001B[0m \u001B[32m━━━━━━━━━━━━━━━━━━━━\u001B[0m\u001B[37m\u001B[0m \u001B[1m0s\u001B[0m 22ms/step - loss: 12.5725 - mse: 12.5725 - val_loss: 7.0193 - val_mse: 7.0193 - learning_rate: 0.0010\n",
      "Epoch 28/100\n",
      "\u001B[1m6/6\u001B[0m \u001B[32m━━━━━━━━━━━━━━━━━━━━\u001B[0m\u001B[37m\u001B[0m \u001B[1m0s\u001B[0m 21ms/step - loss: 12.8123 - mse: 12.8123 - val_loss: 6.8526 - val_mse: 6.8526 - learning_rate: 0.0010\n",
      "Epoch 29/100\n",
      "\u001B[1m6/6\u001B[0m \u001B[32m━━━━━━━━━━━━━━━━━━━━\u001B[0m\u001B[37m\u001B[0m \u001B[1m0s\u001B[0m 21ms/step - loss: 11.6607 - mse: 11.6607 - val_loss: 6.5337 - val_mse: 6.5337 - learning_rate: 0.0010\n",
      "Epoch 30/100\n",
      "\u001B[1m6/6\u001B[0m \u001B[32m━━━━━━━━━━━━━━━━━━━━\u001B[0m\u001B[37m\u001B[0m \u001B[1m0s\u001B[0m 21ms/step - loss: 9.6437 - mse: 9.6437 - val_loss: 6.4630 - val_mse: 6.4630 - learning_rate: 0.0010\n",
      "Epoch 31/100\n",
      "\u001B[1m6/6\u001B[0m \u001B[32m━━━━━━━━━━━━━━━━━━━━\u001B[0m\u001B[37m\u001B[0m \u001B[1m0s\u001B[0m 20ms/step - loss: 10.9837 - mse: 10.9837 - val_loss: 6.3584 - val_mse: 6.3584 - learning_rate: 0.0010\n",
      "Epoch 32/100\n",
      "\u001B[1m6/6\u001B[0m \u001B[32m━━━━━━━━━━━━━━━━━━━━\u001B[0m\u001B[37m\u001B[0m \u001B[1m0s\u001B[0m 22ms/step - loss: 10.4589 - mse: 10.4589 - val_loss: 6.1374 - val_mse: 6.1374 - learning_rate: 0.0010\n",
      "Epoch 33/100\n",
      "\u001B[1m6/6\u001B[0m \u001B[32m━━━━━━━━━━━━━━━━━━━━\u001B[0m\u001B[37m\u001B[0m \u001B[1m0s\u001B[0m 21ms/step - loss: 10.9837 - mse: 10.9837 - val_loss: 5.8809 - val_mse: 5.8809 - learning_rate: 0.0010\n",
      "Epoch 34/100\n",
      "\u001B[1m6/6\u001B[0m \u001B[32m━━━━━━━━━━━━━━━━━━━━\u001B[0m\u001B[37m\u001B[0m \u001B[1m0s\u001B[0m 22ms/step - loss: 10.3484 - mse: 10.3484 - val_loss: 5.7869 - val_mse: 5.7869 - learning_rate: 0.0010\n",
      "Epoch 35/100\n",
      "\u001B[1m6/6\u001B[0m \u001B[32m━━━━━━━━━━━━━━━━━━━━\u001B[0m\u001B[37m\u001B[0m \u001B[1m0s\u001B[0m 22ms/step - loss: 10.1736 - mse: 10.1736 - val_loss: 5.7741 - val_mse: 5.7741 - learning_rate: 0.0010\n",
      "Epoch 36/100\n",
      "\u001B[1m6/6\u001B[0m \u001B[32m━━━━━━━━━━━━━━━━━━━━\u001B[0m\u001B[37m\u001B[0m \u001B[1m0s\u001B[0m 21ms/step - loss: 9.4930 - mse: 9.4930 - val_loss: 5.9995 - val_mse: 5.9995 - learning_rate: 0.0010\n",
      "Epoch 37/100\n",
      "\u001B[1m6/6\u001B[0m \u001B[32m━━━━━━━━━━━━━━━━━━━━\u001B[0m\u001B[37m\u001B[0m \u001B[1m0s\u001B[0m 21ms/step - loss: 10.4530 - mse: 10.4530 - val_loss: 5.7863 - val_mse: 5.7863 - learning_rate: 0.0010\n",
      "Epoch 38/100\n",
      "\u001B[1m6/6\u001B[0m \u001B[32m━━━━━━━━━━━━━━━━━━━━\u001B[0m\u001B[37m\u001B[0m \u001B[1m0s\u001B[0m 20ms/step - loss: 8.9414 - mse: 8.9414 - val_loss: 5.7941 - val_mse: 5.7941 - learning_rate: 0.0010\n",
      "Epoch 39/100\n",
      "\u001B[1m6/6\u001B[0m \u001B[32m━━━━━━━━━━━━━━━━━━━━\u001B[0m\u001B[37m\u001B[0m \u001B[1m0s\u001B[0m 22ms/step - loss: 9.3412 - mse: 9.3412 - val_loss: 5.3586 - val_mse: 5.3586 - learning_rate: 0.0010\n",
      "Epoch 40/100\n",
      "\u001B[1m6/6\u001B[0m \u001B[32m━━━━━━━━━━━━━━━━━━━━\u001B[0m\u001B[37m\u001B[0m \u001B[1m0s\u001B[0m 21ms/step - loss: 9.4659 - mse: 9.4659 - val_loss: 5.1774 - val_mse: 5.1774 - learning_rate: 0.0010\n",
      "Epoch 41/100\n",
      "\u001B[1m6/6\u001B[0m \u001B[32m━━━━━━━━━━━━━━━━━━━━\u001B[0m\u001B[37m\u001B[0m \u001B[1m0s\u001B[0m 21ms/step - loss: 10.1405 - mse: 10.1405 - val_loss: 4.9469 - val_mse: 4.9469 - learning_rate: 0.0010\n",
      "Epoch 42/100\n",
      "\u001B[1m6/6\u001B[0m \u001B[32m━━━━━━━━━━━━━━━━━━━━\u001B[0m\u001B[37m\u001B[0m \u001B[1m0s\u001B[0m 22ms/step - loss: 9.1360 - mse: 9.1360 - val_loss: 4.9072 - val_mse: 4.9072 - learning_rate: 0.0010\n",
      "Epoch 43/100\n",
      "\u001B[1m6/6\u001B[0m \u001B[32m━━━━━━━━━━━━━━━━━━━━\u001B[0m\u001B[37m\u001B[0m \u001B[1m0s\u001B[0m 21ms/step - loss: 8.8951 - mse: 8.8951 - val_loss: 4.7553 - val_mse: 4.7553 - learning_rate: 0.0010\n",
      "Epoch 44/100\n",
      "\u001B[1m6/6\u001B[0m \u001B[32m━━━━━━━━━━━━━━━━━━━━\u001B[0m\u001B[37m\u001B[0m \u001B[1m0s\u001B[0m 21ms/step - loss: 8.1878 - mse: 8.1878 - val_loss: 4.3865 - val_mse: 4.3865 - learning_rate: 0.0010\n",
      "Epoch 45/100\n",
      "\u001B[1m6/6\u001B[0m \u001B[32m━━━━━━━━━━━━━━━━━━━━\u001B[0m\u001B[37m\u001B[0m \u001B[1m0s\u001B[0m 20ms/step - loss: 9.3433 - mse: 9.3433 - val_loss: 4.4755 - val_mse: 4.4755 - learning_rate: 0.0010\n",
      "Epoch 46/100\n",
      "\u001B[1m6/6\u001B[0m \u001B[32m━━━━━━━━━━━━━━━━━━━━\u001B[0m\u001B[37m\u001B[0m \u001B[1m0s\u001B[0m 21ms/step - loss: 7.7664 - mse: 7.7664 - val_loss: 4.6585 - val_mse: 4.6585 - learning_rate: 0.0010\n",
      "Epoch 47/100\n",
      "\u001B[1m6/6\u001B[0m \u001B[32m━━━━━━━━━━━━━━━━━━━━\u001B[0m\u001B[37m\u001B[0m \u001B[1m0s\u001B[0m 20ms/step - loss: 8.2795 - mse: 8.2795 - val_loss: 4.6246 - val_mse: 4.6246 - learning_rate: 0.0010\n",
      "Epoch 48/100\n",
      "\u001B[1m6/6\u001B[0m \u001B[32m━━━━━━━━━━━━━━━━━━━━\u001B[0m\u001B[37m\u001B[0m \u001B[1m0s\u001B[0m 21ms/step - loss: 8.9987 - mse: 8.9987 - val_loss: 4.1378 - val_mse: 4.1378 - learning_rate: 0.0010\n",
      "Epoch 49/100\n",
      "\u001B[1m6/6\u001B[0m \u001B[32m━━━━━━━━━━━━━━━━━━━━\u001B[0m\u001B[37m\u001B[0m \u001B[1m0s\u001B[0m 21ms/step - loss: 9.0061 - mse: 9.0061 - val_loss: 3.9467 - val_mse: 3.9467 - learning_rate: 0.0010\n",
      "Epoch 50/100\n",
      "\u001B[1m6/6\u001B[0m \u001B[32m━━━━━━━━━━━━━━━━━━━━\u001B[0m\u001B[37m\u001B[0m \u001B[1m0s\u001B[0m 22ms/step - loss: 8.6616 - mse: 8.6616 - val_loss: 3.8538 - val_mse: 3.8538 - learning_rate: 0.0010\n",
      "Epoch 51/100\n",
      "\u001B[1m6/6\u001B[0m \u001B[32m━━━━━━━━━━━━━━━━━━━━\u001B[0m\u001B[37m\u001B[0m \u001B[1m0s\u001B[0m 20ms/step - loss: 7.9569 - mse: 7.9569 - val_loss: 4.0941 - val_mse: 4.0941 - learning_rate: 0.0010\n",
      "Epoch 52/100\n",
      "\u001B[1m6/6\u001B[0m \u001B[32m━━━━━━━━━━━━━━━━━━━━\u001B[0m\u001B[37m\u001B[0m \u001B[1m0s\u001B[0m 21ms/step - loss: 8.6976 - mse: 8.6976 - val_loss: 4.0189 - val_mse: 4.0189 - learning_rate: 0.0010\n",
      "Epoch 53/100\n",
      "\u001B[1m6/6\u001B[0m \u001B[32m━━━━━━━━━━━━━━━━━━━━\u001B[0m\u001B[37m\u001B[0m \u001B[1m0s\u001B[0m 20ms/step - loss: 7.6673 - mse: 7.6673 - val_loss: 4.0347 - val_mse: 4.0347 - learning_rate: 0.0010\n",
      "Epoch 54/100\n",
      "\u001B[1m5/6\u001B[0m \u001B[32m━━━━━━━━━━━━━━━━\u001B[0m\u001B[37m━━━━\u001B[0m \u001B[1m0s\u001B[0m 14ms/step - loss: 9.0847 - mse: 9.0847  \n",
      "Epoch 54: ReduceLROnPlateau reducing learning rate to 0.0005000000237487257.\n",
      "\u001B[1m6/6\u001B[0m \u001B[32m━━━━━━━━━━━━━━━━━━━━\u001B[0m\u001B[37m\u001B[0m \u001B[1m0s\u001B[0m 21ms/step - loss: 8.7368 - mse: 8.7368 - val_loss: 4.0296 - val_mse: 4.0296 - learning_rate: 0.0010\n",
      "Epoch 55/100\n",
      "\u001B[1m6/6\u001B[0m \u001B[32m━━━━━━━━━━━━━━━━━━━━\u001B[0m\u001B[37m\u001B[0m \u001B[1m0s\u001B[0m 21ms/step - loss: 7.9092 - mse: 7.9092 - val_loss: 4.0569 - val_mse: 4.0569 - learning_rate: 5.0000e-04\n",
      "Epoch 56/100\n",
      "\u001B[1m6/6\u001B[0m \u001B[32m━━━━━━━━━━━━━━━━━━━━\u001B[0m\u001B[37m\u001B[0m \u001B[1m0s\u001B[0m 23ms/step - loss: 8.5604 - mse: 8.5604 - val_loss: 3.9624 - val_mse: 3.9624 - learning_rate: 5.0000e-04\n",
      "Epoch 57/100\n",
      "\u001B[1m6/6\u001B[0m \u001B[32m━━━━━━━━━━━━━━━━━━━━\u001B[0m\u001B[37m\u001B[0m \u001B[1m0s\u001B[0m 20ms/step - loss: 8.3409 - mse: 8.3409 - val_loss: 3.9660 - val_mse: 3.9660 - learning_rate: 5.0000e-04\n",
      "Epoch 58/100\n",
      "\u001B[1m5/6\u001B[0m \u001B[32m━━━━━━━━━━━━━━━━\u001B[0m\u001B[37m━━━━\u001B[0m \u001B[1m0s\u001B[0m 14ms/step - loss: 8.5599 - mse: 8.5599\n",
      "Epoch 58: ReduceLROnPlateau reducing learning rate to 0.0002500000118743628.\n",
      "\u001B[1m6/6\u001B[0m \u001B[32m━━━━━━━━━━━━━━━━━━━━\u001B[0m\u001B[37m\u001B[0m \u001B[1m0s\u001B[0m 22ms/step - loss: 8.6526 - mse: 8.6526 - val_loss: 3.9417 - val_mse: 3.9417 - learning_rate: 5.0000e-04\n"
     ]
    }
   ],
   "execution_count": 25
  },
  {
   "metadata": {
    "ExecuteTime": {
     "end_time": "2025-10-08T18:14:36.016098Z",
     "start_time": "2025-10-08T18:14:35.787529Z"
    }
   },
   "cell_type": "code",
   "source": [
    "# Predictions\n",
    "lstm_val_pred = lstm.predict(Xv_seq).ravel()\n",
    "lstm_test_pred = lstm.predict(Xte_seq).ravel()\n",
    "\n",
    "lstm_val_metrics  = metrics(yv_seq, lstm_val_pred, prefix=\"LSTM Val \")\n",
    "lstm_test_metrics = metrics(yte_seq, lstm_test_pred, prefix=\"LSTM Test \")\n",
    "lstm_val_metrics, lstm_test_metrics"
   ],
   "id": "66818e0aff978d3a",
   "outputs": [
    {
     "name": "stdout",
     "output_type": "stream",
     "text": [
      "\u001B[1m3/3\u001B[0m \u001B[32m━━━━━━━━━━━━━━━━━━━━\u001B[0m\u001B[37m\u001B[0m \u001B[1m0s\u001B[0m 40ms/step\n",
      "\u001B[1m3/3\u001B[0m \u001B[32m━━━━━━━━━━━━━━━━━━━━\u001B[0m\u001B[37m\u001B[0m \u001B[1m0s\u001B[0m 6ms/step\n"
     ]
    },
    {
     "data": {
      "text/plain": [
       "({'LSTM Val MAE': 1.5217976183504671,\n",
       "  'LSTM Val RMSE': 1.9631041331299022,\n",
       "  'LSTM Val R2': 0.5847489673878372,\n",
       "  'LSTM Val MAPE': 6.294309349689846},\n",
       " {'LSTM Test MAE': 1.6342116433220941,\n",
       "  'LSTM Test RMSE': 2.150142058072161,\n",
       "  'LSTM Test R2': 0.5156445184668292,\n",
       "  'LSTM Test MAPE': 6.751420836175219})"
      ]
     },
     "execution_count": 26,
     "metadata": {},
     "output_type": "execute_result"
    }
   ],
   "execution_count": 26
  },
  {
   "metadata": {
    "ExecuteTime": {
     "end_time": "2025-10-08T18:14:36.301957Z",
     "start_time": "2025-10-08T18:14:36.030213Z"
    }
   },
   "cell_type": "code",
   "source": [
    "# RF\n",
    "plotly_actual_vs_pred(val, y_val.values, rf_val_pred, \"RF — Actual vs Predicted (Validation)\", val[DATE_COL])\n",
    "plotly_actual_vs_pred(test, y_test.values, rf_test_pred, \"RF — Actual vs Predicted (Test)\", test[DATE_COL])\n",
    "seaborn_residuals(y_test.values, rf_test_pred, \"RF — Test Residuals\")\n",
    "\n",
    "# LSTM\n",
    "plotly_actual_vs_pred(pd.DataFrame({DATE_COL: dv_seq}), yv_seq, lstm_val_pred, \"LSTM — Actual vs Predicted (Validation)\", dv_seq)\n",
    "plotly_actual_vs_pred(pd.DataFrame({DATE_COL: dte_seq}), yte_seq, lstm_test_pred, \"LSTM — Actual vs Predicted (Test)\", dte_seq)\n",
    "seaborn_residuals(yte_seq, lstm_test_pred, \"LSTM — Test Residuals\")"
   ],
   "id": "fa6e3ac6312a6b62",
   "outputs": [
    {
     "data": {
      "application/vnd.plotly.v1+json": {
       "data": [
        {
         "mode": "lines",
         "name": "Actual",
         "x": [
          "2012-09-01T00:00:00.000000000",
          "2012-10-01T00:00:00.000000000",
          "2012-11-01T00:00:00.000000000",
          "2012-12-01T00:00:00.000000000",
          "2013-01-01T00:00:00.000000000",
          "2013-02-01T00:00:00.000000000",
          "2013-03-01T00:00:00.000000000",
          "2013-04-01T00:00:00.000000000",
          "2013-05-01T00:00:00.000000000",
          "2013-06-01T00:00:00.000000000",
          "2013-07-01T00:00:00.000000000",
          "2013-08-01T00:00:00.000000000",
          "2013-09-01T00:00:00.000000000",
          "2013-10-01T00:00:00.000000000",
          "2013-11-01T00:00:00.000000000",
          "2013-12-01T00:00:00.000000000",
          "2014-01-01T00:00:00.000000000",
          "2014-02-01T00:00:00.000000000",
          "2014-03-01T00:00:00.000000000",
          "2014-04-01T00:00:00.000000000",
          "2014-05-01T00:00:00.000000000",
          "2014-06-01T00:00:00.000000000",
          "2014-07-01T00:00:00.000000000",
          "2014-08-01T00:00:00.000000000",
          "2014-09-01T00:00:00.000000000",
          "2014-10-01T00:00:00.000000000",
          "2014-11-01T00:00:00.000000000",
          "2014-12-01T00:00:00.000000000",
          "2015-01-01T00:00:00.000000000",
          "2015-02-01T00:00:00.000000000",
          "2015-03-01T00:00:00.000000000",
          "2015-04-01T00:00:00.000000000",
          "2015-05-01T00:00:00.000000000",
          "2015-06-01T00:00:00.000000000",
          "2015-07-01T00:00:00.000000000",
          "2015-08-01T00:00:00.000000000",
          "2015-09-01T00:00:00.000000000",
          "2015-10-01T00:00:00.000000000",
          "2015-11-01T00:00:00.000000000",
          "2015-12-01T00:00:00.000000000",
          "2016-01-01T00:00:00.000000000",
          "2016-02-01T00:00:00.000000000",
          "2016-03-01T00:00:00.000000000",
          "2016-04-01T00:00:00.000000000",
          "2016-05-01T00:00:00.000000000",
          "2016-06-01T00:00:00.000000000",
          "2016-07-01T00:00:00.000000000",
          "2016-08-01T00:00:00.000000000",
          "2016-09-01T00:00:00.000000000",
          "2016-10-01T00:00:00.000000000",
          "2016-11-01T00:00:00.000000000",
          "2016-12-01T00:00:00.000000000",
          "2017-01-01T00:00:00.000000000",
          "2017-02-01T00:00:00.000000000",
          "2017-03-01T00:00:00.000000000",
          "2017-04-01T00:00:00.000000000",
          "2017-05-01T00:00:00.000000000",
          "2017-06-01T00:00:00.000000000",
          "2017-07-01T00:00:00.000000000",
          "2017-08-01T00:00:00.000000000",
          "2017-09-01T00:00:00.000000000",
          "2017-10-01T00:00:00.000000000",
          "2017-11-01T00:00:00.000000000",
          "2017-12-01T00:00:00.000000000",
          "2018-01-01T00:00:00.000000000",
          "2018-02-01T00:00:00.000000000",
          "2018-03-01T00:00:00.000000000",
          "2018-04-01T00:00:00.000000000",
          "2018-05-01T00:00:00.000000000",
          "2018-06-01T00:00:00.000000000",
          "2018-07-01T00:00:00.000000000",
          "2018-08-01T00:00:00.000000000",
          "2018-09-01T00:00:00.000000000",
          "2018-10-01T00:00:00.000000000"
         ],
         "y": {
          "dtype": "f4",
          "bdata": "jZe5QdRbuEHufKhBbRqiQUkFoEGB2LhByoTSQcAR30Fa2eZB4+zEQYHIuUH9t7dBjd66QZ1zuEFx9qhB6HeXQRtioUHXo6pBwT/PQYR56UGH6upByL3bQRo+xEFrG71BDAK5QXsUuEGrqqhBvIqWQY/Cl0FGMLNBmuLKQcRn4EGjTOZB+cXKQf5JwkE8L79BupC9QfyTwkEuJLFBoLuiQbgeoUFhublBaffbQdV46EH2KOpB1urQQfeVvEGGD7lBlkO1QT6crUHiM5lBpLmaQZPlnUH8bLxBb4fQQSD35EEequtBwcrMQWf4vkH7AbpBPsO/QfMpuUGEeZ5BIPKXQZ4Fm0FlNbVBaWXTQSPb6UECbepBI9vLQbpCvEFgRLdBV4C4QVtrvUE="
         },
         "type": "scatter"
        },
        {
         "mode": "lines",
         "name": "Predicted",
         "x": [
          "2012-09-01T00:00:00.000000000",
          "2012-10-01T00:00:00.000000000",
          "2012-11-01T00:00:00.000000000",
          "2012-12-01T00:00:00.000000000",
          "2013-01-01T00:00:00.000000000",
          "2013-02-01T00:00:00.000000000",
          "2013-03-01T00:00:00.000000000",
          "2013-04-01T00:00:00.000000000",
          "2013-05-01T00:00:00.000000000",
          "2013-06-01T00:00:00.000000000",
          "2013-07-01T00:00:00.000000000",
          "2013-08-01T00:00:00.000000000",
          "2013-09-01T00:00:00.000000000",
          "2013-10-01T00:00:00.000000000",
          "2013-11-01T00:00:00.000000000",
          "2013-12-01T00:00:00.000000000",
          "2014-01-01T00:00:00.000000000",
          "2014-02-01T00:00:00.000000000",
          "2014-03-01T00:00:00.000000000",
          "2014-04-01T00:00:00.000000000",
          "2014-05-01T00:00:00.000000000",
          "2014-06-01T00:00:00.000000000",
          "2014-07-01T00:00:00.000000000",
          "2014-08-01T00:00:00.000000000",
          "2014-09-01T00:00:00.000000000",
          "2014-10-01T00:00:00.000000000",
          "2014-11-01T00:00:00.000000000",
          "2014-12-01T00:00:00.000000000",
          "2015-01-01T00:00:00.000000000",
          "2015-02-01T00:00:00.000000000",
          "2015-03-01T00:00:00.000000000",
          "2015-04-01T00:00:00.000000000",
          "2015-05-01T00:00:00.000000000",
          "2015-06-01T00:00:00.000000000",
          "2015-07-01T00:00:00.000000000",
          "2015-08-01T00:00:00.000000000",
          "2015-09-01T00:00:00.000000000",
          "2015-10-01T00:00:00.000000000",
          "2015-11-01T00:00:00.000000000",
          "2015-12-01T00:00:00.000000000",
          "2016-01-01T00:00:00.000000000",
          "2016-02-01T00:00:00.000000000",
          "2016-03-01T00:00:00.000000000",
          "2016-04-01T00:00:00.000000000",
          "2016-05-01T00:00:00.000000000",
          "2016-06-01T00:00:00.000000000",
          "2016-07-01T00:00:00.000000000",
          "2016-08-01T00:00:00.000000000",
          "2016-09-01T00:00:00.000000000",
          "2016-10-01T00:00:00.000000000",
          "2016-11-01T00:00:00.000000000",
          "2016-12-01T00:00:00.000000000",
          "2017-01-01T00:00:00.000000000",
          "2017-02-01T00:00:00.000000000",
          "2017-03-01T00:00:00.000000000",
          "2017-04-01T00:00:00.000000000",
          "2017-05-01T00:00:00.000000000",
          "2017-06-01T00:00:00.000000000",
          "2017-07-01T00:00:00.000000000",
          "2017-08-01T00:00:00.000000000",
          "2017-09-01T00:00:00.000000000",
          "2017-10-01T00:00:00.000000000",
          "2017-11-01T00:00:00.000000000",
          "2017-12-01T00:00:00.000000000",
          "2018-01-01T00:00:00.000000000",
          "2018-02-01T00:00:00.000000000",
          "2018-03-01T00:00:00.000000000",
          "2018-04-01T00:00:00.000000000",
          "2018-05-01T00:00:00.000000000",
          "2018-06-01T00:00:00.000000000",
          "2018-07-01T00:00:00.000000000",
          "2018-08-01T00:00:00.000000000",
          "2018-09-01T00:00:00.000000000",
          "2018-10-01T00:00:00.000000000"
         ],
         "y": {
          "dtype": "f8",
          "bdata": "NhPJ8Bs8N0DvXo33rgg3QIOvhVdk+DRAn6Mxy0z/M0CJsT3V2fYzQLfJofay8jZAKxn+riljOkAA/fpcxyk8QE+ZlhlYvzxAd7JaIKXROEDa7vtBCWI3QGHEUWmrCjdA213SvRBCN0BOWtjhb/A2QGxOUcbVHzVARHED2WAxM0DPEfs4ft0zQMCkKTugkzVAITL+YwvZOUBmPqJLyAA9QMRNj7bXJD1AnTbQURHdOkD9QYZvy3o4QMl/AytYoDdAyAQnHTA6N0BOdmfIKQs3QFQj/JyfFzVAhjvnU+k2M0C2S5FRrVIzQJNfbFzqSzZAj+M4nal1OUCOLvre0Bg8QHKc3DrcfDxAw23Ul1NNOUAoOkGdGDs4QIbjnyJ5ujdAeGzU3mGbN0CM6ImM8OQ3QLce8eqOODZAOZ1wP880NEA121nKoG40QB6qpU282TZAdwVIVWYZO0Cn6gUBBQQ9QIrX3mPhLT1AnxWNY6D9OUD/t5F7u7g3QBlxuU20LzdAbPsoIrzmNkBA7LIV3+E1QH2wxeTyojNAfVzjwwduM0Dj6iqxi/4zQAB1teRHezdAai0Zf+RUOkAmSgnTO688QC5vai5OOD1ALGbT81SOOUCbnQHsj9U3QCzpU0j0RTdA3a2oKb2mN0CSOcjxF/42QP0nje2+NjRAd9XMCggyM0CxuiJWyYMzQNBEiOePiDZA9eZOgtQjOkCmBAv1uhc9QNktDbgXKz1AyL3mzrOGOUCSsq0O86U3QGu66t6TETdAXHS1yTUgN0Cbs+NLB0g3QA=="
         },
         "type": "scatter"
        }
       ],
       "layout": {
        "template": {
         "data": {
          "histogram2dcontour": [
           {
            "type": "histogram2dcontour",
            "colorbar": {
             "outlinewidth": 0,
             "ticks": ""
            },
            "colorscale": [
             [
              0.0,
              "#0d0887"
             ],
             [
              0.1111111111111111,
              "#46039f"
             ],
             [
              0.2222222222222222,
              "#7201a8"
             ],
             [
              0.3333333333333333,
              "#9c179e"
             ],
             [
              0.4444444444444444,
              "#bd3786"
             ],
             [
              0.5555555555555556,
              "#d8576b"
             ],
             [
              0.6666666666666666,
              "#ed7953"
             ],
             [
              0.7777777777777778,
              "#fb9f3a"
             ],
             [
              0.8888888888888888,
              "#fdca26"
             ],
             [
              1.0,
              "#f0f921"
             ]
            ]
           }
          ],
          "choropleth": [
           {
            "type": "choropleth",
            "colorbar": {
             "outlinewidth": 0,
             "ticks": ""
            }
           }
          ],
          "histogram2d": [
           {
            "type": "histogram2d",
            "colorbar": {
             "outlinewidth": 0,
             "ticks": ""
            },
            "colorscale": [
             [
              0.0,
              "#0d0887"
             ],
             [
              0.1111111111111111,
              "#46039f"
             ],
             [
              0.2222222222222222,
              "#7201a8"
             ],
             [
              0.3333333333333333,
              "#9c179e"
             ],
             [
              0.4444444444444444,
              "#bd3786"
             ],
             [
              0.5555555555555556,
              "#d8576b"
             ],
             [
              0.6666666666666666,
              "#ed7953"
             ],
             [
              0.7777777777777778,
              "#fb9f3a"
             ],
             [
              0.8888888888888888,
              "#fdca26"
             ],
             [
              1.0,
              "#f0f921"
             ]
            ]
           }
          ],
          "heatmap": [
           {
            "type": "heatmap",
            "colorbar": {
             "outlinewidth": 0,
             "ticks": ""
            },
            "colorscale": [
             [
              0.0,
              "#0d0887"
             ],
             [
              0.1111111111111111,
              "#46039f"
             ],
             [
              0.2222222222222222,
              "#7201a8"
             ],
             [
              0.3333333333333333,
              "#9c179e"
             ],
             [
              0.4444444444444444,
              "#bd3786"
             ],
             [
              0.5555555555555556,
              "#d8576b"
             ],
             [
              0.6666666666666666,
              "#ed7953"
             ],
             [
              0.7777777777777778,
              "#fb9f3a"
             ],
             [
              0.8888888888888888,
              "#fdca26"
             ],
             [
              1.0,
              "#f0f921"
             ]
            ]
           }
          ],
          "contourcarpet": [
           {
            "type": "contourcarpet",
            "colorbar": {
             "outlinewidth": 0,
             "ticks": ""
            }
           }
          ],
          "contour": [
           {
            "type": "contour",
            "colorbar": {
             "outlinewidth": 0,
             "ticks": ""
            },
            "colorscale": [
             [
              0.0,
              "#0d0887"
             ],
             [
              0.1111111111111111,
              "#46039f"
             ],
             [
              0.2222222222222222,
              "#7201a8"
             ],
             [
              0.3333333333333333,
              "#9c179e"
             ],
             [
              0.4444444444444444,
              "#bd3786"
             ],
             [
              0.5555555555555556,
              "#d8576b"
             ],
             [
              0.6666666666666666,
              "#ed7953"
             ],
             [
              0.7777777777777778,
              "#fb9f3a"
             ],
             [
              0.8888888888888888,
              "#fdca26"
             ],
             [
              1.0,
              "#f0f921"
             ]
            ]
           }
          ],
          "surface": [
           {
            "type": "surface",
            "colorbar": {
             "outlinewidth": 0,
             "ticks": ""
            },
            "colorscale": [
             [
              0.0,
              "#0d0887"
             ],
             [
              0.1111111111111111,
              "#46039f"
             ],
             [
              0.2222222222222222,
              "#7201a8"
             ],
             [
              0.3333333333333333,
              "#9c179e"
             ],
             [
              0.4444444444444444,
              "#bd3786"
             ],
             [
              0.5555555555555556,
              "#d8576b"
             ],
             [
              0.6666666666666666,
              "#ed7953"
             ],
             [
              0.7777777777777778,
              "#fb9f3a"
             ],
             [
              0.8888888888888888,
              "#fdca26"
             ],
             [
              1.0,
              "#f0f921"
             ]
            ]
           }
          ],
          "mesh3d": [
           {
            "type": "mesh3d",
            "colorbar": {
             "outlinewidth": 0,
             "ticks": ""
            }
           }
          ],
          "scatter": [
           {
            "fillpattern": {
             "fillmode": "overlay",
             "size": 10,
             "solidity": 0.2
            },
            "type": "scatter"
           }
          ],
          "parcoords": [
           {
            "type": "parcoords",
            "line": {
             "colorbar": {
              "outlinewidth": 0,
              "ticks": ""
             }
            }
           }
          ],
          "scatterpolargl": [
           {
            "type": "scatterpolargl",
            "marker": {
             "colorbar": {
              "outlinewidth": 0,
              "ticks": ""
             }
            }
           }
          ],
          "bar": [
           {
            "error_x": {
             "color": "#2a3f5f"
            },
            "error_y": {
             "color": "#2a3f5f"
            },
            "marker": {
             "line": {
              "color": "#E5ECF6",
              "width": 0.5
             },
             "pattern": {
              "fillmode": "overlay",
              "size": 10,
              "solidity": 0.2
             }
            },
            "type": "bar"
           }
          ],
          "scattergeo": [
           {
            "type": "scattergeo",
            "marker": {
             "colorbar": {
              "outlinewidth": 0,
              "ticks": ""
             }
            }
           }
          ],
          "scatterpolar": [
           {
            "type": "scatterpolar",
            "marker": {
             "colorbar": {
              "outlinewidth": 0,
              "ticks": ""
             }
            }
           }
          ],
          "histogram": [
           {
            "marker": {
             "pattern": {
              "fillmode": "overlay",
              "size": 10,
              "solidity": 0.2
             }
            },
            "type": "histogram"
           }
          ],
          "scattergl": [
           {
            "type": "scattergl",
            "marker": {
             "colorbar": {
              "outlinewidth": 0,
              "ticks": ""
             }
            }
           }
          ],
          "scatter3d": [
           {
            "type": "scatter3d",
            "line": {
             "colorbar": {
              "outlinewidth": 0,
              "ticks": ""
             }
            },
            "marker": {
             "colorbar": {
              "outlinewidth": 0,
              "ticks": ""
             }
            }
           }
          ],
          "scattermap": [
           {
            "type": "scattermap",
            "marker": {
             "colorbar": {
              "outlinewidth": 0,
              "ticks": ""
             }
            }
           }
          ],
          "scattermapbox": [
           {
            "type": "scattermapbox",
            "marker": {
             "colorbar": {
              "outlinewidth": 0,
              "ticks": ""
             }
            }
           }
          ],
          "scatterternary": [
           {
            "type": "scatterternary",
            "marker": {
             "colorbar": {
              "outlinewidth": 0,
              "ticks": ""
             }
            }
           }
          ],
          "scattercarpet": [
           {
            "type": "scattercarpet",
            "marker": {
             "colorbar": {
              "outlinewidth": 0,
              "ticks": ""
             }
            }
           }
          ],
          "carpet": [
           {
            "aaxis": {
             "endlinecolor": "#2a3f5f",
             "gridcolor": "white",
             "linecolor": "white",
             "minorgridcolor": "white",
             "startlinecolor": "#2a3f5f"
            },
            "baxis": {
             "endlinecolor": "#2a3f5f",
             "gridcolor": "white",
             "linecolor": "white",
             "minorgridcolor": "white",
             "startlinecolor": "#2a3f5f"
            },
            "type": "carpet"
           }
          ],
          "table": [
           {
            "cells": {
             "fill": {
              "color": "#EBF0F8"
             },
             "line": {
              "color": "white"
             }
            },
            "header": {
             "fill": {
              "color": "#C8D4E3"
             },
             "line": {
              "color": "white"
             }
            },
            "type": "table"
           }
          ],
          "barpolar": [
           {
            "marker": {
             "line": {
              "color": "#E5ECF6",
              "width": 0.5
             },
             "pattern": {
              "fillmode": "overlay",
              "size": 10,
              "solidity": 0.2
             }
            },
            "type": "barpolar"
           }
          ],
          "pie": [
           {
            "automargin": true,
            "type": "pie"
           }
          ]
         },
         "layout": {
          "autotypenumbers": "strict",
          "colorway": [
           "#636efa",
           "#EF553B",
           "#00cc96",
           "#ab63fa",
           "#FFA15A",
           "#19d3f3",
           "#FF6692",
           "#B6E880",
           "#FF97FF",
           "#FECB52"
          ],
          "font": {
           "color": "#2a3f5f"
          },
          "hovermode": "closest",
          "hoverlabel": {
           "align": "left"
          },
          "paper_bgcolor": "white",
          "plot_bgcolor": "#E5ECF6",
          "polar": {
           "bgcolor": "#E5ECF6",
           "angularaxis": {
            "gridcolor": "white",
            "linecolor": "white",
            "ticks": ""
           },
           "radialaxis": {
            "gridcolor": "white",
            "linecolor": "white",
            "ticks": ""
           }
          },
          "ternary": {
           "bgcolor": "#E5ECF6",
           "aaxis": {
            "gridcolor": "white",
            "linecolor": "white",
            "ticks": ""
           },
           "baxis": {
            "gridcolor": "white",
            "linecolor": "white",
            "ticks": ""
           },
           "caxis": {
            "gridcolor": "white",
            "linecolor": "white",
            "ticks": ""
           }
          },
          "coloraxis": {
           "colorbar": {
            "outlinewidth": 0,
            "ticks": ""
           }
          },
          "colorscale": {
           "sequential": [
            [
             0.0,
             "#0d0887"
            ],
            [
             0.1111111111111111,
             "#46039f"
            ],
            [
             0.2222222222222222,
             "#7201a8"
            ],
            [
             0.3333333333333333,
             "#9c179e"
            ],
            [
             0.4444444444444444,
             "#bd3786"
            ],
            [
             0.5555555555555556,
             "#d8576b"
            ],
            [
             0.6666666666666666,
             "#ed7953"
            ],
            [
             0.7777777777777778,
             "#fb9f3a"
            ],
            [
             0.8888888888888888,
             "#fdca26"
            ],
            [
             1.0,
             "#f0f921"
            ]
           ],
           "sequentialminus": [
            [
             0.0,
             "#0d0887"
            ],
            [
             0.1111111111111111,
             "#46039f"
            ],
            [
             0.2222222222222222,
             "#7201a8"
            ],
            [
             0.3333333333333333,
             "#9c179e"
            ],
            [
             0.4444444444444444,
             "#bd3786"
            ],
            [
             0.5555555555555556,
             "#d8576b"
            ],
            [
             0.6666666666666666,
             "#ed7953"
            ],
            [
             0.7777777777777778,
             "#fb9f3a"
            ],
            [
             0.8888888888888888,
             "#fdca26"
            ],
            [
             1.0,
             "#f0f921"
            ]
           ],
           "diverging": [
            [
             0,
             "#8e0152"
            ],
            [
             0.1,
             "#c51b7d"
            ],
            [
             0.2,
             "#de77ae"
            ],
            [
             0.3,
             "#f1b6da"
            ],
            [
             0.4,
             "#fde0ef"
            ],
            [
             0.5,
             "#f7f7f7"
            ],
            [
             0.6,
             "#e6f5d0"
            ],
            [
             0.7,
             "#b8e186"
            ],
            [
             0.8,
             "#7fbc41"
            ],
            [
             0.9,
             "#4d9221"
            ],
            [
             1,
             "#276419"
            ]
           ]
          },
          "xaxis": {
           "gridcolor": "white",
           "linecolor": "white",
           "ticks": "",
           "title": {
            "standoff": 15
           },
           "zerolinecolor": "white",
           "automargin": true,
           "zerolinewidth": 2
          },
          "yaxis": {
           "gridcolor": "white",
           "linecolor": "white",
           "ticks": "",
           "title": {
            "standoff": 15
           },
           "zerolinecolor": "white",
           "automargin": true,
           "zerolinewidth": 2
          },
          "scene": {
           "xaxis": {
            "backgroundcolor": "#E5ECF6",
            "gridcolor": "white",
            "linecolor": "white",
            "showbackground": true,
            "ticks": "",
            "zerolinecolor": "white",
            "gridwidth": 2
           },
           "yaxis": {
            "backgroundcolor": "#E5ECF6",
            "gridcolor": "white",
            "linecolor": "white",
            "showbackground": true,
            "ticks": "",
            "zerolinecolor": "white",
            "gridwidth": 2
           },
           "zaxis": {
            "backgroundcolor": "#E5ECF6",
            "gridcolor": "white",
            "linecolor": "white",
            "showbackground": true,
            "ticks": "",
            "zerolinecolor": "white",
            "gridwidth": 2
           }
          },
          "shapedefaults": {
           "line": {
            "color": "#2a3f5f"
           }
          },
          "annotationdefaults": {
           "arrowcolor": "#2a3f5f",
           "arrowhead": 0,
           "arrowwidth": 1
          },
          "geo": {
           "bgcolor": "white",
           "landcolor": "#E5ECF6",
           "subunitcolor": "white",
           "showland": true,
           "showlakes": true,
           "lakecolor": "white"
          },
          "title": {
           "x": 0.05
          },
          "mapbox": {
           "style": "light"
          }
         }
        },
        "title": {
         "text": "RF — Actual vs Predicted (Validation)"
        },
        "xaxis": {
         "title": {
          "text": "Date"
         }
        },
        "yaxis": {
         "title": {
          "text": "Temperature (°C)"
         }
        },
        "hovermode": "x unified"
       },
       "config": {
        "plotlyServerURL": "https://plot.ly"
       }
      }
     },
     "metadata": {},
     "output_type": "display_data",
     "jetTransient": {
      "display_id": null
     }
    },
    {
     "data": {
      "application/vnd.plotly.v1+json": {
       "data": [
        {
         "mode": "lines",
         "name": "Actual",
         "x": [
          "2018-11-01T00:00:00.000000000",
          "2018-12-01T00:00:00.000000000",
          "2019-01-01T00:00:00.000000000",
          "2019-02-01T00:00:00.000000000",
          "2019-03-01T00:00:00.000000000",
          "2019-04-01T00:00:00.000000000",
          "2019-05-01T00:00:00.000000000",
          "2019-06-01T00:00:00.000000000",
          "2019-07-01T00:00:00.000000000",
          "2019-08-01T00:00:00.000000000",
          "2019-09-01T00:00:00.000000000",
          "2019-10-01T00:00:00.000000000",
          "2019-11-01T00:00:00.000000000",
          "2019-12-01T00:00:00.000000000",
          "2020-01-01T00:00:00.000000000",
          "2020-02-01T00:00:00.000000000",
          "2020-03-01T00:00:00.000000000",
          "2020-04-01T00:00:00.000000000",
          "2020-05-01T00:00:00.000000000",
          "2020-06-01T00:00:00.000000000",
          "2020-07-01T00:00:00.000000000",
          "2020-08-01T00:00:00.000000000",
          "2020-09-01T00:00:00.000000000",
          "2020-10-01T00:00:00.000000000",
          "2020-11-01T00:00:00.000000000",
          "2020-12-01T00:00:00.000000000",
          "2021-01-01T00:00:00.000000000",
          "2021-02-01T00:00:00.000000000",
          "2021-03-01T00:00:00.000000000",
          "2021-04-01T00:00:00.000000000",
          "2021-05-01T00:00:00.000000000",
          "2021-06-01T00:00:00.000000000",
          "2021-07-01T00:00:00.000000000",
          "2021-08-01T00:00:00.000000000",
          "2021-09-01T00:00:00.000000000",
          "2021-10-01T00:00:00.000000000",
          "2021-11-01T00:00:00.000000000",
          "2021-12-01T00:00:00.000000000",
          "2022-01-01T00:00:00.000000000",
          "2022-02-01T00:00:00.000000000",
          "2022-03-01T00:00:00.000000000",
          "2022-04-01T00:00:00.000000000",
          "2022-05-01T00:00:00.000000000",
          "2022-06-01T00:00:00.000000000",
          "2022-07-01T00:00:00.000000000",
          "2022-08-01T00:00:00.000000000",
          "2022-09-01T00:00:00.000000000",
          "2022-10-01T00:00:00.000000000",
          "2022-11-01T00:00:00.000000000",
          "2022-12-01T00:00:00.000000000",
          "2023-01-01T00:00:00.000000000",
          "2023-02-01T00:00:00.000000000",
          "2023-03-01T00:00:00.000000000",
          "2023-04-01T00:00:00.000000000",
          "2023-05-01T00:00:00.000000000",
          "2023-06-01T00:00:00.000000000",
          "2023-07-01T00:00:00.000000000",
          "2023-08-01T00:00:00.000000000",
          "2023-09-01T00:00:00.000000000",
          "2023-10-01T00:00:00.000000000",
          "2023-11-01T00:00:00.000000000",
          "2023-12-01T00:00:00.000000000",
          "2024-01-01T00:00:00.000000000",
          "2024-02-01T00:00:00.000000000",
          "2024-03-01T00:00:00.000000000",
          "2024-04-01T00:00:00.000000000",
          "2024-05-01T00:00:00.000000000",
          "2024-06-01T00:00:00.000000000",
          "2024-07-01T00:00:00.000000000",
          "2024-08-01T00:00:00.000000000",
          "2024-09-01T00:00:00.000000000",
          "2024-10-01T00:00:00.000000000",
          "2024-11-01T00:00:00.000000000",
          "2024-12-01T00:00:00.000000000"
         ],
         "y": {
          "dtype": "f4",
          "bdata": "mpmwQet2nEFM355BkfO3QSml0kEZvexBOMPnQSxA10ENaMFB5i+7QVCNu0HwT7hBd3erQQpFpUEyWJVBCMWsQbrUwkH2KOtBHjzuQckvyEGx2MBBhn28QdCwvUFrG71Bvp+qQTBZnEFMTapB0d+rQc0V1EHfT+VBZLDcQYGVxkHj575BjDG6QRp2ukFaR7hBkxixQUJRmkHvK5FBpHCkQTyd1kF+sexBHqrjQfLS0EH7AbxBZ6+5QXH2uUEXrbBBMsGdQdwzo0HVpJdBSRK0QT0KxUGGXeBB7gfmQYQy1UGhKL9BPQq7Qei0vUGOnrhBF9muQclgo0EASaFBrb64Qd8y0kF3d/RBgO3rQVNxz0FsiMFBTN/AQby7ukFn+L5B7nyeQVsioEE="
         },
         "type": "scatter"
        },
        {
         "mode": "lines",
         "name": "Predicted",
         "x": [
          "2018-11-01T00:00:00.000000000",
          "2018-12-01T00:00:00.000000000",
          "2019-01-01T00:00:00.000000000",
          "2019-02-01T00:00:00.000000000",
          "2019-03-01T00:00:00.000000000",
          "2019-04-01T00:00:00.000000000",
          "2019-05-01T00:00:00.000000000",
          "2019-06-01T00:00:00.000000000",
          "2019-07-01T00:00:00.000000000",
          "2019-08-01T00:00:00.000000000",
          "2019-09-01T00:00:00.000000000",
          "2019-10-01T00:00:00.000000000",
          "2019-11-01T00:00:00.000000000",
          "2019-12-01T00:00:00.000000000",
          "2020-01-01T00:00:00.000000000",
          "2020-02-01T00:00:00.000000000",
          "2020-03-01T00:00:00.000000000",
          "2020-04-01T00:00:00.000000000",
          "2020-05-01T00:00:00.000000000",
          "2020-06-01T00:00:00.000000000",
          "2020-07-01T00:00:00.000000000",
          "2020-08-01T00:00:00.000000000",
          "2020-09-01T00:00:00.000000000",
          "2020-10-01T00:00:00.000000000",
          "2020-11-01T00:00:00.000000000",
          "2020-12-01T00:00:00.000000000",
          "2021-01-01T00:00:00.000000000",
          "2021-02-01T00:00:00.000000000",
          "2021-03-01T00:00:00.000000000",
          "2021-04-01T00:00:00.000000000",
          "2021-05-01T00:00:00.000000000",
          "2021-06-01T00:00:00.000000000",
          "2021-07-01T00:00:00.000000000",
          "2021-08-01T00:00:00.000000000",
          "2021-09-01T00:00:00.000000000",
          "2021-10-01T00:00:00.000000000",
          "2021-11-01T00:00:00.000000000",
          "2021-12-01T00:00:00.000000000",
          "2022-01-01T00:00:00.000000000",
          "2022-02-01T00:00:00.000000000",
          "2022-03-01T00:00:00.000000000",
          "2022-04-01T00:00:00.000000000",
          "2022-05-01T00:00:00.000000000",
          "2022-06-01T00:00:00.000000000",
          "2022-07-01T00:00:00.000000000",
          "2022-08-01T00:00:00.000000000",
          "2022-09-01T00:00:00.000000000",
          "2022-10-01T00:00:00.000000000",
          "2022-11-01T00:00:00.000000000",
          "2022-12-01T00:00:00.000000000",
          "2023-01-01T00:00:00.000000000",
          "2023-02-01T00:00:00.000000000",
          "2023-03-01T00:00:00.000000000",
          "2023-04-01T00:00:00.000000000",
          "2023-05-01T00:00:00.000000000",
          "2023-06-01T00:00:00.000000000",
          "2023-07-01T00:00:00.000000000",
          "2023-08-01T00:00:00.000000000",
          "2023-09-01T00:00:00.000000000",
          "2023-10-01T00:00:00.000000000",
          "2023-11-01T00:00:00.000000000",
          "2023-12-01T00:00:00.000000000",
          "2024-01-01T00:00:00.000000000",
          "2024-02-01T00:00:00.000000000",
          "2024-03-01T00:00:00.000000000",
          "2024-04-01T00:00:00.000000000",
          "2024-05-01T00:00:00.000000000",
          "2024-06-01T00:00:00.000000000",
          "2024-07-01T00:00:00.000000000",
          "2024-08-01T00:00:00.000000000",
          "2024-09-01T00:00:00.000000000",
          "2024-10-01T00:00:00.000000000",
          "2024-11-01T00:00:00.000000000",
          "2024-12-01T00:00:00.000000000"
         ],
         "y": {
          "dtype": "f8",
          "bdata": "mAKUMlOWNUBesgxB6Fo0QAZbcG6G3jVAIHUPTjF5N0BFIwGpr4Y6QFnur6wW8zxAJzRbJAjxPECxmE2tch86QFXBqPJfKDhAMK68w6ZuN0BYuaz5eUo3QDT3X3lX3zZAx7HEQ3gjNkA6itNyTio0QKu4VGFEpTNASS9JaHUMNUDwlt9/W504QMB+V1yHCDtAvH3+bt63PEAf8vh+Ipk5QOCct2b3xDdAJ644cHhYN0CV48V9jV43QAVaS6BPKTdAu3NIkCVBNkAtqPbzozA0QFPW5RB0lzNAxhpJS+MBNUAGgZVnysI4QHRX8W3zdTtAggJRvQVXO0AiIiLwht84QFHYWmxCmDdArCdegJBHN0AHeb42ODc3QI9mYC7CDzdAqqu/e7snNkC6ltznRFI0QFayQZFArTNAPNbs2nqdNEAPMtQPDbI3QAdTSwr6vztAJAaBK2NBPEAhQ2VHzvc5QK8kl4rE1TdAiBrJfu03N0DcVyCDAS03QBppOLULnjZAMeBojPX1NEDbKRybYaUzQLd8c+KHXTNAwJhw5OzaNUBXuTBTj7Y4QFnKFwTnvTtAcrYHzq2GPEB7GgCqW9M5QH6mXCrkCjhA1KZ9amVxN0BKWg4xZU83QDdTfTp/+TZAN+HQPFbsNUAfcNB5SfszQNpqffvF5TNAjpp79kQDNkCDLdiGWjU6QLf/Nn0SfjxAvIDECTGWPECHFtkYLYk5QHgcKK38zzdAWUamFcFtN0AXxGGz8mk3QM3/08VdFTdAF1JqiWmGNUDUTenXUc4zQA=="
         },
         "type": "scatter"
        }
       ],
       "layout": {
        "template": {
         "data": {
          "histogram2dcontour": [
           {
            "type": "histogram2dcontour",
            "colorbar": {
             "outlinewidth": 0,
             "ticks": ""
            },
            "colorscale": [
             [
              0.0,
              "#0d0887"
             ],
             [
              0.1111111111111111,
              "#46039f"
             ],
             [
              0.2222222222222222,
              "#7201a8"
             ],
             [
              0.3333333333333333,
              "#9c179e"
             ],
             [
              0.4444444444444444,
              "#bd3786"
             ],
             [
              0.5555555555555556,
              "#d8576b"
             ],
             [
              0.6666666666666666,
              "#ed7953"
             ],
             [
              0.7777777777777778,
              "#fb9f3a"
             ],
             [
              0.8888888888888888,
              "#fdca26"
             ],
             [
              1.0,
              "#f0f921"
             ]
            ]
           }
          ],
          "choropleth": [
           {
            "type": "choropleth",
            "colorbar": {
             "outlinewidth": 0,
             "ticks": ""
            }
           }
          ],
          "histogram2d": [
           {
            "type": "histogram2d",
            "colorbar": {
             "outlinewidth": 0,
             "ticks": ""
            },
            "colorscale": [
             [
              0.0,
              "#0d0887"
             ],
             [
              0.1111111111111111,
              "#46039f"
             ],
             [
              0.2222222222222222,
              "#7201a8"
             ],
             [
              0.3333333333333333,
              "#9c179e"
             ],
             [
              0.4444444444444444,
              "#bd3786"
             ],
             [
              0.5555555555555556,
              "#d8576b"
             ],
             [
              0.6666666666666666,
              "#ed7953"
             ],
             [
              0.7777777777777778,
              "#fb9f3a"
             ],
             [
              0.8888888888888888,
              "#fdca26"
             ],
             [
              1.0,
              "#f0f921"
             ]
            ]
           }
          ],
          "heatmap": [
           {
            "type": "heatmap",
            "colorbar": {
             "outlinewidth": 0,
             "ticks": ""
            },
            "colorscale": [
             [
              0.0,
              "#0d0887"
             ],
             [
              0.1111111111111111,
              "#46039f"
             ],
             [
              0.2222222222222222,
              "#7201a8"
             ],
             [
              0.3333333333333333,
              "#9c179e"
             ],
             [
              0.4444444444444444,
              "#bd3786"
             ],
             [
              0.5555555555555556,
              "#d8576b"
             ],
             [
              0.6666666666666666,
              "#ed7953"
             ],
             [
              0.7777777777777778,
              "#fb9f3a"
             ],
             [
              0.8888888888888888,
              "#fdca26"
             ],
             [
              1.0,
              "#f0f921"
             ]
            ]
           }
          ],
          "contourcarpet": [
           {
            "type": "contourcarpet",
            "colorbar": {
             "outlinewidth": 0,
             "ticks": ""
            }
           }
          ],
          "contour": [
           {
            "type": "contour",
            "colorbar": {
             "outlinewidth": 0,
             "ticks": ""
            },
            "colorscale": [
             [
              0.0,
              "#0d0887"
             ],
             [
              0.1111111111111111,
              "#46039f"
             ],
             [
              0.2222222222222222,
              "#7201a8"
             ],
             [
              0.3333333333333333,
              "#9c179e"
             ],
             [
              0.4444444444444444,
              "#bd3786"
             ],
             [
              0.5555555555555556,
              "#d8576b"
             ],
             [
              0.6666666666666666,
              "#ed7953"
             ],
             [
              0.7777777777777778,
              "#fb9f3a"
             ],
             [
              0.8888888888888888,
              "#fdca26"
             ],
             [
              1.0,
              "#f0f921"
             ]
            ]
           }
          ],
          "surface": [
           {
            "type": "surface",
            "colorbar": {
             "outlinewidth": 0,
             "ticks": ""
            },
            "colorscale": [
             [
              0.0,
              "#0d0887"
             ],
             [
              0.1111111111111111,
              "#46039f"
             ],
             [
              0.2222222222222222,
              "#7201a8"
             ],
             [
              0.3333333333333333,
              "#9c179e"
             ],
             [
              0.4444444444444444,
              "#bd3786"
             ],
             [
              0.5555555555555556,
              "#d8576b"
             ],
             [
              0.6666666666666666,
              "#ed7953"
             ],
             [
              0.7777777777777778,
              "#fb9f3a"
             ],
             [
              0.8888888888888888,
              "#fdca26"
             ],
             [
              1.0,
              "#f0f921"
             ]
            ]
           }
          ],
          "mesh3d": [
           {
            "type": "mesh3d",
            "colorbar": {
             "outlinewidth": 0,
             "ticks": ""
            }
           }
          ],
          "scatter": [
           {
            "fillpattern": {
             "fillmode": "overlay",
             "size": 10,
             "solidity": 0.2
            },
            "type": "scatter"
           }
          ],
          "parcoords": [
           {
            "type": "parcoords",
            "line": {
             "colorbar": {
              "outlinewidth": 0,
              "ticks": ""
             }
            }
           }
          ],
          "scatterpolargl": [
           {
            "type": "scatterpolargl",
            "marker": {
             "colorbar": {
              "outlinewidth": 0,
              "ticks": ""
             }
            }
           }
          ],
          "bar": [
           {
            "error_x": {
             "color": "#2a3f5f"
            },
            "error_y": {
             "color": "#2a3f5f"
            },
            "marker": {
             "line": {
              "color": "#E5ECF6",
              "width": 0.5
             },
             "pattern": {
              "fillmode": "overlay",
              "size": 10,
              "solidity": 0.2
             }
            },
            "type": "bar"
           }
          ],
          "scattergeo": [
           {
            "type": "scattergeo",
            "marker": {
             "colorbar": {
              "outlinewidth": 0,
              "ticks": ""
             }
            }
           }
          ],
          "scatterpolar": [
           {
            "type": "scatterpolar",
            "marker": {
             "colorbar": {
              "outlinewidth": 0,
              "ticks": ""
             }
            }
           }
          ],
          "histogram": [
           {
            "marker": {
             "pattern": {
              "fillmode": "overlay",
              "size": 10,
              "solidity": 0.2
             }
            },
            "type": "histogram"
           }
          ],
          "scattergl": [
           {
            "type": "scattergl",
            "marker": {
             "colorbar": {
              "outlinewidth": 0,
              "ticks": ""
             }
            }
           }
          ],
          "scatter3d": [
           {
            "type": "scatter3d",
            "line": {
             "colorbar": {
              "outlinewidth": 0,
              "ticks": ""
             }
            },
            "marker": {
             "colorbar": {
              "outlinewidth": 0,
              "ticks": ""
             }
            }
           }
          ],
          "scattermap": [
           {
            "type": "scattermap",
            "marker": {
             "colorbar": {
              "outlinewidth": 0,
              "ticks": ""
             }
            }
           }
          ],
          "scattermapbox": [
           {
            "type": "scattermapbox",
            "marker": {
             "colorbar": {
              "outlinewidth": 0,
              "ticks": ""
             }
            }
           }
          ],
          "scatterternary": [
           {
            "type": "scatterternary",
            "marker": {
             "colorbar": {
              "outlinewidth": 0,
              "ticks": ""
             }
            }
           }
          ],
          "scattercarpet": [
           {
            "type": "scattercarpet",
            "marker": {
             "colorbar": {
              "outlinewidth": 0,
              "ticks": ""
             }
            }
           }
          ],
          "carpet": [
           {
            "aaxis": {
             "endlinecolor": "#2a3f5f",
             "gridcolor": "white",
             "linecolor": "white",
             "minorgridcolor": "white",
             "startlinecolor": "#2a3f5f"
            },
            "baxis": {
             "endlinecolor": "#2a3f5f",
             "gridcolor": "white",
             "linecolor": "white",
             "minorgridcolor": "white",
             "startlinecolor": "#2a3f5f"
            },
            "type": "carpet"
           }
          ],
          "table": [
           {
            "cells": {
             "fill": {
              "color": "#EBF0F8"
             },
             "line": {
              "color": "white"
             }
            },
            "header": {
             "fill": {
              "color": "#C8D4E3"
             },
             "line": {
              "color": "white"
             }
            },
            "type": "table"
           }
          ],
          "barpolar": [
           {
            "marker": {
             "line": {
              "color": "#E5ECF6",
              "width": 0.5
             },
             "pattern": {
              "fillmode": "overlay",
              "size": 10,
              "solidity": 0.2
             }
            },
            "type": "barpolar"
           }
          ],
          "pie": [
           {
            "automargin": true,
            "type": "pie"
           }
          ]
         },
         "layout": {
          "autotypenumbers": "strict",
          "colorway": [
           "#636efa",
           "#EF553B",
           "#00cc96",
           "#ab63fa",
           "#FFA15A",
           "#19d3f3",
           "#FF6692",
           "#B6E880",
           "#FF97FF",
           "#FECB52"
          ],
          "font": {
           "color": "#2a3f5f"
          },
          "hovermode": "closest",
          "hoverlabel": {
           "align": "left"
          },
          "paper_bgcolor": "white",
          "plot_bgcolor": "#E5ECF6",
          "polar": {
           "bgcolor": "#E5ECF6",
           "angularaxis": {
            "gridcolor": "white",
            "linecolor": "white",
            "ticks": ""
           },
           "radialaxis": {
            "gridcolor": "white",
            "linecolor": "white",
            "ticks": ""
           }
          },
          "ternary": {
           "bgcolor": "#E5ECF6",
           "aaxis": {
            "gridcolor": "white",
            "linecolor": "white",
            "ticks": ""
           },
           "baxis": {
            "gridcolor": "white",
            "linecolor": "white",
            "ticks": ""
           },
           "caxis": {
            "gridcolor": "white",
            "linecolor": "white",
            "ticks": ""
           }
          },
          "coloraxis": {
           "colorbar": {
            "outlinewidth": 0,
            "ticks": ""
           }
          },
          "colorscale": {
           "sequential": [
            [
             0.0,
             "#0d0887"
            ],
            [
             0.1111111111111111,
             "#46039f"
            ],
            [
             0.2222222222222222,
             "#7201a8"
            ],
            [
             0.3333333333333333,
             "#9c179e"
            ],
            [
             0.4444444444444444,
             "#bd3786"
            ],
            [
             0.5555555555555556,
             "#d8576b"
            ],
            [
             0.6666666666666666,
             "#ed7953"
            ],
            [
             0.7777777777777778,
             "#fb9f3a"
            ],
            [
             0.8888888888888888,
             "#fdca26"
            ],
            [
             1.0,
             "#f0f921"
            ]
           ],
           "sequentialminus": [
            [
             0.0,
             "#0d0887"
            ],
            [
             0.1111111111111111,
             "#46039f"
            ],
            [
             0.2222222222222222,
             "#7201a8"
            ],
            [
             0.3333333333333333,
             "#9c179e"
            ],
            [
             0.4444444444444444,
             "#bd3786"
            ],
            [
             0.5555555555555556,
             "#d8576b"
            ],
            [
             0.6666666666666666,
             "#ed7953"
            ],
            [
             0.7777777777777778,
             "#fb9f3a"
            ],
            [
             0.8888888888888888,
             "#fdca26"
            ],
            [
             1.0,
             "#f0f921"
            ]
           ],
           "diverging": [
            [
             0,
             "#8e0152"
            ],
            [
             0.1,
             "#c51b7d"
            ],
            [
             0.2,
             "#de77ae"
            ],
            [
             0.3,
             "#f1b6da"
            ],
            [
             0.4,
             "#fde0ef"
            ],
            [
             0.5,
             "#f7f7f7"
            ],
            [
             0.6,
             "#e6f5d0"
            ],
            [
             0.7,
             "#b8e186"
            ],
            [
             0.8,
             "#7fbc41"
            ],
            [
             0.9,
             "#4d9221"
            ],
            [
             1,
             "#276419"
            ]
           ]
          },
          "xaxis": {
           "gridcolor": "white",
           "linecolor": "white",
           "ticks": "",
           "title": {
            "standoff": 15
           },
           "zerolinecolor": "white",
           "automargin": true,
           "zerolinewidth": 2
          },
          "yaxis": {
           "gridcolor": "white",
           "linecolor": "white",
           "ticks": "",
           "title": {
            "standoff": 15
           },
           "zerolinecolor": "white",
           "automargin": true,
           "zerolinewidth": 2
          },
          "scene": {
           "xaxis": {
            "backgroundcolor": "#E5ECF6",
            "gridcolor": "white",
            "linecolor": "white",
            "showbackground": true,
            "ticks": "",
            "zerolinecolor": "white",
            "gridwidth": 2
           },
           "yaxis": {
            "backgroundcolor": "#E5ECF6",
            "gridcolor": "white",
            "linecolor": "white",
            "showbackground": true,
            "ticks": "",
            "zerolinecolor": "white",
            "gridwidth": 2
           },
           "zaxis": {
            "backgroundcolor": "#E5ECF6",
            "gridcolor": "white",
            "linecolor": "white",
            "showbackground": true,
            "ticks": "",
            "zerolinecolor": "white",
            "gridwidth": 2
           }
          },
          "shapedefaults": {
           "line": {
            "color": "#2a3f5f"
           }
          },
          "annotationdefaults": {
           "arrowcolor": "#2a3f5f",
           "arrowhead": 0,
           "arrowwidth": 1
          },
          "geo": {
           "bgcolor": "white",
           "landcolor": "#E5ECF6",
           "subunitcolor": "white",
           "showland": true,
           "showlakes": true,
           "lakecolor": "white"
          },
          "title": {
           "x": 0.05
          },
          "mapbox": {
           "style": "light"
          }
         }
        },
        "title": {
         "text": "RF — Actual vs Predicted (Test)"
        },
        "xaxis": {
         "title": {
          "text": "Date"
         }
        },
        "yaxis": {
         "title": {
          "text": "Temperature (°C)"
         }
        },
        "hovermode": "x unified"
       },
       "config": {
        "plotlyServerURL": "https://plot.ly"
       }
      }
     },
     "metadata": {},
     "output_type": "display_data",
     "jetTransient": {
      "display_id": null
     }
    },
    {
     "data": {
      "text/plain": [
       "<Figure size 600x400 with 1 Axes>"
      ],
      "image/png": "[encoded data removed]"
     },
     "metadata": {},
     "output_type": "display_data",
     "jetTransient": {
      "display_id": null
     }
    },
    {
     "data": {
      "application/vnd.plotly.v1+json": {
       "data": [
        {
         "mode": "lines",
         "name": "Actual",
         "x": [
          "2012-09-01T00:00:00.000000000",
          "2012-10-01T00:00:00.000000000",
          "2012-11-01T00:00:00.000000000",
          "2012-12-01T00:00:00.000000000",
          "2013-01-01T00:00:00.000000000",
          "2013-02-01T00:00:00.000000000",
          "2013-03-01T00:00:00.000000000",
          "2013-04-01T00:00:00.000000000",
          "2013-05-01T00:00:00.000000000",
          "2013-06-01T00:00:00.000000000",
          "2013-07-01T00:00:00.000000000",
          "2013-08-01T00:00:00.000000000",
          "2013-09-01T00:00:00.000000000",
          "2013-10-01T00:00:00.000000000",
          "2013-11-01T00:00:00.000000000",
          "2013-12-01T00:00:00.000000000",
          "2014-01-01T00:00:00.000000000",
          "2014-02-01T00:00:00.000000000",
          "2014-03-01T00:00:00.000000000",
          "2014-04-01T00:00:00.000000000",
          "2014-05-01T00:00:00.000000000",
          "2014-06-01T00:00:00.000000000",
          "2014-07-01T00:00:00.000000000",
          "2014-08-01T00:00:00.000000000",
          "2014-09-01T00:00:00.000000000",
          "2014-10-01T00:00:00.000000000",
          "2014-11-01T00:00:00.000000000",
          "2014-12-01T00:00:00.000000000",
          "2015-01-01T00:00:00.000000000",
          "2015-02-01T00:00:00.000000000",
          "2015-03-01T00:00:00.000000000",
          "2015-04-01T00:00:00.000000000",
          "2015-05-01T00:00:00.000000000",
          "2015-06-01T00:00:00.000000000",
          "2015-07-01T00:00:00.000000000",
          "2015-08-01T00:00:00.000000000",
          "2015-09-01T00:00:00.000000000",
          "2015-10-01T00:00:00.000000000",
          "2015-11-01T00:00:00.000000000",
          "2015-12-01T00:00:00.000000000",
          "2016-01-01T00:00:00.000000000",
          "2016-02-01T00:00:00.000000000",
          "2016-03-01T00:00:00.000000000",
          "2016-04-01T00:00:00.000000000",
          "2016-05-01T00:00:00.000000000",
          "2016-06-01T00:00:00.000000000",
          "2016-07-01T00:00:00.000000000",
          "2016-08-01T00:00:00.000000000",
          "2016-09-01T00:00:00.000000000",
          "2016-10-01T00:00:00.000000000",
          "2016-11-01T00:00:00.000000000",
          "2016-12-01T00:00:00.000000000",
          "2017-01-01T00:00:00.000000000",
          "2017-02-01T00:00:00.000000000",
          "2017-03-01T00:00:00.000000000",
          "2017-04-01T00:00:00.000000000",
          "2017-05-01T00:00:00.000000000",
          "2017-06-01T00:00:00.000000000",
          "2017-07-01T00:00:00.000000000",
          "2017-08-01T00:00:00.000000000",
          "2017-09-01T00:00:00.000000000",
          "2017-10-01T00:00:00.000000000",
          "2017-11-01T00:00:00.000000000",
          "2017-12-01T00:00:00.000000000",
          "2018-01-01T00:00:00.000000000",
          "2018-02-01T00:00:00.000000000",
          "2018-03-01T00:00:00.000000000",
          "2018-04-01T00:00:00.000000000",
          "2018-05-01T00:00:00.000000000",
          "2018-06-01T00:00:00.000000000",
          "2018-07-01T00:00:00.000000000",
          "2018-08-01T00:00:00.000000000",
          "2018-09-01T00:00:00.000000000",
          "2018-10-01T00:00:00.000000000"
         ],
         "y": {
          "dtype": "f4",
          "bdata": "jZe5QdRbuEHufKhBbRqiQUkFoEGB2LhByoTSQcAR30Fa2eZB4+zEQYHIuUH9t7dBjd66QZ1zuEFx9qhB6HeXQRtioUHXo6pBwT/PQYR56UGH6upByL3bQRo+xEFrG71BDAK5QXsUuEGrqqhBvIqWQY/Cl0FGMLNBmuLKQcRn4EGjTOZB+cXKQf5JwkE8L79BupC9QfyTwkEuJLFBoLuiQbgeoUFhublBaffbQdV46EH2KOpB1urQQfeVvEGGD7lBlkO1QT6crUHiM5lBpLmaQZPlnUH8bLxBb4fQQSD35EEequtBwcrMQWf4vkH7AbpBPsO/QfMpuUGEeZ5BIPKXQZ4Fm0FlNbVBaWXTQSPb6UECbepBI9vLQbpCvEFgRLdBV4C4QVtrvUE="
         },
         "type": "scatter"
        },
        {
         "mode": "lines",
         "name": "Predicted",
         "x": [
          "2012-09-01T00:00:00.000000000",
          "2012-10-01T00:00:00.000000000",
          "2012-11-01T00:00:00.000000000",
          "2012-12-01T00:00:00.000000000",
          "2013-01-01T00:00:00.000000000",
          "2013-02-01T00:00:00.000000000",
          "2013-03-01T00:00:00.000000000",
          "2013-04-01T00:00:00.000000000",
          "2013-05-01T00:00:00.000000000",
          "2013-06-01T00:00:00.000000000",
          "2013-07-01T00:00:00.000000000",
          "2013-08-01T00:00:00.000000000",
          "2013-09-01T00:00:00.000000000",
          "2013-10-01T00:00:00.000000000",
          "2013-11-01T00:00:00.000000000",
          "2013-12-01T00:00:00.000000000",
          "2014-01-01T00:00:00.000000000",
          "2014-02-01T00:00:00.000000000",
          "2014-03-01T00:00:00.000000000",
          "2014-04-01T00:00:00.000000000",
          "2014-05-01T00:00:00.000000000",
          "2014-06-01T00:00:00.000000000",
          "2014-07-01T00:00:00.000000000",
          "2014-08-01T00:00:00.000000000",
          "2014-09-01T00:00:00.000000000",
          "2014-10-01T00:00:00.000000000",
          "2014-11-01T00:00:00.000000000",
          "2014-12-01T00:00:00.000000000",
          "2015-01-01T00:00:00.000000000",
          "2015-02-01T00:00:00.000000000",
          "2015-03-01T00:00:00.000000000",
          "2015-04-01T00:00:00.000000000",
          "2015-05-01T00:00:00.000000000",
          "2015-06-01T00:00:00.000000000",
          "2015-07-01T00:00:00.000000000",
          "2015-08-01T00:00:00.000000000",
          "2015-09-01T00:00:00.000000000",
          "2015-10-01T00:00:00.000000000",
          "2015-11-01T00:00:00.000000000",
          "2015-12-01T00:00:00.000000000",
          "2016-01-01T00:00:00.000000000",
          "2016-02-01T00:00:00.000000000",
          "2016-03-01T00:00:00.000000000",
          "2016-04-01T00:00:00.000000000",
          "2016-05-01T00:00:00.000000000",
          "2016-06-01T00:00:00.000000000",
          "2016-07-01T00:00:00.000000000",
          "2016-08-01T00:00:00.000000000",
          "2016-09-01T00:00:00.000000000",
          "2016-10-01T00:00:00.000000000",
          "2016-11-01T00:00:00.000000000",
          "2016-12-01T00:00:00.000000000",
          "2017-01-01T00:00:00.000000000",
          "2017-02-01T00:00:00.000000000",
          "2017-03-01T00:00:00.000000000",
          "2017-04-01T00:00:00.000000000",
          "2017-05-01T00:00:00.000000000",
          "2017-06-01T00:00:00.000000000",
          "2017-07-01T00:00:00.000000000",
          "2017-08-01T00:00:00.000000000",
          "2017-09-01T00:00:00.000000000",
          "2017-10-01T00:00:00.000000000",
          "2017-11-01T00:00:00.000000000",
          "2017-12-01T00:00:00.000000000",
          "2018-01-01T00:00:00.000000000",
          "2018-02-01T00:00:00.000000000",
          "2018-03-01T00:00:00.000000000",
          "2018-04-01T00:00:00.000000000",
          "2018-05-01T00:00:00.000000000",
          "2018-06-01T00:00:00.000000000",
          "2018-07-01T00:00:00.000000000",
          "2018-08-01T00:00:00.000000000",
          "2018-09-01T00:00:00.000000000",
          "2018-10-01T00:00:00.000000000"
         ],
         "y": {
          "dtype": "f4",
          "bdata": "5M/BQdVusEEqK69BOnqsQUR6rEHsNrVBEpfMQeIvz0G3ks9BcZ/PQUgzyEEaG7lBUJW4QQX6sUE2JqhBSlmtQfAmqEEM3MBBsYLJQVkDy0HYMstBaDrLQWCrxEELwb5BrNe0QcckskGIEqhB8vKmQTmXqkF/J7hBnRzIQfyhx0GM2cpB7KvDQTOyv0EWRrJBKy+yQbAdskFl67JBWDa3QcouskFGkbJBCHO3QchvyEGnDstB9kTFQdKdwUHI7r9BXIu2QTr2sEEMlKtBisqnQTBir0Ei6sBBTHDKQTbOykEPGstBrR/LQWEiwEG1n7pBSuWzQQT1sEF3R6hBos+wQdD5sUHuK7JBXjHJQZX6ykHQPstBnkTLQcFUwkFMz7pBijGyQY0uskE="
         },
         "type": "scatter"
        }
       ],
       "layout": {
        "template": {
         "data": {
          "histogram2dcontour": [
           {
            "type": "histogram2dcontour",
            "colorbar": {
             "outlinewidth": 0,
             "ticks": ""
            },
            "colorscale": [
             [
              0.0,
              "#0d0887"
             ],
             [
              0.1111111111111111,
              "#46039f"
             ],
             [
              0.2222222222222222,
              "#7201a8"
             ],
             [
              0.3333333333333333,
              "#9c179e"
             ],
             [
              0.4444444444444444,
              "#bd3786"
             ],
             [
              0.5555555555555556,
              "#d8576b"
             ],
             [
              0.6666666666666666,
              "#ed7953"
             ],
             [
              0.7777777777777778,
              "#fb9f3a"
             ],
             [
              0.8888888888888888,
              "#fdca26"
             ],
             [
              1.0,
              "#f0f921"
             ]
            ]
           }
          ],
          "choropleth": [
           {
            "type": "choropleth",
            "colorbar": {
             "outlinewidth": 0,
             "ticks": ""
            }
           }
          ],
          "histogram2d": [
           {
            "type": "histogram2d",
            "colorbar": {
             "outlinewidth": 0,
             "ticks": ""
            },
            "colorscale": [
             [
              0.0,
              "#0d0887"
             ],
             [
              0.1111111111111111,
              "#46039f"
             ],
             [
              0.2222222222222222,
              "#7201a8"
             ],
             [
              0.3333333333333333,
              "#9c179e"
             ],
             [
              0.4444444444444444,
              "#bd3786"
             ],
             [
              0.5555555555555556,
              "#d8576b"
             ],
             [
              0.6666666666666666,
              "#ed7953"
             ],
             [
              0.7777777777777778,
              "#fb9f3a"
             ],
             [
              0.8888888888888888,
              "#fdca26"
             ],
             [
              1.0,
              "#f0f921"
             ]
            ]
           }
          ],
          "heatmap": [
           {
            "type": "heatmap",
            "colorbar": {
             "outlinewidth": 0,
             "ticks": ""
            },
            "colorscale": [
             [
              0.0,
              "#0d0887"
             ],
             [
              0.1111111111111111,
              "#46039f"
             ],
             [
              0.2222222222222222,
              "#7201a8"
             ],
             [
              0.3333333333333333,
              "#9c179e"
             ],
             [
              0.4444444444444444,
              "#bd3786"
             ],
             [
              0.5555555555555556,
              "#d8576b"
             ],
             [
              0.6666666666666666,
              "#ed7953"
             ],
             [
              0.7777777777777778,
              "#fb9f3a"
             ],
             [
              0.8888888888888888,
              "#fdca26"
             ],
             [
              1.0,
              "#f0f921"
             ]
            ]
           }
          ],
          "contourcarpet": [
           {
            "type": "contourcarpet",
            "colorbar": {
             "outlinewidth": 0,
             "ticks": ""
            }
           }
          ],
          "contour": [
           {
            "type": "contour",
            "colorbar": {
             "outlinewidth": 0,
             "ticks": ""
            },
            "colorscale": [
             [
              0.0,
              "#0d0887"
             ],
             [
              0.1111111111111111,
              "#46039f"
             ],
             [
              0.2222222222222222,
              "#7201a8"
             ],
             [
              0.3333333333333333,
              "#9c179e"
             ],
             [
              0.4444444444444444,
              "#bd3786"
             ],
             [
              0.5555555555555556,
              "#d8576b"
             ],
             [
              0.6666666666666666,
              "#ed7953"
             ],
             [
              0.7777777777777778,
              "#fb9f3a"
             ],
             [
              0.8888888888888888,
              "#fdca26"
             ],
             [
              1.0,
              "#f0f921"
             ]
            ]
           }
          ],
          "surface": [
           {
            "type": "surface",
            "colorbar": {
             "outlinewidth": 0,
             "ticks": ""
            },
            "colorscale": [
             [
              0.0,
              "#0d0887"
             ],
             [
              0.1111111111111111,
              "#46039f"
             ],
             [
              0.2222222222222222,
              "#7201a8"
             ],
             [
              0.3333333333333333,
              "#9c179e"
             ],
             [
              0.4444444444444444,
              "#bd3786"
             ],
             [
              0.5555555555555556,
              "#d8576b"
             ],
             [
              0.6666666666666666,
              "#ed7953"
             ],
             [
              0.7777777777777778,
              "#fb9f3a"
             ],
             [
              0.8888888888888888,
              "#fdca26"
             ],
             [
              1.0,
              "#f0f921"
             ]
            ]
           }
          ],
          "mesh3d": [
           {
            "type": "mesh3d",
            "colorbar": {
             "outlinewidth": 0,
             "ticks": ""
            }
           }
          ],
          "scatter": [
           {
            "fillpattern": {
             "fillmode": "overlay",
             "size": 10,
             "solidity": 0.2
            },
            "type": "scatter"
           }
          ],
          "parcoords": [
           {
            "type": "parcoords",
            "line": {
             "colorbar": {
              "outlinewidth": 0,
              "ticks": ""
             }
            }
           }
          ],
          "scatterpolargl": [
           {
            "type": "scatterpolargl",
            "marker": {
             "colorbar": {
              "outlinewidth": 0,
              "ticks": ""
             }
            }
           }
          ],
          "bar": [
           {
            "error_x": {
             "color": "#2a3f5f"
            },
            "error_y": {
             "color": "#2a3f5f"
            },
            "marker": {
             "line": {
              "color": "#E5ECF6",
              "width": 0.5
             },
             "pattern": {
              "fillmode": "overlay",
              "size": 10,
              "solidity": 0.2
             }
            },
            "type": "bar"
           }
          ],
          "scattergeo": [
           {
            "type": "scattergeo",
            "marker": {
             "colorbar": {
              "outlinewidth": 0,
              "ticks": ""
             }
            }
           }
          ],
          "scatterpolar": [
           {
            "type": "scatterpolar",
            "marker": {
             "colorbar": {
              "outlinewidth": 0,
              "ticks": ""
             }
            }
           }
          ],
          "histogram": [
           {
            "marker": {
             "pattern": {
              "fillmode": "overlay",
              "size": 10,
              "solidity": 0.2
             }
            },
            "type": "histogram"
           }
          ],
          "scattergl": [
           {
            "type": "scattergl",
            "marker": {
             "colorbar": {
              "outlinewidth": 0,
              "ticks": ""
             }
            }
           }
          ],
          "scatter3d": [
           {
            "type": "scatter3d",
            "line": {
             "colorbar": {
              "outlinewidth": 0,
              "ticks": ""
             }
            },
            "marker": {
             "colorbar": {
              "outlinewidth": 0,
              "ticks": ""
             }
            }
           }
          ],
          "scattermap": [
           {
            "type": "scattermap",
            "marker": {
             "colorbar": {
              "outlinewidth": 0,
              "ticks": ""
             }
            }
           }
          ],
          "scattermapbox": [
           {
            "type": "scattermapbox",
            "marker": {
             "colorbar": {
              "outlinewidth": 0,
              "ticks": ""
             }
            }
           }
          ],
          "scatterternary": [
           {
            "type": "scatterternary",
            "marker": {
             "colorbar": {
              "outlinewidth": 0,
              "ticks": ""
             }
            }
           }
          ],
          "scattercarpet": [
           {
            "type": "scattercarpet",
            "marker": {
             "colorbar": {
              "outlinewidth": 0,
              "ticks": ""
             }
            }
           }
          ],
          "carpet": [
           {
            "aaxis": {
             "endlinecolor": "#2a3f5f",
             "gridcolor": "white",
             "linecolor": "white",
             "minorgridcolor": "white",
             "startlinecolor": "#2a3f5f"
            },
            "baxis": {
             "endlinecolor": "#2a3f5f",
             "gridcolor": "white",
             "linecolor": "white",
             "minorgridcolor": "white",
             "startlinecolor": "#2a3f5f"
            },
            "type": "carpet"
           }
          ],
          "table": [
           {
            "cells": {
             "fill": {
              "color": "#EBF0F8"
             },
             "line": {
              "color": "white"
             }
            },
            "header": {
             "fill": {
              "color": "#C8D4E3"
             },
             "line": {
              "color": "white"
             }
            },
            "type": "table"
           }
          ],
          "barpolar": [
           {
            "marker": {
             "line": {
              "color": "#E5ECF6",
              "width": 0.5
             },
             "pattern": {
              "fillmode": "overlay",
              "size": 10,
              "solidity": 0.2
             }
            },
            "type": "barpolar"
           }
          ],
          "pie": [
           {
            "automargin": true,
            "type": "pie"
           }
          ]
         },
         "layout": {
          "autotypenumbers": "strict",
          "colorway": [
           "#636efa",
           "#EF553B",
           "#00cc96",
           "#ab63fa",
           "#FFA15A",
           "#19d3f3",
           "#FF6692",
           "#B6E880",
           "#FF97FF",
           "#FECB52"
          ],
          "font": {
           "color": "#2a3f5f"
          },
          "hovermode": "closest",
          "hoverlabel": {
           "align": "left"
          },
          "paper_bgcolor": "white",
          "plot_bgcolor": "#E5ECF6",
          "polar": {
           "bgcolor": "#E5ECF6",
           "angularaxis": {
            "gridcolor": "white",
            "linecolor": "white",
            "ticks": ""
           },
           "radialaxis": {
            "gridcolor": "white",
            "linecolor": "white",
            "ticks": ""
           }
          },
          "ternary": {
           "bgcolor": "#E5ECF6",
           "aaxis": {
            "gridcolor": "white",
            "linecolor": "white",
            "ticks": ""
           },
           "baxis": {
            "gridcolor": "white",
            "linecolor": "white",
            "ticks": ""
           },
           "caxis": {
            "gridcolor": "white",
            "linecolor": "white",
            "ticks": ""
           }
          },
          "coloraxis": {
           "colorbar": {
            "outlinewidth": 0,
            "ticks": ""
           }
          },
          "colorscale": {
           "sequential": [
            [
             0.0,
             "#0d0887"
            ],
            [
             0.1111111111111111,
             "#46039f"
            ],
            [
             0.2222222222222222,
             "#7201a8"
            ],
            [
             0.3333333333333333,
             "#9c179e"
            ],
            [
             0.4444444444444444,
             "#bd3786"
            ],
            [
             0.5555555555555556,
             "#d8576b"
            ],
            [
             0.6666666666666666,
             "#ed7953"
            ],
            [
             0.7777777777777778,
             "#fb9f3a"
            ],
            [
             0.8888888888888888,
             "#fdca26"
            ],
            [
             1.0,
             "#f0f921"
            ]
           ],
           "sequentialminus": [
            [
             0.0,
             "#0d0887"
            ],
            [
             0.1111111111111111,
             "#46039f"
            ],
            [
             0.2222222222222222,
             "#7201a8"
            ],
            [
             0.3333333333333333,
             "#9c179e"
            ],
            [
             0.4444444444444444,
             "#bd3786"
            ],
            [
             0.5555555555555556,
             "#d8576b"
            ],
            [
             0.6666666666666666,
             "#ed7953"
            ],
            [
             0.7777777777777778,
             "#fb9f3a"
            ],
            [
             0.8888888888888888,
             "#fdca26"
            ],
            [
             1.0,
             "#f0f921"
            ]
           ],
           "diverging": [
            [
             0,
             "#8e0152"
            ],
            [
             0.1,
             "#c51b7d"
            ],
            [
             0.2,
             "#de77ae"
            ],
            [
             0.3,
             "#f1b6da"
            ],
            [
             0.4,
             "#fde0ef"
            ],
            [
             0.5,
             "#f7f7f7"
            ],
            [
             0.6,
             "#e6f5d0"
            ],
            [
             0.7,
             "#b8e186"
            ],
            [
             0.8,
             "#7fbc41"
            ],
            [
             0.9,
             "#4d9221"
            ],
            [
             1,
             "#276419"
            ]
           ]
          },
          "xaxis": {
           "gridcolor": "white",
           "linecolor": "white",
           "ticks": "",
           "title": {
            "standoff": 15
           },
           "zerolinecolor": "white",
           "automargin": true,
           "zerolinewidth": 2
          },
          "yaxis": {
           "gridcolor": "white",
           "linecolor": "white",
           "ticks": "",
           "title": {
            "standoff": 15
           },
           "zerolinecolor": "white",
           "automargin": true,
           "zerolinewidth": 2
          },
          "scene": {
           "xaxis": {
            "backgroundcolor": "#E5ECF6",
            "gridcolor": "white",
            "linecolor": "white",
            "showbackground": true,
            "ticks": "",
            "zerolinecolor": "white",
            "gridwidth": 2
           },
           "yaxis": {
            "backgroundcolor": "#E5ECF6",
            "gridcolor": "white",
            "linecolor": "white",
            "showbackground": true,
            "ticks": "",
            "zerolinecolor": "white",
            "gridwidth": 2
           },
           "zaxis": {
            "backgroundcolor": "#E5ECF6",
            "gridcolor": "white",
            "linecolor": "white",
            "showbackground": true,
            "ticks": "",
            "zerolinecolor": "white",
            "gridwidth": 2
           }
          },
          "shapedefaults": {
           "line": {
            "color": "#2a3f5f"
           }
          },
          "annotationdefaults": {
           "arrowcolor": "#2a3f5f",
           "arrowhead": 0,
           "arrowwidth": 1
          },
          "geo": {
           "bgcolor": "white",
           "landcolor": "#E5ECF6",
           "subunitcolor": "white",
           "showland": true,
           "showlakes": true,
           "lakecolor": "white"
          },
          "title": {
           "x": 0.05
          },
          "mapbox": {
           "style": "light"
          }
         }
        },
        "title": {
         "text": "LSTM — Actual vs Predicted (Validation)"
        },
        "xaxis": {
         "title": {
          "text": "Date"
         }
        },
        "yaxis": {
         "title": {
          "text": "Temperature (°C)"
         }
        },
        "hovermode": "x unified"
       },
       "config": {
        "plotlyServerURL": "https://plot.ly"
       }
      }
     },
     "metadata": {},
     "output_type": "display_data",
     "jetTransient": {
      "display_id": null
     }
    },
    {
     "data": {
      "application/vnd.plotly.v1+json": {
       "data": [
        {
         "mode": "lines",
         "name": "Actual",
         "x": [
          "2018-11-01T00:00:00.000000000",
          "2018-12-01T00:00:00.000000000",
          "2019-01-01T00:00:00.000000000",
          "2019-02-01T00:00:00.000000000",
          "2019-03-01T00:00:00.000000000",
          "2019-04-01T00:00:00.000000000",
          "2019-05-01T00:00:00.000000000",
          "2019-06-01T00:00:00.000000000",
          "2019-07-01T00:00:00.000000000",
          "2019-08-01T00:00:00.000000000",
          "2019-09-01T00:00:00.000000000",
          "2019-10-01T00:00:00.000000000",
          "2019-11-01T00:00:00.000000000",
          "2019-12-01T00:00:00.000000000",
          "2020-01-01T00:00:00.000000000",
          "2020-02-01T00:00:00.000000000",
          "2020-03-01T00:00:00.000000000",
          "2020-04-01T00:00:00.000000000",
          "2020-05-01T00:00:00.000000000",
          "2020-06-01T00:00:00.000000000",
          "2020-07-01T00:00:00.000000000",
          "2020-08-01T00:00:00.000000000",
          "2020-09-01T00:00:00.000000000",
          "2020-10-01T00:00:00.000000000",
          "2020-11-01T00:00:00.000000000",
          "2020-12-01T00:00:00.000000000",
          "2021-01-01T00:00:00.000000000",
          "2021-02-01T00:00:00.000000000",
          "2021-03-01T00:00:00.000000000",
          "2021-04-01T00:00:00.000000000",
          "2021-05-01T00:00:00.000000000",
          "2021-06-01T00:00:00.000000000",
          "2021-07-01T00:00:00.000000000",
          "2021-08-01T00:00:00.000000000",
          "2021-09-01T00:00:00.000000000",
          "2021-10-01T00:00:00.000000000",
          "2021-11-01T00:00:00.000000000",
          "2021-12-01T00:00:00.000000000",
          "2022-01-01T00:00:00.000000000",
          "2022-02-01T00:00:00.000000000",
          "2022-03-01T00:00:00.000000000",
          "2022-04-01T00:00:00.000000000",
          "2022-05-01T00:00:00.000000000",
          "2022-06-01T00:00:00.000000000",
          "2022-07-01T00:00:00.000000000",
          "2022-08-01T00:00:00.000000000",
          "2022-09-01T00:00:00.000000000",
          "2022-10-01T00:00:00.000000000",
          "2022-11-01T00:00:00.000000000",
          "2022-12-01T00:00:00.000000000",
          "2023-01-01T00:00:00.000000000",
          "2023-02-01T00:00:00.000000000",
          "2023-03-01T00:00:00.000000000",
          "2023-04-01T00:00:00.000000000",
          "2023-05-01T00:00:00.000000000",
          "2023-06-01T00:00:00.000000000",
          "2023-07-01T00:00:00.000000000",
          "2023-08-01T00:00:00.000000000",
          "2023-09-01T00:00:00.000000000",
          "2023-10-01T00:00:00.000000000",
          "2023-11-01T00:00:00.000000000",
          "2023-12-01T00:00:00.000000000",
          "2024-01-01T00:00:00.000000000",
          "2024-02-01T00:00:00.000000000",
          "2024-03-01T00:00:00.000000000",
          "2024-04-01T00:00:00.000000000",
          "2024-05-01T00:00:00.000000000",
          "2024-06-01T00:00:00.000000000",
          "2024-07-01T00:00:00.000000000",
          "2024-08-01T00:00:00.000000000",
          "2024-09-01T00:00:00.000000000",
          "2024-10-01T00:00:00.000000000",
          "2024-11-01T00:00:00.000000000",
          "2024-12-01T00:00:00.000000000"
         ],
         "y": {
          "dtype": "f4",
          "bdata": "mpmwQet2nEFM355BkfO3QSml0kEZvexBOMPnQSxA10ENaMFB5i+7QVCNu0HwT7hBd3erQQpFpUEyWJVBCMWsQbrUwkH2KOtBHjzuQckvyEGx2MBBhn28QdCwvUFrG71Bvp+qQTBZnEFMTapB0d+rQc0V1EHfT+VBZLDcQYGVxkHj575BjDG6QRp2ukFaR7hBkxixQUJRmkHvK5FBpHCkQTyd1kF+sexBHqrjQfLS0EH7AbxBZ6+5QXH2uUEXrbBBMsGdQdwzo0HVpJdBSRK0QT0KxUGGXeBB7gfmQYQy1UGhKL9BPQq7Qei0vUGOnrhBF9muQclgo0EASaFBrb64Qd8y0kF3d/RBgO3rQVNxz0FsiMFBTN/AQby7ukFn+L5B7nyeQVsioEE="
         },
         "type": "scatter"
        },
        {
         "mode": "lines",
         "name": "Predicted",
         "x": [
          "2018-11-01T00:00:00.000000000",
          "2018-12-01T00:00:00.000000000",
          "2019-01-01T00:00:00.000000000",
          "2019-02-01T00:00:00.000000000",
          "2019-03-01T00:00:00.000000000",
          "2019-04-01T00:00:00.000000000",
          "2019-05-01T00:00:00.000000000",
          "2019-06-01T00:00:00.000000000",
          "2019-07-01T00:00:00.000000000",
          "2019-08-01T00:00:00.000000000",
          "2019-09-01T00:00:00.000000000",
          "2019-10-01T00:00:00.000000000",
          "2019-11-01T00:00:00.000000000",
          "2019-12-01T00:00:00.000000000",
          "2020-01-01T00:00:00.000000000",
          "2020-02-01T00:00:00.000000000",
          "2020-03-01T00:00:00.000000000",
          "2020-04-01T00:00:00.000000000",
          "2020-05-01T00:00:00.000000000",
          "2020-06-01T00:00:00.000000000",
          "2020-07-01T00:00:00.000000000",
          "2020-08-01T00:00:00.000000000",
          "2020-09-01T00:00:00.000000000",
          "2020-10-01T00:00:00.000000000",
          "2020-11-01T00:00:00.000000000",
          "2020-12-01T00:00:00.000000000",
          "2021-01-01T00:00:00.000000000",
          "2021-02-01T00:00:00.000000000",
          "2021-03-01T00:00:00.000000000",
          "2021-04-01T00:00:00.000000000",
          "2021-05-01T00:00:00.000000000",
          "2021-06-01T00:00:00.000000000",
          "2021-07-01T00:00:00.000000000",
          "2021-08-01T00:00:00.000000000",
          "2021-09-01T00:00:00.000000000",
          "2021-10-01T00:00:00.000000000",
          "2021-11-01T00:00:00.000000000",
          "2021-12-01T00:00:00.000000000",
          "2022-01-01T00:00:00.000000000",
          "2022-02-01T00:00:00.000000000",
          "2022-03-01T00:00:00.000000000",
          "2022-04-01T00:00:00.000000000",
          "2022-05-01T00:00:00.000000000",
          "2022-06-01T00:00:00.000000000",
          "2022-07-01T00:00:00.000000000",
          "2022-08-01T00:00:00.000000000",
          "2022-09-01T00:00:00.000000000",
          "2022-10-01T00:00:00.000000000",
          "2022-11-01T00:00:00.000000000",
          "2022-12-01T00:00:00.000000000",
          "2023-01-01T00:00:00.000000000",
          "2023-02-01T00:00:00.000000000",
          "2023-03-01T00:00:00.000000000",
          "2023-04-01T00:00:00.000000000",
          "2023-05-01T00:00:00.000000000",
          "2023-06-01T00:00:00.000000000",
          "2023-07-01T00:00:00.000000000",
          "2023-08-01T00:00:00.000000000",
          "2023-09-01T00:00:00.000000000",
          "2023-10-01T00:00:00.000000000",
          "2023-11-01T00:00:00.000000000",
          "2023-12-01T00:00:00.000000000",
          "2024-01-01T00:00:00.000000000",
          "2024-02-01T00:00:00.000000000",
          "2024-03-01T00:00:00.000000000",
          "2024-04-01T00:00:00.000000000",
          "2024-05-01T00:00:00.000000000",
          "2024-06-01T00:00:00.000000000",
          "2024-07-01T00:00:00.000000000",
          "2024-08-01T00:00:00.000000000",
          "2024-09-01T00:00:00.000000000",
          "2024-10-01T00:00:00.000000000",
          "2024-11-01T00:00:00.000000000",
          "2024-12-01T00:00:00.000000000"
         ],
         "y": {
          "dtype": "f4",
          "bdata": "kC6yQfsyskGXfr9BtH/FQQ3GyEGOAMpBnhrKQZrPykEZDsFBWhq7QbjSsEG+0rBBGiaoQcmRr0FHJqhBaf+mQXrqskGc8cRBkNvJQYoWy0GClcRBOSC5QcbvuUGs97FBzuewQdolqEG1Sa1BrIWoQRzjw0H45slBBhTLQQQLyUH6AbtBlJ+5QfQtskFwKbJBrASyQUCWskGyTLVB7i6yQVRWxkFQGsJBnpfKQU+NxUF6x8RB6H2/QS3TsEFR+rFBXiaoQc/RsEHieqxBsCOoQZqFw0HSn8lBF/3KQUEmy0HSN8JBS/e6QW4uskG2v7lBB/yxQdW3skEaLbJB9UzHQcSFyUGrPMpBHC3HQXQMykEbzb9BHCK5QSjTsEF7JqhBDiaoQQQiqEE="
         },
         "type": "scatter"
        }
       ],
       "layout": {
        "template": {
         "data": {
          "histogram2dcontour": [
           {
            "type": "histogram2dcontour",
            "colorbar": {
             "outlinewidth": 0,
             "ticks": ""
            },
            "colorscale": [
             [
              0.0,
              "#0d0887"
             ],
             [
              0.1111111111111111,
              "#46039f"
             ],
             [
              0.2222222222222222,
              "#7201a8"
             ],
             [
              0.3333333333333333,
              "#9c179e"
             ],
             [
              0.4444444444444444,
              "#bd3786"
             ],
             [
              0.5555555555555556,
              "#d8576b"
             ],
             [
              0.6666666666666666,
              "#ed7953"
             ],
             [
              0.7777777777777778,
              "#fb9f3a"
             ],
             [
              0.8888888888888888,
              "#fdca26"
             ],
             [
              1.0,
              "#f0f921"
             ]
            ]
           }
          ],
          "choropleth": [
           {
            "type": "choropleth",
            "colorbar": {
             "outlinewidth": 0,
             "ticks": ""
            }
           }
          ],
          "histogram2d": [
           {
            "type": "histogram2d",
            "colorbar": {
             "outlinewidth": 0,
             "ticks": ""
            },
            "colorscale": [
             [
              0.0,
              "#0d0887"
             ],
             [
              0.1111111111111111,
              "#46039f"
             ],
             [
              0.2222222222222222,
              "#7201a8"
             ],
             [
              0.3333333333333333,
              "#9c179e"
             ],
             [
              0.4444444444444444,
              "#bd3786"
             ],
             [
              0.5555555555555556,
              "#d8576b"
             ],
             [
              0.6666666666666666,
              "#ed7953"
             ],
             [
              0.7777777777777778,
              "#fb9f3a"
             ],
             [
              0.8888888888888888,
              "#fdca26"
             ],
             [
              1.0,
              "#f0f921"
             ]
            ]
           }
          ],
          "heatmap": [
           {
            "type": "heatmap",
            "colorbar": {
             "outlinewidth": 0,
             "ticks": ""
            },
            "colorscale": [
             [
              0.0,
              "#0d0887"
             ],
             [
              0.1111111111111111,
              "#46039f"
             ],
             [
              0.2222222222222222,
              "#7201a8"
             ],
             [
              0.3333333333333333,
              "#9c179e"
             ],
             [
              0.4444444444444444,
              "#bd3786"
             ],
             [
              0.5555555555555556,
              "#d8576b"
             ],
             [
              0.6666666666666666,
              "#ed7953"
             ],
             [
              0.7777777777777778,
              "#fb9f3a"
             ],
             [
              0.8888888888888888,
              "#fdca26"
             ],
             [
              1.0,
              "#f0f921"
             ]
            ]
           }
          ],
          "contourcarpet": [
           {
            "type": "contourcarpet",
            "colorbar": {
             "outlinewidth": 0,
             "ticks": ""
            }
           }
          ],
          "contour": [
           {
            "type": "contour",
            "colorbar": {
             "outlinewidth": 0,
             "ticks": ""
            },
            "colorscale": [
             [
              0.0,
              "#0d0887"
             ],
             [
              0.1111111111111111,
              "#46039f"
             ],
             [
              0.2222222222222222,
              "#7201a8"
             ],
             [
              0.3333333333333333,
              "#9c179e"
             ],
             [
              0.4444444444444444,
              "#bd3786"
             ],
             [
              0.5555555555555556,
              "#d8576b"
             ],
             [
              0.6666666666666666,
              "#ed7953"
             ],
             [
              0.7777777777777778,
              "#fb9f3a"
             ],
             [
              0.8888888888888888,
              "#fdca26"
             ],
             [
              1.0,
              "#f0f921"
             ]
            ]
           }
          ],
          "surface": [
           {
            "type": "surface",
            "colorbar": {
             "outlinewidth": 0,
             "ticks": ""
            },
            "colorscale": [
             [
              0.0,
              "#0d0887"
             ],
             [
              0.1111111111111111,
              "#46039f"
             ],
             [
              0.2222222222222222,
              "#7201a8"
             ],
             [
              0.3333333333333333,
              "#9c179e"
             ],
             [
              0.4444444444444444,
              "#bd3786"
             ],
             [
              0.5555555555555556,
              "#d8576b"
             ],
             [
              0.6666666666666666,
              "#ed7953"
             ],
             [
              0.7777777777777778,
              "#fb9f3a"
             ],
             [
              0.8888888888888888,
              "#fdca26"
             ],
             [
              1.0,
              "#f0f921"
             ]
            ]
           }
          ],
          "mesh3d": [
           {
            "type": "mesh3d",
            "colorbar": {
             "outlinewidth": 0,
             "ticks": ""
            }
           }
          ],
          "scatter": [
           {
            "fillpattern": {
             "fillmode": "overlay",
             "size": 10,
             "solidity": 0.2
            },
            "type": "scatter"
           }
          ],
          "parcoords": [
           {
            "type": "parcoords",
            "line": {
             "colorbar": {
              "outlinewidth": 0,
              "ticks": ""
             }
            }
           }
          ],
          "scatterpolargl": [
           {
            "type": "scatterpolargl",
            "marker": {
             "colorbar": {
              "outlinewidth": 0,
              "ticks": ""
             }
            }
           }
          ],
          "bar": [
           {
            "error_x": {
             "color": "#2a3f5f"
            },
            "error_y": {
             "color": "#2a3f5f"
            },
            "marker": {
             "line": {
              "color": "#E5ECF6",
              "width": 0.5
             },
             "pattern": {
              "fillmode": "overlay",
              "size": 10,
              "solidity": 0.2
             }
            },
            "type": "bar"
           }
          ],
          "scattergeo": [
           {
            "type": "scattergeo",
            "marker": {
             "colorbar": {
              "outlinewidth": 0,
              "ticks": ""
             }
            }
           }
          ],
          "scatterpolar": [
           {
            "type": "scatterpolar",
            "marker": {
             "colorbar": {
              "outlinewidth": 0,
              "ticks": ""
             }
            }
           }
          ],
          "histogram": [
           {
            "marker": {
             "pattern": {
              "fillmode": "overlay",
              "size": 10,
              "solidity": 0.2
             }
            },
            "type": "histogram"
           }
          ],
          "scattergl": [
           {
            "type": "scattergl",
            "marker": {
             "colorbar": {
              "outlinewidth": 0,
              "ticks": ""
             }
            }
           }
          ],
          "scatter3d": [
           {
            "type": "scatter3d",
            "line": {
             "colorbar": {
              "outlinewidth": 0,
              "ticks": ""
             }
            },
            "marker": {
             "colorbar": {
              "outlinewidth": 0,
              "ticks": ""
             }
            }
           }
          ],
          "scattermap": [
           {
            "type": "scattermap",
            "marker": {
             "colorbar": {
              "outlinewidth": 0,
              "ticks": ""
             }
            }
           }
          ],
          "scattermapbox": [
           {
            "type": "scattermapbox",
            "marker": {
             "colorbar": {
              "outlinewidth": 0,
              "ticks": ""
             }
            }
           }
          ],
          "scatterternary": [
           {
            "type": "scatterternary",
            "marker": {
             "colorbar": {
              "outlinewidth": 0,
              "ticks": ""
             }
            }
           }
          ],
          "scattercarpet": [
           {
            "type": "scattercarpet",
            "marker": {
             "colorbar": {
              "outlinewidth": 0,
              "ticks": ""
             }
            }
           }
          ],
          "carpet": [
           {
            "aaxis": {
             "endlinecolor": "#2a3f5f",
             "gridcolor": "white",
             "linecolor": "white",
             "minorgridcolor": "white",
             "startlinecolor": "#2a3f5f"
            },
            "baxis": {
             "endlinecolor": "#2a3f5f",
             "gridcolor": "white",
             "linecolor": "white",
             "minorgridcolor": "white",
             "startlinecolor": "#2a3f5f"
            },
            "type": "carpet"
           }
          ],
          "table": [
           {
            "cells": {
             "fill": {
              "color": "#EBF0F8"
             },
             "line": {
              "color": "white"
             }
            },
            "header": {
             "fill": {
              "color": "#C8D4E3"
             },
             "line": {
              "color": "white"
             }
            },
            "type": "table"
           }
          ],
          "barpolar": [
           {
            "marker": {
             "line": {
              "color": "#E5ECF6",
              "width": 0.5
             },
             "pattern": {
              "fillmode": "overlay",
              "size": 10,
              "solidity": 0.2
             }
            },
            "type": "barpolar"
           }
          ],
          "pie": [
           {
            "automargin": true,
            "type": "pie"
           }
          ]
         },
         "layout": {
          "autotypenumbers": "strict",
          "colorway": [
           "#636efa",
           "#EF553B",
           "#00cc96",
           "#ab63fa",
           "#FFA15A",
           "#19d3f3",
           "#FF6692",
           "#B6E880",
           "#FF97FF",
           "#FECB52"
          ],
          "font": {
           "color": "#2a3f5f"
          },
          "hovermode": "closest",
          "hoverlabel": {
           "align": "left"
          },
          "paper_bgcolor": "white",
          "plot_bgcolor": "#E5ECF6",
          "polar": {
           "bgcolor": "#E5ECF6",
           "angularaxis": {
            "gridcolor": "white",
            "linecolor": "white",
            "ticks": ""
           },
           "radialaxis": {
            "gridcolor": "white",
            "linecolor": "white",
            "ticks": ""
           }
          },
          "ternary": {
           "bgcolor": "#E5ECF6",
           "aaxis": {
            "gridcolor": "white",
            "linecolor": "white",
            "ticks": ""
           },
           "baxis": {
            "gridcolor": "white",
            "linecolor": "white",
            "ticks": ""
           },
           "caxis": {
            "gridcolor": "white",
            "linecolor": "white",
            "ticks": ""
           }
          },
          "coloraxis": {
           "colorbar": {
            "outlinewidth": 0,
            "ticks": ""
           }
          },
          "colorscale": {
           "sequential": [
            [
             0.0,
             "#0d0887"
            ],
            [
             0.1111111111111111,
             "#46039f"
            ],
            [
             0.2222222222222222,
             "#7201a8"
            ],
            [
             0.3333333333333333,
             "#9c179e"
            ],
            [
             0.4444444444444444,
             "#bd3786"
            ],
            [
             0.5555555555555556,
             "#d8576b"
            ],
            [
             0.6666666666666666,
             "#ed7953"
            ],
            [
             0.7777777777777778,
             "#fb9f3a"
            ],
            [
             0.8888888888888888,
             "#fdca26"
            ],
            [
             1.0,
             "#f0f921"
            ]
           ],
           "sequentialminus": [
            [
             0.0,
             "#0d0887"
            ],
            [
             0.1111111111111111,
             "#46039f"
            ],
            [
             0.2222222222222222,
             "#7201a8"
            ],
            [
             0.3333333333333333,
             "#9c179e"
            ],
            [
             0.4444444444444444,
             "#bd3786"
            ],
            [
             0.5555555555555556,
             "#d8576b"
            ],
            [
             0.6666666666666666,
             "#ed7953"
            ],
            [
             0.7777777777777778,
             "#fb9f3a"
            ],
            [
             0.8888888888888888,
             "#fdca26"
            ],
            [
             1.0,
             "#f0f921"
            ]
           ],
           "diverging": [
            [
             0,
             "#8e0152"
            ],
            [
             0.1,
             "#c51b7d"
            ],
            [
             0.2,
             "#de77ae"
            ],
            [
             0.3,
             "#f1b6da"
            ],
            [
             0.4,
             "#fde0ef"
            ],
            [
             0.5,
             "#f7f7f7"
            ],
            [
             0.6,
             "#e6f5d0"
            ],
            [
             0.7,
             "#b8e186"
            ],
            [
             0.8,
             "#7fbc41"
            ],
            [
             0.9,
             "#4d9221"
            ],
            [
             1,
             "#276419"
            ]
           ]
          },
          "xaxis": {
           "gridcolor": "white",
           "linecolor": "white",
           "ticks": "",
           "title": {
            "standoff": 15
           },
           "zerolinecolor": "white",
           "automargin": true,
           "zerolinewidth": 2
          },
          "yaxis": {
           "gridcolor": "white",
           "linecolor": "white",
           "ticks": "",
           "title": {
            "standoff": 15
           },
           "zerolinecolor": "white",
           "automargin": true,
           "zerolinewidth": 2
          },
          "scene": {
           "xaxis": {
            "backgroundcolor": "#E5ECF6",
            "gridcolor": "white",
            "linecolor": "white",
            "showbackground": true,
            "ticks": "",
            "zerolinecolor": "white",
            "gridwidth": 2
           },
           "yaxis": {
            "backgroundcolor": "#E5ECF6",
            "gridcolor": "white",
            "linecolor": "white",
            "showbackground": true,
            "ticks": "",
            "zerolinecolor": "white",
            "gridwidth": 2
           },
           "zaxis": {
            "backgroundcolor": "#E5ECF6",
            "gridcolor": "white",
            "linecolor": "white",
            "showbackground": true,
            "ticks": "",
            "zerolinecolor": "white",
            "gridwidth": 2
           }
          },
          "shapedefaults": {
           "line": {
            "color": "#2a3f5f"
           }
          },
          "annotationdefaults": {
           "arrowcolor": "#2a3f5f",
           "arrowhead": 0,
           "arrowwidth": 1
          },
          "geo": {
           "bgcolor": "white",
           "landcolor": "#E5ECF6",
           "subunitcolor": "white",
           "showland": true,
           "showlakes": true,
           "lakecolor": "white"
          },
          "title": {
           "x": 0.05
          },
          "mapbox": {
           "style": "light"
          }
         }
        },
        "title": {
         "text": "LSTM — Actual vs Predicted (Test)"
        },
        "xaxis": {
         "title": {
          "text": "Date"
         }
        },
        "yaxis": {
         "title": {
          "text": "Temperature (°C)"
         }
        },
        "hovermode": "x unified"
       },
       "config": {
        "plotlyServerURL": "https://plot.ly"
       }
      }
     },
     "metadata": {},
     "output_type": "display_data",
     "jetTransient": {
      "display_id": null
     }
    },
    {
     "data": {
      "text/plain": [
       "<Figure size 600x400 with 1 Axes>"
      ],
      "image/png": "[encoded data removed]"
     },
     "metadata": {},
     "output_type": "display_data",
     "jetTransient": {
      "display_id": null
     }
    }
   ],
   "execution_count": 27
  },
  {
   "metadata": {
    "ExecuteTime": {
     "end_time": "2025-10-08T18:14:36.375972Z",
     "start_time": "2025-10-08T18:14:36.323943Z"
    }
   },
   "cell_type": "code",
   "source": [
    "leaderboard = pd.DataFrame([\n",
    "    {\"Model\":\"RandomForest\", **rf_val_metrics, **rf_test_metrics},\n",
    "    {\"Model\":\"LSTM\",         **lstm_val_metrics, **lstm_test_metrics}\n",
    "])\n",
    "\n",
    "# Pretty + interactive\n",
    "fig = px.bar(\n",
    "    leaderboard.melt(id_vars=\"Model\", value_vars=[\"RF Test MAE\",\"RF Test RMSE\",\"LSTM Test MAE\",\"LSTM Test RMSE\"] if \"RF Test MAE\" in leaderboard.columns else leaderboard.columns),\n",
    "    x=\"Model\", y=\"value\", color=\"variable\", barmode=\"group\",\n",
    "    title=\"Leaderboard — Key Metrics\"\n",
    ")\n",
    "fig.update_layout(yaxis_title=\"Score (lower is better)\")\n",
    "display(leaderboard)\n",
    "fig.show()"
   ],
   "id": "c2df513f5eeb3164",
   "outputs": [
    {
     "data": {
      "text/plain": [
       "          Model  RF Val MAE  RF Val RMSE  RF Val R2  RF Val MAPE  \\\n",
       "0  RandomForest    0.166034     0.210542   0.995224     0.718833   \n",
       "1          LSTM         NaN          NaN        NaN          NaN   \n",
       "\n",
       "   RF Val Skill Score  RF Test MAE  RF Test RMSE  RF Test R2  RF Test MAPE  \\\n",
       "0            0.906891     0.604995      0.874395    0.919898      2.569948   \n",
       "1                 NaN          NaN           NaN         NaN           NaN   \n",
       "\n",
       "   RF Test Skill Score  LSTM Val MAE  LSTM Val RMSE  LSTM Val R2  \\\n",
       "0             0.613311           NaN            NaN          NaN   \n",
       "1                  NaN      1.521798       1.963104     0.584749   \n",
       "\n",
       "   LSTM Val MAPE  LSTM Test MAE  LSTM Test RMSE  LSTM Test R2  LSTM Test MAPE  \n",
       "0            NaN            NaN             NaN           NaN             NaN  \n",
       "1       6.294309       1.634212        2.150142      0.515645        6.751421  "
      ],
      "text/html": [
       "<div>\n",
       "<style scoped>\n",
       "    .dataframe tbody tr th:only-of-type {\n",
       "        vertical-align: middle;\n",
       "    }\n",
       "\n",
       "    .dataframe tbody tr th {\n",
       "        vertical-align: top;\n",
       "    }\n",
       "\n",
       "    .dataframe thead th {\n",
       "        text-align: right;\n",
       "    }\n",
       "</style>\n",
       "<table border=\"1\" class=\"dataframe\">\n",
       "  <thead>\n",
       "    <tr style=\"text-align: right;\">\n",
       "      <th></th>\n",
       "      <th>Model</th>\n",
       "      <th>RF Val MAE</th>\n",
       "      <th>RF Val RMSE</th>\n",
       "      <th>RF Val R2</th>\n",
       "      <th>RF Val MAPE</th>\n",
       "      <th>RF Val Skill Score</th>\n",
       "      <th>RF Test MAE</th>\n",
       "      <th>RF Test RMSE</th>\n",
       "      <th>RF Test R2</th>\n",
       "      <th>RF Test MAPE</th>\n",
       "      <th>RF Test Skill Score</th>\n",
       "      <th>LSTM Val MAE</th>\n",
       "      <th>LSTM Val RMSE</th>\n",
       "      <th>LSTM Val R2</th>\n",
       "      <th>LSTM Val MAPE</th>\n",
       "      <th>LSTM Test MAE</th>\n",
       "      <th>LSTM Test RMSE</th>\n",
       "      <th>LSTM Test R2</th>\n",
       "      <th>LSTM Test MAPE</th>\n",
       "    </tr>\n",
       "  </thead>\n",
       "  <tbody>\n",
       "    <tr>\n",
       "      <th>0</th>\n",
       "      <td>RandomForest</td>\n",
       "      <td>0.166034</td>\n",
       "      <td>0.210542</td>\n",
       "      <td>0.995224</td>\n",
       "      <td>0.718833</td>\n",
       "      <td>0.906891</td>\n",
       "      <td>0.604995</td>\n",
       "      <td>0.874395</td>\n",
       "      <td>0.919898</td>\n",
       "      <td>2.569948</td>\n",
       "      <td>0.613311</td>\n",
       "      <td>NaN</td>\n",
       "      <td>NaN</td>\n",
       "      <td>NaN</td>\n",
       "      <td>NaN</td>\n",
       "      <td>NaN</td>\n",
       "      <td>NaN</td>\n",
       "      <td>NaN</td>\n",
       "      <td>NaN</td>\n",
       "    </tr>\n",
       "    <tr>\n",
       "      <th>1</th>\n",
       "      <td>LSTM</td>\n",
       "      <td>NaN</td>\n",
       "      <td>NaN</td>\n",
       "      <td>NaN</td>\n",
       "      <td>NaN</td>\n",
       "      <td>NaN</td>\n",
       "      <td>NaN</td>\n",
       "      <td>NaN</td>\n",
       "      <td>NaN</td>\n",
       "      <td>NaN</td>\n",
       "      <td>NaN</td>\n",
       "      <td>1.521798</td>\n",
       "      <td>1.963104</td>\n",
       "      <td>0.584749</td>\n",
       "      <td>6.294309</td>\n",
       "      <td>1.634212</td>\n",
       "      <td>2.150142</td>\n",
       "      <td>0.515645</td>\n",
       "      <td>6.751421</td>\n",
       "    </tr>\n",
       "  </tbody>\n",
       "</table>\n",
       "</div>"
      ]
     },
     "metadata": {},
     "output_type": "display_data",
     "jetTransient": {
      "display_id": null
     }
    },
    {
     "data": {
      "application/vnd.plotly.v1+json": {
       "data": [
        {
         "alignmentgroup": "True",
         "hovertemplate": "variable=RF Test MAE<br>Model=%{x}<br>value=%{y}<extra></extra>",
         "legendgroup": "RF Test MAE",
         "marker": {
          "color": "#636efa",
          "pattern": {
           "shape": ""
          }
         },
         "name": "RF Test MAE",
         "offsetgroup": "RF Test MAE",
         "orientation": "v",
         "showlegend": true,
         "textposition": "auto",
         "x": [
          "RandomForest",
          "LSTM"
         ],
         "xaxis": "x",
         "y": {
          "dtype": "f8",
          "bdata": "/dNRIx9c4z8AAAAAAAD4fw=="
         },
         "yaxis": "y",
         "type": "bar"
        },
        {
         "alignmentgroup": "True",
         "hovertemplate": "variable=RF Test RMSE<br>Model=%{x}<br>value=%{y}<extra></extra>",
         "legendgroup": "RF Test RMSE",
         "marker": {
          "color": "#EF553B",
          "pattern": {
           "shape": ""
          }
         },
         "name": "RF Test RMSE",
         "offsetgroup": "RF Test RMSE",
         "orientation": "v",
         "showlegend": true,
         "textposition": "auto",
         "x": [
          "RandomForest",
          "LSTM"
         ],
         "xaxis": "x",
         "y": {
          "dtype": "f8",
          "bdata": "e8WGHgz76z8AAAAAAAD4fw=="
         },
         "yaxis": "y",
         "type": "bar"
        },
        {
         "alignmentgroup": "True",
         "hovertemplate": "variable=LSTM Test MAE<br>Model=%{x}<br>value=%{y}<extra></extra>",
         "legendgroup": "LSTM Test MAE",
         "marker": {
          "color": "#00cc96",
          "pattern": {
           "shape": ""
          }
         },
         "name": "LSTM Test MAE",
         "offsetgroup": "LSTM Test MAE",
         "orientation": "v",
         "showlegend": true,
         "textposition": "auto",
         "x": [
          "RandomForest",
          "LSTM"
         ],
         "xaxis": "x",
         "y": {
          "dtype": "f8",
          "bdata": "AAAAAAAA+H8V+awbuyX6Pw=="
         },
         "yaxis": "y",
         "type": "bar"
        },
        {
         "alignmentgroup": "True",
         "hovertemplate": "variable=LSTM Test RMSE<br>Model=%{x}<br>value=%{y}<extra></extra>",
         "legendgroup": "LSTM Test RMSE",
         "marker": {
          "color": "#ab63fa",
          "pattern": {
           "shape": ""
          }
         },
         "name": "LSTM Test RMSE",
         "offsetgroup": "LSTM Test RMSE",
         "orientation": "v",
         "showlegend": true,
         "textposition": "auto",
         "x": [
          "RandomForest",
          "LSTM"
         ],
         "xaxis": "x",
         "y": {
          "dtype": "f8",
          "bdata": "AAAAAAAA+H98ZOmtfTMBQA=="
         },
         "yaxis": "y",
         "type": "bar"
        }
       ],
       "layout": {
        "template": {
         "data": {
          "histogram2dcontour": [
           {
            "type": "histogram2dcontour",
            "colorbar": {
             "outlinewidth": 0,
             "ticks": ""
            },
            "colorscale": [
             [
              0.0,
              "#0d0887"
             ],
             [
              0.1111111111111111,
              "#46039f"
             ],
             [
              0.2222222222222222,
              "#7201a8"
             ],
             [
              0.3333333333333333,
              "#9c179e"
             ],
             [
              0.4444444444444444,
              "#bd3786"
             ],
             [
              0.5555555555555556,
              "#d8576b"
             ],
             [
              0.6666666666666666,
              "#ed7953"
             ],
             [
              0.7777777777777778,
              "#fb9f3a"
             ],
             [
              0.8888888888888888,
              "#fdca26"
             ],
             [
              1.0,
              "#f0f921"
             ]
            ]
           }
          ],
          "choropleth": [
           {
            "type": "choropleth",
            "colorbar": {
             "outlinewidth": 0,
             "ticks": ""
            }
           }
          ],
          "histogram2d": [
           {
            "type": "histogram2d",
            "colorbar": {
             "outlinewidth": 0,
             "ticks": ""
            },
            "colorscale": [
             [
              0.0,
              "#0d0887"
             ],
             [
              0.1111111111111111,
              "#46039f"
             ],
             [
              0.2222222222222222,
              "#7201a8"
             ],
             [
              0.3333333333333333,
              "#9c179e"
             ],
             [
              0.4444444444444444,
              "#bd3786"
             ],
             [
              0.5555555555555556,
              "#d8576b"
             ],
             [
              0.6666666666666666,
              "#ed7953"
             ],
             [
              0.7777777777777778,
              "#fb9f3a"
             ],
             [
              0.8888888888888888,
              "#fdca26"
             ],
             [
              1.0,
              "#f0f921"
             ]
            ]
           }
          ],
          "heatmap": [
           {
            "type": "heatmap",
            "colorbar": {
             "outlinewidth": 0,
             "ticks": ""
            },
            "colorscale": [
             [
              0.0,
              "#0d0887"
             ],
             [
              0.1111111111111111,
              "#46039f"
             ],
             [
              0.2222222222222222,
              "#7201a8"
             ],
             [
              0.3333333333333333,
              "#9c179e"
             ],
             [
              0.4444444444444444,
              "#bd3786"
             ],
             [
              0.5555555555555556,
              "#d8576b"
             ],
             [
              0.6666666666666666,
              "#ed7953"
             ],
             [
              0.7777777777777778,
              "#fb9f3a"
             ],
             [
              0.8888888888888888,
              "#fdca26"
             ],
             [
              1.0,
              "#f0f921"
             ]
            ]
           }
          ],
          "contourcarpet": [
           {
            "type": "contourcarpet",
            "colorbar": {
             "outlinewidth": 0,
             "ticks": ""
            }
           }
          ],
          "contour": [
           {
            "type": "contour",
            "colorbar": {
             "outlinewidth": 0,
             "ticks": ""
            },
            "colorscale": [
             [
              0.0,
              "#0d0887"
             ],
             [
              0.1111111111111111,
              "#46039f"
             ],
             [
              0.2222222222222222,
              "#7201a8"
             ],
             [
              0.3333333333333333,
              "#9c179e"
             ],
             [
              0.4444444444444444,
              "#bd3786"
             ],
             [
              0.5555555555555556,
              "#d8576b"
             ],
             [
              0.6666666666666666,
              "#ed7953"
             ],
             [
              0.7777777777777778,
              "#fb9f3a"
             ],
             [
              0.8888888888888888,
              "#fdca26"
             ],
             [
              1.0,
              "#f0f921"
             ]
            ]
           }
          ],
          "surface": [
           {
            "type": "surface",
            "colorbar": {
             "outlinewidth": 0,
             "ticks": ""
            },
            "colorscale": [
             [
              0.0,
              "#0d0887"
             ],
             [
              0.1111111111111111,
              "#46039f"
             ],
             [
              0.2222222222222222,
              "#7201a8"
             ],
             [
              0.3333333333333333,
              "#9c179e"
             ],
             [
              0.4444444444444444,
              "#bd3786"
             ],
             [
              0.5555555555555556,
              "#d8576b"
             ],
             [
              0.6666666666666666,
              "#ed7953"
             ],
             [
              0.7777777777777778,
              "#fb9f3a"
             ],
             [
              0.8888888888888888,
              "#fdca26"
             ],
             [
              1.0,
              "#f0f921"
             ]
            ]
           }
          ],
          "mesh3d": [
           {
            "type": "mesh3d",
            "colorbar": {
             "outlinewidth": 0,
             "ticks": ""
            }
           }
          ],
          "scatter": [
           {
            "fillpattern": {
             "fillmode": "overlay",
             "size": 10,
             "solidity": 0.2
            },
            "type": "scatter"
           }
          ],
          "parcoords": [
           {
            "type": "parcoords",
            "line": {
             "colorbar": {
              "outlinewidth": 0,
              "ticks": ""
             }
            }
           }
          ],
          "scatterpolargl": [
           {
            "type": "scatterpolargl",
            "marker": {
             "colorbar": {
              "outlinewidth": 0,
              "ticks": ""
             }
            }
           }
          ],
          "bar": [
           {
            "error_x": {
             "color": "#2a3f5f"
            },
            "error_y": {
             "color": "#2a3f5f"
            },
            "marker": {
             "line": {
              "color": "#E5ECF6",
              "width": 0.5
             },
             "pattern": {
              "fillmode": "overlay",
              "size": 10,
              "solidity": 0.2
             }
            },
            "type": "bar"
           }
          ],
          "scattergeo": [
           {
            "type": "scattergeo",
            "marker": {
             "colorbar": {
              "outlinewidth": 0,
              "ticks": ""
             }
            }
           }
          ],
          "scatterpolar": [
           {
            "type": "scatterpolar",
            "marker": {
             "colorbar": {
              "outlinewidth": 0,
              "ticks": ""
             }
            }
           }
          ],
          "histogram": [
           {
            "marker": {
             "pattern": {
              "fillmode": "overlay",
              "size": 10,
              "solidity": 0.2
             }
            },
            "type": "histogram"
           }
          ],
          "scattergl": [
           {
            "type": "scattergl",
            "marker": {
             "colorbar": {
              "outlinewidth": 0,
              "ticks": ""
             }
            }
           }
          ],
          "scatter3d": [
           {
            "type": "scatter3d",
            "line": {
             "colorbar": {
              "outlinewidth": 0,
              "ticks": ""
             }
            },
            "marker": {
             "colorbar": {
              "outlinewidth": 0,
              "ticks": ""
             }
            }
           }
          ],
          "scattermap": [
           {
            "type": "scattermap",
            "marker": {
             "colorbar": {
              "outlinewidth": 0,
              "ticks": ""
             }
            }
           }
          ],
          "scattermapbox": [
           {
            "type": "scattermapbox",
            "marker": {
             "colorbar": {
              "outlinewidth": 0,
              "ticks": ""
             }
            }
           }
          ],
          "scatterternary": [
           {
            "type": "scatterternary",
            "marker": {
             "colorbar": {
              "outlinewidth": 0,
              "ticks": ""
             }
            }
           }
          ],
          "scattercarpet": [
           {
            "type": "scattercarpet",
            "marker": {
             "colorbar": {
              "outlinewidth": 0,
              "ticks": ""
             }
            }
           }
          ],
          "carpet": [
           {
            "aaxis": {
             "endlinecolor": "#2a3f5f",
             "gridcolor": "white",
             "linecolor": "white",
             "minorgridcolor": "white",
             "startlinecolor": "#2a3f5f"
            },
            "baxis": {
             "endlinecolor": "#2a3f5f",
             "gridcolor": "white",
             "linecolor": "white",
             "minorgridcolor": "white",
             "startlinecolor": "#2a3f5f"
            },
            "type": "carpet"
           }
          ],
          "table": [
           {
            "cells": {
             "fill": {
              "color": "#EBF0F8"
             },
             "line": {
              "color": "white"
             }
            },
            "header": {
             "fill": {
              "color": "#C8D4E3"
             },
             "line": {
              "color": "white"
             }
            },
            "type": "table"
           }
          ],
          "barpolar": [
           {
            "marker": {
             "line": {
              "color": "#E5ECF6",
              "width": 0.5
             },
             "pattern": {
              "fillmode": "overlay",
              "size": 10,
              "solidity": 0.2
             }
            },
            "type": "barpolar"
           }
          ],
          "pie": [
           {
            "automargin": true,
            "type": "pie"
           }
          ]
         },
         "layout": {
          "autotypenumbers": "strict",
          "colorway": [
           "#636efa",
           "#EF553B",
           "#00cc96",
           "#ab63fa",
           "#FFA15A",
           "#19d3f3",
           "#FF6692",
           "#B6E880",
           "#FF97FF",
           "#FECB52"
          ],
          "font": {
           "color": "#2a3f5f"
          },
          "hovermode": "closest",
          "hoverlabel": {
           "align": "left"
          },
          "paper_bgcolor": "white",
          "plot_bgcolor": "#E5ECF6",
          "polar": {
           "bgcolor": "#E5ECF6",
           "angularaxis": {
            "gridcolor": "white",
            "linecolor": "white",
            "ticks": ""
           },
           "radialaxis": {
            "gridcolor": "white",
            "linecolor": "white",
            "ticks": ""
           }
          },
          "ternary": {
           "bgcolor": "#E5ECF6",
           "aaxis": {
            "gridcolor": "white",
            "linecolor": "white",
            "ticks": ""
           },
           "baxis": {
            "gridcolor": "white",
            "linecolor": "white",
            "ticks": ""
           },
           "caxis": {
            "gridcolor": "white",
            "linecolor": "white",
            "ticks": ""
           }
          },
          "coloraxis": {
           "colorbar": {
            "outlinewidth": 0,
            "ticks": ""
           }
          },
          "colorscale": {
           "sequential": [
            [
             0.0,
             "#0d0887"
            ],
            [
             0.1111111111111111,
             "#46039f"
            ],
            [
             0.2222222222222222,
             "#7201a8"
            ],
            [
             0.3333333333333333,
             "#9c179e"
            ],
            [
             0.4444444444444444,
             "#bd3786"
            ],
            [
             0.5555555555555556,
             "#d8576b"
            ],
            [
             0.6666666666666666,
             "#ed7953"
            ],
            [
             0.7777777777777778,
             "#fb9f3a"
            ],
            [
             0.8888888888888888,
             "#fdca26"
            ],
            [
             1.0,
             "#f0f921"
            ]
           ],
           "sequentialminus": [
            [
             0.0,
             "#0d0887"
            ],
            [
             0.1111111111111111,
             "#46039f"
            ],
            [
             0.2222222222222222,
             "#7201a8"
            ],
            [
             0.3333333333333333,
             "#9c179e"
            ],
            [
             0.4444444444444444,
             "#bd3786"
            ],
            [
             0.5555555555555556,
             "#d8576b"
            ],
            [
             0.6666666666666666,
             "#ed7953"
            ],
            [
             0.7777777777777778,
             "#fb9f3a"
            ],
            [
             0.8888888888888888,
             "#fdca26"
            ],
            [
             1.0,
             "#f0f921"
            ]
           ],
           "diverging": [
            [
             0,
             "#8e0152"
            ],
            [
             0.1,
             "#c51b7d"
            ],
            [
             0.2,
             "#de77ae"
            ],
            [
             0.3,
             "#f1b6da"
            ],
            [
             0.4,
             "#fde0ef"
            ],
            [
             0.5,
             "#f7f7f7"
            ],
            [
             0.6,
             "#e6f5d0"
            ],
            [
             0.7,
             "#b8e186"
            ],
            [
             0.8,
             "#7fbc41"
            ],
            [
             0.9,
             "#4d9221"
            ],
            [
             1,
             "#276419"
            ]
           ]
          },
          "xaxis": {
           "gridcolor": "white",
           "linecolor": "white",
           "ticks": "",
           "title": {
            "standoff": 15
           },
           "zerolinecolor": "white",
           "automargin": true,
           "zerolinewidth": 2
          },
          "yaxis": {
           "gridcolor": "white",
           "linecolor": "white",
           "ticks": "",
           "title": {
            "standoff": 15
           },
           "zerolinecolor": "white",
           "automargin": true,
           "zerolinewidth": 2
          },
          "scene": {
           "xaxis": {
            "backgroundcolor": "#E5ECF6",
            "gridcolor": "white",
            "linecolor": "white",
            "showbackground": true,
            "ticks": "",
            "zerolinecolor": "white",
            "gridwidth": 2
           },
           "yaxis": {
            "backgroundcolor": "#E5ECF6",
            "gridcolor": "white",
            "linecolor": "white",
            "showbackground": true,
            "ticks": "",
            "zerolinecolor": "white",
            "gridwidth": 2
           },
           "zaxis": {
            "backgroundcolor": "#E5ECF6",
            "gridcolor": "white",
            "linecolor": "white",
            "showbackground": true,
            "ticks": "",
            "zerolinecolor": "white",
            "gridwidth": 2
           }
          },
          "shapedefaults": {
           "line": {
            "color": "#2a3f5f"
           }
          },
          "annotationdefaults": {
           "arrowcolor": "#2a3f5f",
           "arrowhead": 0,
           "arrowwidth": 1
          },
          "geo": {
           "bgcolor": "white",
           "landcolor": "#E5ECF6",
           "subunitcolor": "white",
           "showland": true,
           "showlakes": true,
           "lakecolor": "white"
          },
          "title": {
           "x": 0.05
          },
          "mapbox": {
           "style": "light"
          }
         }
        },
        "xaxis": {
         "anchor": "y",
         "domain": [
          0.0,
          1.0
         ],
         "title": {
          "text": "Model"
         }
        },
        "yaxis": {
         "anchor": "x",
         "domain": [
          0.0,
          1.0
         ],
         "title": {
          "text": "Score (lower is better)"
         }
        },
        "legend": {
         "title": {
          "text": "variable"
         },
         "tracegroupgap": 0
        },
        "title": {
         "text": "Leaderboard — Key Metrics"
        },
        "barmode": "group"
       },
       "config": {
        "plotlyServerURL": "https://plot.ly"
       }
      }
     },
     "metadata": {},
     "output_type": "display_data",
     "jetTransient": {
      "display_id": null
     }
    }
   ],
   "execution_count": 28
  }
 ],
 "metadata": {
  "kernelspec": {
   "display_name": "Python 3",
   "language": "python",
   "name": "python3"
  },
  "language_info": {
   "codemirror_mode": {
    "name": "ipython",
    "version": 2
   },
   "file_extension": ".py",
   "mimetype": "text/x-python",
   "name": "python",
   "nbconvert_exporter": "python",
   "pygments_lexer": "ipython2",
   "version": "2.7.6"
  }
 },
 "nbformat": 4,
 "nbformat_minor": 5
}
